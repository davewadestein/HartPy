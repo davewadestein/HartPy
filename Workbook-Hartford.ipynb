{
 "cells": [
  {
   "cell_type": "markdown",
   "id": "41a67e86",
   "metadata": {},
   "source": [
    "# Sandboxes will be available til 7/1\n",
    "* but be sure to download periodically just in case of a catastrophe\n",
    "* remember www.anaconda.com if you can install something (perhaps on your personal machine)"
   ]
  },
  {
   "cell_type": "markdown",
   "id": "a81140ae",
   "metadata": {},
   "source": [
    "# Important things about Python\n",
    "* everything in Python is an object\n",
    "  * comprised of multiple parts\n",
    "  * it sits in memory and we can inspect it\n",
    "* basic data types (scalars) vs. containers\n",
    "  * basic data types: _int, float, bool_\n",
    "  * containers: hold 0+ values\n",
    "     * str, list, dict, set\n",
    "* mutable vs. immutable types\n",
    "  * immutable: str, tuple\n",
    "  * mutable: list, dict, set\n",
    "* built-in function DO NOT change the objects passed to them\n",
    "  * if you want to change an object, you must invoke a method on that object\n",
    "  * (\"you must run a type-specific function on that object\")\n",
    "    * not all methods change the objects they are applied to (or invoked on)\n",
    "* Python allows \"truthiness\" as opposed to just True/False when evaluating Boolean expression\n",
    "  * non-zero values are considered True (even negatives)\n",
    "    * 0, 0.0 are considered False\n",
    "  * non-empty containers are considered True\n",
    "    * empty containers are considered False\n",
    "  * None is considered False\n",
    "* Python is \"duck typed\"\n",
    "  * \"If it walks like a duck and it quacks like a duck, I'm going to call it a duck\"\n",
    "  * functions don't expect certain types, they expect certain behaviors\n",
    "    * sorted function expects iterability\n",
    "    * sqrt and other math functions expect numbers"
   ]
  },
  {
   "cell_type": "markdown",
   "id": "bbde57a7",
   "metadata": {},
   "source": [
    "# Pythonic\n",
    "* use negative indexing to make indexing strings more readable\n",
    "  * __`[-1]`__ always means the last item in a container\n",
    "* changes types of things at will to make them easier to work with\n",
    "* don't use indices in for loops when you don't need them\n",
    "* compose functions when you can, i.e., __`input(...).split()`__ or __`input(...).lower().split()`__\n",
    "* when a for loop does NOT need the loop variable in the BODY of the loop, use _ as the loop variable"
   ]
  },
  {
   "cell_type": "markdown",
   "id": "62eb05b5",
   "metadata": {},
   "source": [
    "# Programmer stuff\n",
    "* DRY = Don't Repeat Yourself\n",
    "* pick good variable names\n",
    "* write clear code!\n",
    "  * prefer clear code to comments\n",
    "* \"Programs are written for others to read and only incidentally for computers to execute\" –Hal Abelson\n",
    "* Eagleson's Law: Code written more than 6 months ago might as well have been written by someone else!\n",
    "* \"Performance doesn't matter until it matters, and it rarely matters.\" -DWS\n",
    "  * programmers are notoriously bad at intuiting what is slowing down their code\n",
    "* We read code 10x more than we write code"
   ]
  },
  {
   "cell_type": "code",
   "execution_count": 1,
   "id": "18fe47ae",
   "metadata": {
    "scrolled": true
   },
   "outputs": [
    {
     "name": "stdout",
     "output_type": "stream",
     "text": [
      "The Zen of Python, by Tim Peters\n",
      "\n",
      "Beautiful is better than ugly.\n",
      "Explicit is better than implicit.\n",
      "Simple is better than complex.\n",
      "Complex is better than complicated.\n",
      "Flat is better than nested.\n",
      "Sparse is better than dense.\n",
      "Readability counts.\n",
      "Special cases aren't special enough to break the rules.\n",
      "Although practicality beats purity.\n",
      "Errors should never pass silently.\n",
      "Unless explicitly silenced.\n",
      "In the face of ambiguity, refuse the temptation to guess.\n",
      "There should be one-- and preferably only one --obvious way to do it.\n",
      "Although that way may not be obvious at first unless you're Dutch.\n",
      "Now is better than never.\n",
      "Although never is often better than *right* now.\n",
      "If the implementation is hard to explain, it's a bad idea.\n",
      "If the implementation is easy to explain, it may be a good idea.\n",
      "Namespaces are one honking great idea -- let's do more of those!\n"
     ]
    }
   ],
   "source": [
    "import this"
   ]
  },
  {
   "cell_type": "markdown",
   "id": "3cbd35a0",
   "metadata": {},
   "source": [
    "# Important things about learning (and teaching)\n",
    "* know when to (and when not to) go down the rabbit hole!\n",
    "  * zoom in / zoom out"
   ]
  },
  {
   "cell_type": "code",
   "execution_count": 2,
   "id": "b694725b",
   "metadata": {},
   "outputs": [
    {
     "data": {
      "text/plain": [
       "139819970833568"
      ]
     },
     "execution_count": 2,
     "metadata": {},
     "output_type": "execute_result"
    }
   ],
   "source": [
    "id(this)"
   ]
  },
  {
   "cell_type": "code",
   "execution_count": 3,
   "id": "e0908e06",
   "metadata": {},
   "outputs": [],
   "source": [
    "import this"
   ]
  },
  {
   "cell_type": "code",
   "execution_count": 4,
   "id": "3ae19349",
   "metadata": {},
   "outputs": [
    {
     "data": {
      "text/plain": [
       "['__builtins__',\n",
       " '__cached__',\n",
       " '__doc__',\n",
       " '__file__',\n",
       " '__loader__',\n",
       " '__name__',\n",
       " '__package__',\n",
       " '__spec__',\n",
       " 'c',\n",
       " 'd',\n",
       " 'i',\n",
       " 's']"
      ]
     },
     "execution_count": 4,
     "metadata": {},
     "output_type": "execute_result"
    }
   ],
   "source": [
    "dir(this)"
   ]
  },
  {
   "cell_type": "code",
   "execution_count": 5,
   "id": "c9aeb47b",
   "metadata": {},
   "outputs": [
    {
     "data": {
      "text/plain": [
       "3.0"
      ]
     },
     "execution_count": 5,
     "metadata": {},
     "output_type": "execute_result"
    }
   ],
   "source": [
    "3."
   ]
  },
  {
   "cell_type": "code",
   "execution_count": 6,
   "id": "363e72ba",
   "metadata": {},
   "outputs": [],
   "source": [
    "number = 3."
   ]
  },
  {
   "cell_type": "code",
   "execution_count": 7,
   "id": "8fa4248d",
   "metadata": {},
   "outputs": [
    {
     "data": {
      "text/plain": [
       "float"
      ]
     },
     "execution_count": 7,
     "metadata": {},
     "output_type": "execute_result"
    }
   ],
   "source": [
    "type(number)"
   ]
  },
  {
   "cell_type": "code",
   "execution_count": 8,
   "id": "c44025dd",
   "metadata": {},
   "outputs": [
    {
     "data": {
      "text/plain": [
       "int"
      ]
     },
     "execution_count": 8,
     "metadata": {},
     "output_type": "execute_result"
    }
   ],
   "source": [
    "type(-3)"
   ]
  },
  {
   "cell_type": "code",
   "execution_count": 14,
   "id": "d82e2c8c",
   "metadata": {},
   "outputs": [],
   "source": [
    "b = False\n",
    "c = True"
   ]
  },
  {
   "cell_type": "code",
   "execution_count": 15,
   "id": "f59978b3",
   "metadata": {},
   "outputs": [
    {
     "name": "stdout",
     "output_type": "stream",
     "text": [
      "1\n"
     ]
    }
   ],
   "source": [
    "print(b + c)"
   ]
  },
  {
   "cell_type": "code",
   "execution_count": 16,
   "id": "2a3029a1",
   "metadata": {},
   "outputs": [],
   "source": [
    "first, last = 'Grace', 'Hopper'"
   ]
  },
  {
   "cell_type": "code",
   "execution_count": 17,
   "id": "7912e528",
   "metadata": {},
   "outputs": [
    {
     "data": {
      "text/plain": [
       "'Grace'"
      ]
     },
     "execution_count": 17,
     "metadata": {},
     "output_type": "execute_result"
    }
   ],
   "source": [
    "first"
   ]
  },
  {
   "cell_type": "code",
   "execution_count": 18,
   "id": "56e12068",
   "metadata": {},
   "outputs": [
    {
     "data": {
      "text/plain": [
       "'Hopper'"
      ]
     },
     "execution_count": 18,
     "metadata": {},
     "output_type": "execute_result"
    }
   ],
   "source": [
    "last"
   ]
  },
  {
   "cell_type": "code",
   "execution_count": 19,
   "id": "8517280d",
   "metadata": {},
   "outputs": [
    {
     "data": {
      "text/plain": [
       "'53.3'"
      ]
     },
     "execution_count": 19,
     "metadata": {},
     "output_type": "execute_result"
    }
   ],
   "source": [
    "str(53.3)"
   ]
  },
  {
   "cell_type": "code",
   "execution_count": 20,
   "id": "07cef18b",
   "metadata": {},
   "outputs": [
    {
     "data": {
      "text/plain": [
       "'False'"
      ]
     },
     "execution_count": 20,
     "metadata": {},
     "output_type": "execute_result"
    }
   ],
   "source": [
    "str(False)"
   ]
  },
  {
   "cell_type": "code",
   "execution_count": null,
   "id": "93ec507c",
   "metadata": {},
   "outputs": [],
   "source": [
    "str(false)"
   ]
  },
  {
   "cell_type": "code",
   "execution_count": 21,
   "id": "c652a919",
   "metadata": {},
   "outputs": [
    {
     "data": {
      "text/plain": [
       "300"
      ]
     },
     "execution_count": 21,
     "metadata": {},
     "output_type": "execute_result"
    }
   ],
   "source": [
    "int('300')"
   ]
  },
  {
   "cell_type": "code",
   "execution_count": 22,
   "id": "542bf299",
   "metadata": {},
   "outputs": [
    {
     "ename": "ValueError",
     "evalue": "invalid literal for int() with base 10: '30x'",
     "output_type": "error",
     "traceback": [
      "\u001b[0;31m---------------------------------------------------------------------------\u001b[0m",
      "\u001b[0;31mValueError\u001b[0m                                Traceback (most recent call last)",
      "Input \u001b[0;32mIn [22]\u001b[0m, in \u001b[0;36m<module>\u001b[0;34m\u001b[0m\n\u001b[0;32m----> 1\u001b[0m \u001b[38;5;28;43mint\u001b[39;49m\u001b[43m(\u001b[49m\u001b[38;5;124;43m'\u001b[39;49m\u001b[38;5;124;43m30x\u001b[39;49m\u001b[38;5;124;43m'\u001b[39;49m\u001b[43m)\u001b[49m\n",
      "\u001b[0;31mValueError\u001b[0m: invalid literal for int() with base 10: '30x'"
     ]
    }
   ],
   "source": [
    "int('30x')"
   ]
  },
  {
   "cell_type": "code",
   "execution_count": 23,
   "id": "61ad3f56",
   "metadata": {},
   "outputs": [
    {
     "data": {
      "text/plain": [
       "bool"
      ]
     },
     "execution_count": 23,
     "metadata": {},
     "output_type": "execute_result"
    }
   ],
   "source": [
    "type(False)"
   ]
  },
  {
   "cell_type": "code",
   "execution_count": 24,
   "id": "d58c0481",
   "metadata": {},
   "outputs": [
    {
     "data": {
      "text/plain": [
       "str"
      ]
     },
     "execution_count": 24,
     "metadata": {},
     "output_type": "execute_result"
    }
   ],
   "source": [
    "type('False')"
   ]
  },
  {
   "cell_type": "code",
   "execution_count": 25,
   "id": "d45d6621",
   "metadata": {},
   "outputs": [
    {
     "data": {
      "text/plain": [
       "float"
      ]
     },
     "execution_count": 25,
     "metadata": {},
     "output_type": "execute_result"
    }
   ],
   "source": [
    "type(3.5)"
   ]
  },
  {
   "cell_type": "code",
   "execution_count": 33,
   "id": "1fa567c6",
   "metadata": {},
   "outputs": [
    {
     "name": "stdout",
     "output_type": "stream",
     "text": [
      "first line\n",
      "last line\n"
     ]
    }
   ],
   "source": [
    "# if we put multiple lines in a cell,\n",
    "# then all of the lines except the final line\n",
    "# are run in \"program mode\"\n",
    "# the final line is run in \"interactive mode\"\n",
    "print('first line')\n",
    "number1 = 11\n",
    "number2 = 5\n",
    "total = number1 + number2 # evaluate the sum of 2 numbers\n",
    "print('last line')"
   ]
  },
  {
   "cell_type": "code",
   "execution_count": 34,
   "id": "d8d6b02c",
   "metadata": {},
   "outputs": [
    {
     "data": {
      "text/plain": [
       "16"
      ]
     },
     "execution_count": 34,
     "metadata": {},
     "output_type": "execute_result"
    }
   ],
   "source": [
    "total"
   ]
  },
  {
   "cell_type": "code",
   "execution_count": 39,
   "id": "877ce4ee",
   "metadata": {},
   "outputs": [
    {
     "data": {
      "text/plain": [
       "3"
      ]
     },
     "execution_count": 39,
     "metadata": {},
     "output_type": "execute_result"
    }
   ],
   "source": [
    "x = 1\n",
    "y = 2\n",
    "x + y"
   ]
  },
  {
   "cell_type": "code",
   "execution_count": 40,
   "id": "b41f1d9e",
   "metadata": {},
   "outputs": [
    {
     "data": {
      "text/plain": [
       "7"
      ]
     },
     "execution_count": 40,
     "metadata": {},
     "output_type": "execute_result"
    }
   ],
   "source": [
    "3 + 4"
   ]
  },
  {
   "cell_type": "code",
   "execution_count": 41,
   "id": "3995d978",
   "metadata": {},
   "outputs": [
    {
     "data": {
      "text/plain": [
       "3"
      ]
     },
     "execution_count": 41,
     "metadata": {},
     "output_type": "execute_result"
    }
   ],
   "source": [
    "1\n",
    "2\n",
    "3"
   ]
  },
  {
   "cell_type": "code",
   "execution_count": 42,
   "id": "9ce356b6",
   "metadata": {},
   "outputs": [
    {
     "data": {
      "text/plain": [
       "builtin_function_or_method"
      ]
     },
     "execution_count": 42,
     "metadata": {},
     "output_type": "execute_result"
    }
   ],
   "source": [
    "type(print)"
   ]
  },
  {
   "cell_type": "code",
   "execution_count": 43,
   "id": "7e96ed1c",
   "metadata": {},
   "outputs": [
    {
     "name": "stdout",
     "output_type": "stream",
     "text": [
      "Hello, world!\n"
     ]
    }
   ],
   "source": [
    "print('Hello, world!')"
   ]
  },
  {
   "cell_type": "code",
   "execution_count": 45,
   "id": "8f7ddf6f",
   "metadata": {},
   "outputs": [],
   "source": [
    "number = int('123')"
   ]
  },
  {
   "cell_type": "code",
   "execution_count": 46,
   "id": "8e1aa28a",
   "metadata": {},
   "outputs": [
    {
     "data": {
      "text/plain": [
       "123"
      ]
     },
     "execution_count": 46,
     "metadata": {},
     "output_type": "execute_result"
    }
   ],
   "source": [
    "number"
   ]
  },
  {
   "cell_type": "code",
   "execution_count": 47,
   "id": "456b5179",
   "metadata": {},
   "outputs": [
    {
     "name": "stdout",
     "output_type": "stream",
     "text": [
      "Hello, world!\n"
     ]
    }
   ],
   "source": [
    "result = print('Hello, world!')"
   ]
  },
  {
   "cell_type": "code",
   "execution_count": 48,
   "id": "e8296fd5",
   "metadata": {},
   "outputs": [
    {
     "name": "stdout",
     "output_type": "stream",
     "text": [
      "None\n"
     ]
    }
   ],
   "source": [
    "print(result)"
   ]
  },
  {
   "cell_type": "code",
   "execution_count": 49,
   "id": "1eca1030",
   "metadata": {},
   "outputs": [
    {
     "name": "stdout",
     "output_type": "stream",
     "text": [
      "something\n"
     ]
    },
    {
     "data": {
      "text/plain": [
       "NoneType"
      ]
     },
     "execution_count": 49,
     "metadata": {},
     "output_type": "execute_result"
    }
   ],
   "source": [
    "type(print('something'))"
   ]
  },
  {
   "cell_type": "code",
   "execution_count": 51,
   "id": "feae959d",
   "metadata": {},
   "outputs": [
    {
     "data": {
      "text/plain": [
       "int"
      ]
     },
     "execution_count": 51,
     "metadata": {},
     "output_type": "execute_result"
    }
   ],
   "source": [
    "type(id(this))"
   ]
  },
  {
   "cell_type": "code",
   "execution_count": 52,
   "id": "36eeef9d",
   "metadata": {},
   "outputs": [
    {
     "name": "stdout",
     "output_type": "stream",
     "text": [
      "Help on built-in function divmod in module builtins:\n",
      "\n",
      "divmod(x, y, /)\n",
      "    Return the tuple (x//y, x%y).  Invariant: div*y + mod == x.\n",
      "\n"
     ]
    }
   ],
   "source": [
    "help(divmod)"
   ]
  },
  {
   "cell_type": "code",
   "execution_count": 53,
   "id": "68744940",
   "metadata": {},
   "outputs": [
    {
     "data": {
      "text/plain": [
       "1000000000000000000000000000000000000000000000000000000000000000000000000000000"
      ]
     },
     "execution_count": 53,
     "metadata": {},
     "output_type": "execute_result"
    }
   ],
   "source": [
    "10 ** 78"
   ]
  },
  {
   "cell_type": "code",
   "execution_count": 54,
   "id": "d89afe1a",
   "metadata": {},
   "outputs": [
    {
     "data": {
      "text/plain": [
       "4"
      ]
     },
     "execution_count": 54,
     "metadata": {},
     "output_type": "execute_result"
    }
   ],
   "source": [
    "2 + 2"
   ]
  },
  {
   "cell_type": "code",
   "execution_count": 57,
   "id": "8d1147c9",
   "metadata": {},
   "outputs": [
    {
     "data": {
      "text/plain": [
       "'twotwo'"
      ]
     },
     "execution_count": 57,
     "metadata": {},
     "output_type": "execute_result"
    }
   ],
   "source": [
    "'two' + 'two'"
   ]
  },
  {
   "cell_type": "code",
   "execution_count": 58,
   "id": "77d8364e",
   "metadata": {},
   "outputs": [
    {
     "data": {
      "text/plain": [
       "6"
      ]
     },
     "execution_count": 58,
     "metadata": {},
     "output_type": "execute_result"
    }
   ],
   "source": [
    "2 * 3"
   ]
  },
  {
   "cell_type": "code",
   "execution_count": 59,
   "id": "23698001",
   "metadata": {},
   "outputs": [
    {
     "data": {
      "text/plain": [
       "'222'"
      ]
     },
     "execution_count": 59,
     "metadata": {},
     "output_type": "execute_result"
    }
   ],
   "source": [
    "'2' * 3"
   ]
  },
  {
   "cell_type": "code",
   "execution_count": 60,
   "id": "5631c4c4",
   "metadata": {},
   "outputs": [
    {
     "data": {
      "text/plain": [
       "'twotwotwo'"
      ]
     },
     "execution_count": 60,
     "metadata": {},
     "output_type": "execute_result"
    }
   ],
   "source": [
    "'two' * 3"
   ]
  },
  {
   "cell_type": "code",
   "execution_count": 62,
   "id": "2ad92e3f",
   "metadata": {},
   "outputs": [],
   "source": [
    "a, b, o, p = 'b', 'a', 'p', 'o'"
   ]
  },
  {
   "cell_type": "code",
   "execution_count": 63,
   "id": "ed3ae3e6",
   "metadata": {},
   "outputs": [
    {
     "data": {
      "text/plain": [
       "'pop'"
      ]
     },
     "execution_count": 63,
     "metadata": {},
     "output_type": "execute_result"
    }
   ],
   "source": [
    "o + p + o"
   ]
  },
  {
   "cell_type": "code",
   "execution_count": 64,
   "id": "d6e49b1d",
   "metadata": {},
   "outputs": [
    {
     "data": {
      "text/plain": [
       "'bbba'"
      ]
     },
     "execution_count": 64,
     "metadata": {},
     "output_type": "execute_result"
    }
   ],
   "source": [
    "a * 3 + b"
   ]
  },
  {
   "cell_type": "code",
   "execution_count": 65,
   "id": "76f7bece",
   "metadata": {},
   "outputs": [
    {
     "data": {
      "text/plain": [
       "'bookkeeper'"
      ]
     },
     "execution_count": 65,
     "metadata": {},
     "output_type": "execute_result"
    }
   ],
   "source": [
    "a + p * 2 + 'k' * 2 + 'e' * 2 + o + 'er'"
   ]
  },
  {
   "cell_type": "code",
   "execution_count": 66,
   "id": "39361edf",
   "metadata": {},
   "outputs": [
    {
     "data": {
      "text/plain": [
       "''"
      ]
     },
     "execution_count": 66,
     "metadata": {},
     "output_type": "execute_result"
    }
   ],
   "source": [
    "''"
   ]
  },
  {
   "cell_type": "code",
   "execution_count": 68,
   "id": "b030eda6",
   "metadata": {},
   "outputs": [],
   "source": [
    "empty_string = ''"
   ]
  },
  {
   "cell_type": "code",
   "execution_count": 69,
   "id": "277f0a1e",
   "metadata": {},
   "outputs": [
    {
     "data": {
      "text/plain": [
       "0"
      ]
     },
     "execution_count": 69,
     "metadata": {},
     "output_type": "execute_result"
    }
   ],
   "source": [
    "len(empty_string)"
   ]
  },
  {
   "cell_type": "code",
   "execution_count": 70,
   "id": "8d79166b",
   "metadata": {},
   "outputs": [],
   "source": [
    "non_empty_string = 'not empty!'"
   ]
  },
  {
   "cell_type": "code",
   "execution_count": 71,
   "id": "5691108c",
   "metadata": {},
   "outputs": [
    {
     "data": {
      "text/plain": [
       "10"
      ]
     },
     "execution_count": 71,
     "metadata": {},
     "output_type": "execute_result"
    }
   ],
   "source": [
    "len(non_empty_string)"
   ]
  },
  {
   "cell_type": "code",
   "execution_count": 72,
   "id": "67655975",
   "metadata": {},
   "outputs": [
    {
     "name": "stdout",
     "output_type": "stream",
     "text": [
      "hi\n"
     ]
    }
   ],
   "source": [
    "print('hi')"
   ]
  },
  {
   "cell_type": "code",
   "execution_count": 73,
   "id": "d51dc47e",
   "metadata": {},
   "outputs": [
    {
     "name": "stdout",
     "output_type": "stream",
     "text": [
      "Enter a number: 45\n"
     ]
    },
    {
     "data": {
      "text/plain": [
       "'45'"
      ]
     },
     "execution_count": 73,
     "metadata": {},
     "output_type": "execute_result"
    }
   ],
   "source": [
    "input('Enter a number: ')"
   ]
  },
  {
   "cell_type": "code",
   "execution_count": 74,
   "id": "3a5b6e80",
   "metadata": {},
   "outputs": [
    {
     "data": {
      "text/plain": [
       "True"
      ]
     },
     "execution_count": 74,
     "metadata": {},
     "output_type": "execute_result"
    }
   ],
   "source": [
    "'s' in 'string'"
   ]
  },
  {
   "cell_type": "code",
   "execution_count": 75,
   "id": "13039525",
   "metadata": {},
   "outputs": [
    {
     "data": {
      "text/plain": [
       "True"
      ]
     },
     "execution_count": 75,
     "metadata": {},
     "output_type": "execute_result"
    }
   ],
   "source": [
    "'i' in 'string'"
   ]
  },
  {
   "cell_type": "code",
   "execution_count": 76,
   "id": "7cbe3460",
   "metadata": {},
   "outputs": [
    {
     "data": {
      "text/plain": [
       "True"
      ]
     },
     "execution_count": 76,
     "metadata": {},
     "output_type": "execute_result"
    }
   ],
   "source": [
    "'tri' in 'string'"
   ]
  },
  {
   "cell_type": "code",
   "execution_count": 77,
   "id": "7061f998",
   "metadata": {},
   "outputs": [],
   "source": [
    "import random"
   ]
  },
  {
   "cell_type": "code",
   "execution_count": 78,
   "id": "1f8f10bd",
   "metadata": {},
   "outputs": [
    {
     "data": {
      "text/plain": [
       "139819930869312"
      ]
     },
     "execution_count": 78,
     "metadata": {},
     "output_type": "execute_result"
    }
   ],
   "source": [
    "id(random)"
   ]
  },
  {
   "cell_type": "code",
   "execution_count": 79,
   "id": "5b8b62fb",
   "metadata": {},
   "outputs": [
    {
     "data": {
      "text/plain": [
       "['BPF',\n",
       " 'LOG4',\n",
       " 'NV_MAGICCONST',\n",
       " 'RECIP_BPF',\n",
       " 'Random',\n",
       " 'SG_MAGICCONST',\n",
       " 'SystemRandom',\n",
       " 'TWOPI',\n",
       " '_ONE',\n",
       " '_Sequence',\n",
       " '_Set',\n",
       " '__all__',\n",
       " '__builtins__',\n",
       " '__cached__',\n",
       " '__doc__',\n",
       " '__file__',\n",
       " '__loader__',\n",
       " '__name__',\n",
       " '__package__',\n",
       " '__spec__',\n",
       " '_accumulate',\n",
       " '_acos',\n",
       " '_bisect',\n",
       " '_ceil',\n",
       " '_cos',\n",
       " '_e',\n",
       " '_exp',\n",
       " '_floor',\n",
       " '_index',\n",
       " '_inst',\n",
       " '_isfinite',\n",
       " '_log',\n",
       " '_os',\n",
       " '_pi',\n",
       " '_random',\n",
       " '_repeat',\n",
       " '_sha512',\n",
       " '_sin',\n",
       " '_sqrt',\n",
       " '_test',\n",
       " '_test_generator',\n",
       " '_urandom',\n",
       " '_warn',\n",
       " 'betavariate',\n",
       " 'choice',\n",
       " 'choices',\n",
       " 'expovariate',\n",
       " 'gammavariate',\n",
       " 'gauss',\n",
       " 'getrandbits',\n",
       " 'getstate',\n",
       " 'lognormvariate',\n",
       " 'normalvariate',\n",
       " 'paretovariate',\n",
       " 'randbytes',\n",
       " 'randint',\n",
       " 'random',\n",
       " 'randrange',\n",
       " 'sample',\n",
       " 'seed',\n",
       " 'setstate',\n",
       " 'shuffle',\n",
       " 'triangular',\n",
       " 'uniform',\n",
       " 'vonmisesvariate',\n",
       " 'weibullvariate']"
      ]
     },
     "execution_count": 79,
     "metadata": {},
     "output_type": "execute_result"
    }
   ],
   "source": [
    "dir(random)"
   ]
  },
  {
   "cell_type": "code",
   "execution_count": 82,
   "id": "22bb093b",
   "metadata": {},
   "outputs": [
    {
     "data": {
      "text/plain": [
       "16"
      ]
     },
     "execution_count": 82,
     "metadata": {},
     "output_type": "execute_result"
    }
   ],
   "source": [
    "random.randint(1, 100)"
   ]
  },
  {
   "cell_type": "markdown",
   "id": "322c389d",
   "metadata": {},
   "source": [
    "## Quick Lab: Loops/Strings\n",
    "* have the user enter a string, then loop through the string to generate (or print) a new string in which every character is duplicated, e.g., \"Python\" => \"PPyytthhoonn\""
   ]
  },
  {
   "cell_type": "code",
   "execution_count": 90,
   "id": "67ac3f81",
   "metadata": {},
   "outputs": [
    {
     "name": "stdout",
     "output_type": "stream",
     "text": [
      "Enter a string: space\n",
      "ssppaaccee\n",
      "ssppaaccee\n",
      "ssppaaccee\n",
      "ssppaaccee"
     ]
    }
   ],
   "source": [
    "string = input('Enter a string: ')\n",
    "for letter in string:\n",
    "    print(letter + letter, end='')\n",
    "print()\n",
    "    \n",
    "# or...\n",
    "for letter in string:\n",
    "    print(letter * 2, end='')\n",
    "print()\n",
    "\n",
    "for letter in string:\n",
    "    print(letter, end=letter)\n",
    "print()\n",
    "\n",
    "for letter in string:\n",
    "    print(letter, letter, sep='', end='')\n",
    "    \n",
    "\n",
    "# or...?"
   ]
  },
  {
   "cell_type": "markdown",
   "id": "17f7d311",
   "metadata": {},
   "source": [
    "## Lab: Loops\n",
    "* Loop through the numbers from 2 to 25 and print out which numbers are prime, and for those numbers which are not prime numbers, you should print them as a product of two factors\n",
    "* Remember that prime = no divisors other than 1 and itself\n",
    "* Don't worry about efficiency, but if you're interested, check out math.sqrt()\n",
    "* example output:\n",
    "<pre>\n",
    "2 is a prime number\n",
    "3 is a prime number\n",
    "4 equals 2 * 2\n",
    "5 is a prime number\n",
    "6 equals 2 * 3\n",
    "7 is a prime number\n",
    "8 equals 2 * 4\n",
    "9 equals 3 * 3\n",
    "10 equals 2 * 5\n",
    "11 is a prime number\n",
    "12 equals 2 * 6\n",
    "13 is a prime number\n",
    "14 equals 2 * 7\n",
    "15 equals 3 * 5\n",
    "16 equals 2 * 8\n",
    "17 is a prime number\n",
    "18 equals 2 * 9\n",
    "19 is a prime number\n",
    "20 equals 2 * 10\n",
    "21 equals 3 * 7\n",
    "22 equals 2 * 11\n",
    "23 is a prime number\n",
    "24 equals 2 * 12\n",
    "25 equals 5 * 5\n",
    "</pre>"
   ]
  },
  {
   "cell_type": "code",
   "execution_count": null,
   "id": "8ce6637e",
   "metadata": {},
   "outputs": [],
   "source": [
    "# first let's test assumptions...\n",
    "# ...let's print out the number + all possible divisors...\n",
    "# if these aren't right, it's not gonna work\n",
    "for number in range(2, 26): # 2..25\n",
    "    print(number, end=': ')\n",
    "    for possible_divisor in range(2, number): # 2..number-1\n",
    "        print(possible_divisor, end=' ')\n",
    "    print()"
   ]
  },
  {
   "cell_type": "code",
   "execution_count": null,
   "id": "0f19830b",
   "metadata": {},
   "outputs": [],
   "source": [
    "# once that works, we can write the rest\n",
    "for number in range(2, 26): # 2..25\n",
    "    print(number, end=' ')\n",
    "    for possible_divisor in range(2, number): # 2..number-1\n",
    "        # look for any divisor between 2 and number-1\n",
    "        # if remainder is 0, then it's a divisor\n",
    "        if number % possible_divisor == 0: # divides in\n",
    "            print('not prime') # later, we'll make this better\n",
    "            break # no need to check further numbers\n",
    "    else: # good use of else here...means we tried ALL numbers\n",
    "        print('is prime')"
   ]
  },
  {
   "cell_type": "code",
   "execution_count": null,
   "id": "b977749a",
   "metadata": {},
   "outputs": [],
   "source": [
    "# once that works, we can write the rest\n",
    "for number in range(2, 26): # 2..25\n",
    "    print(number, end=' ')\n",
    "    for possible_divisor in range(2, number): # 2..number-1\n",
    "        # look for any divisor between 2 and number-1\n",
    "        # if remainder is 0, then it's a divisor\n",
    "        if number % possible_divisor == 0: # divides in\n",
    "            print('equals', possible_divisor, '*',\n",
    "                          number // possible_divisor)\n",
    "            break # no need to check more numbers\n",
    "    else: # good use of else here...means we tried ALL numbers\n",
    "        # and also means we DID NOT break\n",
    "        print('is prime')"
   ]
  },
  {
   "cell_type": "code",
   "execution_count": null,
   "id": "9e54a304",
   "metadata": {},
   "outputs": [],
   "source": [
    "# do it without the else clause for the for loop\n",
    "for number in range(2, 26): # 2..25\n",
    "    print(number, end=' ')\n",
    "    prime = True # start by saying it's prime\n",
    "    \n",
    "    for possible_divisor in range(2, number): # 2..number-1\n",
    "        # look for any divisor between 2 and number-1\n",
    "        # if remainder is 0, then it's a divisor\n",
    "        if number % possible_divisor == 0: # divides in\n",
    "            print('equals', possible_divisor, '*',\n",
    "                          number // possible_divisor)\n",
    "            prime = False\n",
    "            break # no need to check more numbers\n",
    "    if prime: # == True\n",
    "        print('is prime')"
   ]
  },
  {
   "cell_type": "code",
   "execution_count": 91,
   "id": "e2015457",
   "metadata": {},
   "outputs": [
    {
     "data": {
      "text/plain": [
       "3"
      ]
     },
     "execution_count": 91,
     "metadata": {},
     "output_type": "execute_result"
    }
   ],
   "source": [
    "int(3.8)"
   ]
  },
  {
   "cell_type": "code",
   "execution_count": 92,
   "id": "7ad2b0c1",
   "metadata": {},
   "outputs": [
    {
     "data": {
      "text/plain": [
       "123"
      ]
     },
     "execution_count": 92,
     "metadata": {},
     "output_type": "execute_result"
    }
   ],
   "source": [
    "int('123')"
   ]
  },
  {
   "cell_type": "code",
   "execution_count": 93,
   "id": "8b690b5f",
   "metadata": {},
   "outputs": [
    {
     "data": {
      "text/plain": [
       "'1'"
      ]
     },
     "execution_count": 93,
     "metadata": {},
     "output_type": "execute_result"
    }
   ],
   "source": [
    "str(1)"
   ]
  },
  {
   "cell_type": "code",
   "execution_count": 94,
   "id": "c62057c5",
   "metadata": {},
   "outputs": [
    {
     "data": {
      "text/plain": [
       "'1.3'"
      ]
     },
     "execution_count": 94,
     "metadata": {},
     "output_type": "execute_result"
    }
   ],
   "source": [
    "str(1.3)"
   ]
  },
  {
   "cell_type": "code",
   "execution_count": 95,
   "id": "f4b94940",
   "metadata": {},
   "outputs": [
    {
     "data": {
      "text/plain": [
       "'True'"
      ]
     },
     "execution_count": 95,
     "metadata": {},
     "output_type": "execute_result"
    }
   ],
   "source": [
    "str(True)"
   ]
  },
  {
   "cell_type": "code",
   "execution_count": 96,
   "id": "d32ae96f",
   "metadata": {},
   "outputs": [
    {
     "data": {
      "text/plain": [
       "3"
      ]
     },
     "execution_count": 96,
     "metadata": {},
     "output_type": "execute_result"
    }
   ],
   "source": [
    "abs(-3)"
   ]
  },
  {
   "cell_type": "code",
   "execution_count": 97,
   "id": "1bd71490",
   "metadata": {},
   "outputs": [
    {
     "data": {
      "text/plain": [
       "3.1"
      ]
     },
     "execution_count": 97,
     "metadata": {},
     "output_type": "execute_result"
    }
   ],
   "source": [
    "abs(3.1)"
   ]
  },
  {
   "cell_type": "code",
   "execution_count": 98,
   "id": "8de31a81",
   "metadata": {},
   "outputs": [
    {
     "name": "stdout",
     "output_type": "stream",
     "text": [
      "1\n"
     ]
    }
   ],
   "source": [
    "print(1)"
   ]
  },
  {
   "cell_type": "code",
   "execution_count": 100,
   "id": "ea37c4fb",
   "metadata": {},
   "outputs": [
    {
     "name": "stdout",
     "output_type": "stream",
     "text": [
      "of course\n"
     ]
    }
   ],
   "source": [
    "print('of course')"
   ]
  },
  {
   "cell_type": "code",
   "execution_count": 101,
   "id": "4051ade5",
   "metadata": {},
   "outputs": [],
   "source": [
    "string = 'thing'"
   ]
  },
  {
   "cell_type": "code",
   "execution_count": 102,
   "id": "057ec259",
   "metadata": {},
   "outputs": [],
   "source": [
    "num = 5"
   ]
  },
  {
   "cell_type": "code",
   "execution_count": 103,
   "id": "ec4a0f6f",
   "metadata": {},
   "outputs": [
    {
     "ename": "AttributeError",
     "evalue": "'int' object has no attribute 'startswith'",
     "output_type": "error",
     "traceback": [
      "\u001b[0;31m---------------------------------------------------------------------------\u001b[0m",
      "\u001b[0;31mAttributeError\u001b[0m                            Traceback (most recent call last)",
      "Input \u001b[0;32mIn [103]\u001b[0m, in \u001b[0;36m<module>\u001b[0;34m\u001b[0m\n\u001b[0;32m----> 1\u001b[0m \u001b[43mnum\u001b[49m\u001b[38;5;241;43m.\u001b[39;49m\u001b[43mstartswith\u001b[49m(\u001b[38;5;241m5\u001b[39m)\n",
      "\u001b[0;31mAttributeError\u001b[0m: 'int' object has no attribute 'startswith'"
     ]
    }
   ],
   "source": [
    "num.startswith(5)"
   ]
  },
  {
   "cell_type": "code",
   "execution_count": 104,
   "id": "97afa046",
   "metadata": {},
   "outputs": [],
   "source": [
    "s = 'string'"
   ]
  },
  {
   "cell_type": "code",
   "execution_count": 105,
   "id": "4d56ca1b",
   "metadata": {},
   "outputs": [],
   "source": [
    "s = 'some other string'"
   ]
  },
  {
   "cell_type": "code",
   "execution_count": 106,
   "id": "c3e17a20",
   "metadata": {},
   "outputs": [
    {
     "data": {
      "text/plain": [
       "'s'"
      ]
     },
     "execution_count": 106,
     "metadata": {},
     "output_type": "execute_result"
    }
   ],
   "source": [
    "s[0]"
   ]
  },
  {
   "cell_type": "code",
   "execution_count": 107,
   "id": "c471db25",
   "metadata": {},
   "outputs": [
    {
     "ename": "TypeError",
     "evalue": "'str' object does not support item assignment",
     "output_type": "error",
     "traceback": [
      "\u001b[0;31m---------------------------------------------------------------------------\u001b[0m",
      "\u001b[0;31mTypeError\u001b[0m                                 Traceback (most recent call last)",
      "Input \u001b[0;32mIn [107]\u001b[0m, in \u001b[0;36m<module>\u001b[0;34m\u001b[0m\n\u001b[0;32m----> 1\u001b[0m s[\u001b[38;5;241m0\u001b[39m] \u001b[38;5;241m=\u001b[39m \u001b[38;5;124m'\u001b[39m\u001b[38;5;124mS\u001b[39m\u001b[38;5;124m'\u001b[39m\n",
      "\u001b[0;31mTypeError\u001b[0m: 'str' object does not support item assignment"
     ]
    }
   ],
   "source": [
    "s[0] = 'S'"
   ]
  },
  {
   "cell_type": "code",
   "execution_count": 1,
   "id": "69d4cff2",
   "metadata": {},
   "outputs": [],
   "source": [
    "char = 'x'"
   ]
  },
  {
   "cell_type": "code",
   "execution_count": 2,
   "id": "4d3194ec",
   "metadata": {},
   "outputs": [
    {
     "data": {
      "text/plain": [
       "'X'"
      ]
     },
     "execution_count": 2,
     "metadata": {},
     "output_type": "execute_result"
    }
   ],
   "source": [
    "char.swapcase()"
   ]
  },
  {
   "cell_type": "markdown",
   "id": "f33bf966",
   "metadata": {},
   "source": [
    "## Lab: String Functions\n",
    "* write a Python program which prompts the user for a string and a stride (increment), and alternately makes the string upper case and lower case, stride characters at a time, e.g.,\n",
    "![alt-text](images/uplow.png \"uplow\")\n"
   ]
  },
  {
   "cell_type": "code",
   "execution_count": 30,
   "id": "164a59ff",
   "metadata": {},
   "outputs": [
    {
     "name": "stdout",
     "output_type": "stream",
     "text": [
      "Enter a string: abcdefghijklmnopqrstuvwxyz\n",
      "Enter a stride: 4\n"
     ]
    }
   ],
   "source": [
    "string = input('Enter a string: ')\n",
    "stride = int(input('Enter a stride: '))"
   ]
  },
  {
   "cell_type": "code",
   "execution_count": 14,
   "id": "2c3d000d",
   "metadata": {},
   "outputs": [
    {
     "data": {
      "text/plain": [
       "4"
      ]
     },
     "execution_count": 14,
     "metadata": {},
     "output_type": "execute_result"
    }
   ],
   "source": [
    "stride"
   ]
  },
  {
   "cell_type": "code",
   "execution_count": 17,
   "id": "4dd95670",
   "metadata": {},
   "outputs": [
    {
     "data": {
      "text/plain": [
       "'abcd'"
      ]
     },
     "execution_count": 17,
     "metadata": {},
     "output_type": "execute_result"
    }
   ],
   "source": [
    "string[0:4]"
   ]
  },
  {
   "cell_type": "code",
   "execution_count": 21,
   "id": "0375a8ba",
   "metadata": {},
   "outputs": [
    {
     "data": {
      "text/plain": [
       "'efgh'"
      ]
     },
     "execution_count": 21,
     "metadata": {},
     "output_type": "execute_result"
    }
   ],
   "source": [
    "string[4:8]"
   ]
  },
  {
   "cell_type": "code",
   "execution_count": 22,
   "id": "18f9741e",
   "metadata": {},
   "outputs": [
    {
     "data": {
      "text/plain": [
       "'ijkl'"
      ]
     },
     "execution_count": 22,
     "metadata": {},
     "output_type": "execute_result"
    }
   ],
   "source": [
    "string[8:12]"
   ]
  },
  {
   "cell_type": "code",
   "execution_count": 43,
   "id": "3d39cd81",
   "metadata": {},
   "outputs": [
    {
     "name": "stdout",
     "output_type": "stream",
     "text": [
      "0:5 abcde\n",
      "5:10 fghij\n",
      "10:15 klmno\n",
      "15:20 pqrst\n",
      "20:25 uvwxy\n",
      "25:30 z\n"
     ]
    }
   ],
   "source": [
    "stride = 5\n",
    "for index in range(0, len(string), stride):\n",
    "    print(index, ':', index + stride, ' ', string[index:index + stride], sep='')"
   ]
  },
  {
   "cell_type": "code",
   "execution_count": 47,
   "id": "45e3916f",
   "metadata": {},
   "outputs": [
    {
     "name": "stdout",
     "output_type": "stream",
     "text": [
      "ABCDEfghijKLMNOpqrstUVWXYz"
     ]
    }
   ],
   "source": [
    "# we could use a counter and notice when it's odd or even\n",
    "# and then upper or lower accordingly\n",
    "count = 0\n",
    "for index in range(0, len(string), stride):\n",
    "    count += 1\n",
    "    if count % 2 == 1: # odd\n",
    "        print(string[index:index + stride].upper(), end='')\n",
    "    else:\n",
    "        print(string[index:index + stride].lower(), end='')"
   ]
  },
  {
   "cell_type": "code",
   "execution_count": 49,
   "id": "37eb274f",
   "metadata": {},
   "outputs": [
    {
     "name": "stdout",
     "output_type": "stream",
     "text": [
      "ABCDEfghijKLMNOpqrstUVWXYz"
     ]
    }
   ],
   "source": [
    "# use a Boolean variable (and name it well)\n",
    "make_upper = True\n",
    "\n",
    "for index in range(0, len(string), stride):\n",
    "    if make_upper: # == True\n",
    "        print(string[index:index + stride].upper(), end='')\n",
    "        make_upper = False\n",
    "    else:\n",
    "        print(string[index:index + stride].lower(), end='')\n",
    "        make_upper = True"
   ]
  },
  {
   "cell_type": "code",
   "execution_count": null,
   "id": "ff8cbef2",
   "metadata": {},
   "outputs": [],
   "source": [
    "# use a Boolean variable (and name it well)\n",
    "make_upper = True\n",
    "\n",
    "for index in range(0, len(string), stride):\n",
    "    if make_upper: # == True\n",
    "        print(string[index:index + stride].upper(), end='')\n",
    "    else:\n",
    "        print(string[index:index + stride].lower(), end='')\n",
    "    make_upper = not make_upper # flip the Boolean from True to False, or False to True"
   ]
  },
  {
   "cell_type": "code",
   "execution_count": 51,
   "id": "4b17d791",
   "metadata": {},
   "outputs": [
    {
     "data": {
      "text/plain": [
       "False"
      ]
     },
     "execution_count": 51,
     "metadata": {},
     "output_type": "execute_result"
    }
   ],
   "source": [
    "not True"
   ]
  },
  {
   "cell_type": "code",
   "execution_count": 3,
   "id": "df5052d6",
   "metadata": {},
   "outputs": [],
   "source": [
    "s = 'some string'"
   ]
  },
  {
   "cell_type": "code",
   "execution_count": 4,
   "id": "34f61712",
   "metadata": {},
   "outputs": [],
   "source": [
    "s = 'something else'"
   ]
  },
  {
   "cell_type": "code",
   "execution_count": 5,
   "id": "8cb150a2",
   "metadata": {},
   "outputs": [
    {
     "data": {
      "text/plain": [
       "'e'"
      ]
     },
     "execution_count": 5,
     "metadata": {},
     "output_type": "execute_result"
    }
   ],
   "source": [
    "s[-1]"
   ]
  },
  {
   "cell_type": "code",
   "execution_count": 6,
   "id": "8fe5218b",
   "metadata": {},
   "outputs": [
    {
     "ename": "TypeError",
     "evalue": "'str' object does not support item assignment",
     "output_type": "error",
     "traceback": [
      "\u001b[0;31m---------------------------------------------------------------------------\u001b[0m",
      "\u001b[0;31mTypeError\u001b[0m                                 Traceback (most recent call last)",
      "Input \u001b[0;32mIn [6]\u001b[0m, in \u001b[0;36m<module>\u001b[0;34m\u001b[0m\n\u001b[0;32m----> 1\u001b[0m s[\u001b[38;5;241m-\u001b[39m\u001b[38;5;241m1\u001b[39m] \u001b[38;5;241m=\u001b[39m \u001b[38;5;124m'\u001b[39m\u001b[38;5;124m!\u001b[39m\u001b[38;5;124m'\u001b[39m\n",
      "\u001b[0;31mTypeError\u001b[0m: 'str' object does not support item assignment"
     ]
    }
   ],
   "source": [
    "s[-1] = '!'"
   ]
  },
  {
   "cell_type": "code",
   "execution_count": 7,
   "id": "8871dbd9",
   "metadata": {},
   "outputs": [
    {
     "data": {
      "text/plain": [
       "'something else'"
      ]
     },
     "execution_count": 7,
     "metadata": {},
     "output_type": "execute_result"
    }
   ],
   "source": [
    "s"
   ]
  },
  {
   "cell_type": "code",
   "execution_count": 8,
   "id": "dbffc3ad",
   "metadata": {},
   "outputs": [
    {
     "data": {
      "text/plain": [
       "'somXthing XlsX'"
      ]
     },
     "execution_count": 8,
     "metadata": {},
     "output_type": "execute_result"
    }
   ],
   "source": [
    "s.replace('e', 'X')"
   ]
  },
  {
   "cell_type": "code",
   "execution_count": 9,
   "id": "4e61d977",
   "metadata": {},
   "outputs": [
    {
     "data": {
      "text/plain": [
       "'something else'"
      ]
     },
     "execution_count": 9,
     "metadata": {},
     "output_type": "execute_result"
    }
   ],
   "source": [
    "s"
   ]
  },
  {
   "cell_type": "code",
   "execution_count": 10,
   "id": "dd0db75e",
   "metadata": {},
   "outputs": [],
   "source": [
    "s = s.replace('e', 'X')"
   ]
  },
  {
   "cell_type": "code",
   "execution_count": 11,
   "id": "8f886b09",
   "metadata": {},
   "outputs": [
    {
     "data": {
      "text/plain": [
       "'somXthing XlsX'"
      ]
     },
     "execution_count": 11,
     "metadata": {},
     "output_type": "execute_result"
    }
   ],
   "source": [
    "s"
   ]
  },
  {
   "cell_type": "code",
   "execution_count": 12,
   "id": "67815ecf",
   "metadata": {},
   "outputs": [
    {
     "name": "stdout",
     "output_type": "stream",
     "text": [
      "325 ms ± 5.92 ms per loop (mean ± std. dev. of 7 runs, 1 loop each)\n"
     ]
    }
   ],
   "source": [
    "%%timeit\n",
    "s = 'abcdefghijklmnopqrstuvwxyz'\n",
    "for times in range(1, 1_000_000):\n",
    "    s = s.replace('a', 'z')\n",
    "    s = s.replace('z', 'a')"
   ]
  },
  {
   "cell_type": "code",
   "execution_count": 2,
   "id": "2350dd8e",
   "metadata": {},
   "outputs": [],
   "source": [
    "s = 'here is a string'"
   ]
  },
  {
   "cell_type": "code",
   "execution_count": 3,
   "id": "2ccb9f3d",
   "metadata": {},
   "outputs": [
    {
     "data": {
      "text/plain": [
       "'here is a string'"
      ]
     },
     "execution_count": 3,
     "metadata": {},
     "output_type": "execute_result"
    }
   ],
   "source": [
    "s.replace('Here', 'x')"
   ]
  },
  {
   "cell_type": "code",
   "execution_count": 4,
   "id": "a74d0489",
   "metadata": {},
   "outputs": [],
   "source": [
    "s = 'now is the time'"
   ]
  },
  {
   "cell_type": "code",
   "execution_count": 5,
   "id": "0105c251",
   "metadata": {},
   "outputs": [
    {
     "data": {
      "text/plain": [
       "'now is the time'"
      ]
     },
     "execution_count": 5,
     "metadata": {},
     "output_type": "execute_result"
    }
   ],
   "source": [
    "s"
   ]
  },
  {
   "cell_type": "code",
   "execution_count": 6,
   "id": "0abccf83",
   "metadata": {},
   "outputs": [
    {
     "data": {
      "text/plain": [
       "'now is the ooo'"
      ]
     },
     "execution_count": 6,
     "metadata": {},
     "output_type": "execute_result"
    }
   ],
   "source": [
    "s.replace('time', 'ooo')"
   ]
  },
  {
   "cell_type": "code",
   "execution_count": 10,
   "id": "dbb21b46",
   "metadata": {},
   "outputs": [],
   "source": [
    "s = s.replace('time', 'ooo')"
   ]
  },
  {
   "cell_type": "code",
   "execution_count": 32,
   "id": "33ae41be",
   "metadata": {},
   "outputs": [
    {
     "data": {
      "text/plain": [
       "'now is the ooo'"
      ]
     },
     "execution_count": 32,
     "metadata": {},
     "output_type": "execute_result"
    }
   ],
   "source": [
    "s"
   ]
  },
  {
   "cell_type": "code",
   "execution_count": 33,
   "id": "00913816",
   "metadata": {},
   "outputs": [
    {
     "data": {
      "text/plain": [
       "'NOW IS THE OOO'"
      ]
     },
     "execution_count": 33,
     "metadata": {},
     "output_type": "execute_result"
    }
   ],
   "source": [
    "s.upper()"
   ]
  },
  {
   "cell_type": "code",
   "execution_count": 38,
   "id": "66d38f2b",
   "metadata": {},
   "outputs": [
    {
     "data": {
      "text/plain": [
       "'ste'"
      ]
     },
     "execution_count": 38,
     "metadata": {},
     "output_type": "execute_result"
    }
   ],
   "source": [
    "s[5:10:2]"
   ]
  },
  {
   "cell_type": "code",
   "execution_count": 40,
   "id": "475bc641",
   "metadata": {},
   "outputs": [
    {
     "data": {
      "text/plain": [
       "' is the ooo'"
      ]
     },
     "execution_count": 40,
     "metadata": {},
     "output_type": "execute_result"
    }
   ],
   "source": [
    "s[3:58]"
   ]
  },
  {
   "cell_type": "code",
   "execution_count": 41,
   "id": "66ae3001",
   "metadata": {},
   "outputs": [
    {
     "data": {
      "text/plain": [
       "''"
      ]
     },
     "execution_count": 41,
     "metadata": {},
     "output_type": "execute_result"
    }
   ],
   "source": [
    "s[40:60]"
   ]
  },
  {
   "cell_type": "code",
   "execution_count": 53,
   "id": "308de4dc",
   "metadata": {},
   "outputs": [],
   "source": [
    "words = 'Now is the time'.split()"
   ]
  },
  {
   "cell_type": "code",
   "execution_count": 54,
   "id": "2a6c7a33",
   "metadata": {},
   "outputs": [
    {
     "data": {
      "text/plain": [
       "['Now', 'is', 'the', 'time']"
      ]
     },
     "execution_count": 54,
     "metadata": {},
     "output_type": "execute_result"
    }
   ],
   "source": [
    "words"
   ]
  },
  {
   "cell_type": "code",
   "execution_count": 55,
   "id": "f5785827",
   "metadata": {},
   "outputs": [
    {
     "ename": "AttributeError",
     "evalue": "'list' object has no attribute 'join'",
     "output_type": "error",
     "traceback": [
      "\u001b[0;31m---------------------------------------------------------------------------\u001b[0m",
      "\u001b[0;31mAttributeError\u001b[0m                            Traceback (most recent call last)",
      "Input \u001b[0;32mIn [55]\u001b[0m, in \u001b[0;36m<module>\u001b[0;34m\u001b[0m\n\u001b[0;32m----> 1\u001b[0m \u001b[43mwords\u001b[49m\u001b[38;5;241;43m.\u001b[39;49m\u001b[43mjoin\u001b[49m(\u001b[38;5;124m'\u001b[39m\u001b[38;5;124m \u001b[39m\u001b[38;5;124m'\u001b[39m)\n",
      "\u001b[0;31mAttributeError\u001b[0m: 'list' object has no attribute 'join'"
     ]
    }
   ],
   "source": [
    "words.join(' ')"
   ]
  },
  {
   "cell_type": "code",
   "execution_count": 56,
   "id": "96668407",
   "metadata": {},
   "outputs": [
    {
     "data": {
      "text/plain": [
       "94274296362496"
      ]
     },
     "execution_count": 56,
     "metadata": {},
     "output_type": "execute_result"
    }
   ],
   "source": [
    "id(str)"
   ]
  },
  {
   "cell_type": "code",
   "execution_count": 57,
   "id": "3a519f92",
   "metadata": {},
   "outputs": [
    {
     "data": {
      "text/plain": [
       "140237502678416"
      ]
     },
     "execution_count": 57,
     "metadata": {},
     "output_type": "execute_result"
    }
   ],
   "source": [
    "id(str.lower)"
   ]
  },
  {
   "cell_type": "code",
   "execution_count": 58,
   "id": "1e32ceaf",
   "metadata": {},
   "outputs": [
    {
     "data": {
      "text/plain": [
       "94274296323552"
      ]
     },
     "execution_count": 58,
     "metadata": {},
     "output_type": "execute_result"
    }
   ],
   "source": [
    "id(list)"
   ]
  },
  {
   "cell_type": "code",
   "execution_count": 59,
   "id": "28243f1a",
   "metadata": {},
   "outputs": [],
   "source": [
    "name = 'Amit'"
   ]
  },
  {
   "cell_type": "code",
   "execution_count": 60,
   "id": "c2e61046",
   "metadata": {},
   "outputs": [],
   "source": [
    "name = name + ' Yadav'"
   ]
  },
  {
   "cell_type": "code",
   "execution_count": 61,
   "id": "635008e9",
   "metadata": {},
   "outputs": [
    {
     "data": {
      "text/plain": [
       "'Amit Yadav'"
      ]
     },
     "execution_count": 61,
     "metadata": {},
     "output_type": "execute_result"
    }
   ],
   "source": [
    "name"
   ]
  },
  {
   "cell_type": "code",
   "execution_count": 62,
   "id": "4569ea2b",
   "metadata": {},
   "outputs": [],
   "source": [
    "name = ['Amit', 'Yadav']"
   ]
  },
  {
   "cell_type": "code",
   "execution_count": 63,
   "id": "c0a7b570",
   "metadata": {},
   "outputs": [
    {
     "data": {
      "text/plain": [
       "'Amit Yadav'"
      ]
     },
     "execution_count": 63,
     "metadata": {},
     "output_type": "execute_result"
    }
   ],
   "source": [
    "' '.join(name)"
   ]
  },
  {
   "cell_type": "code",
   "execution_count": 64,
   "id": "64db0ada",
   "metadata": {},
   "outputs": [],
   "source": [
    "s = 'string'"
   ]
  },
  {
   "cell_type": "code",
   "execution_count": 65,
   "id": "a4a41fdf",
   "metadata": {},
   "outputs": [],
   "source": [
    "list_of_chars = list(s)"
   ]
  },
  {
   "cell_type": "code",
   "execution_count": 66,
   "id": "3d526a41",
   "metadata": {},
   "outputs": [
    {
     "data": {
      "text/plain": [
       "['s', 't', 'r', 'i', 'n', 'g']"
      ]
     },
     "execution_count": 66,
     "metadata": {},
     "output_type": "execute_result"
    }
   ],
   "source": [
    "list_of_chars"
   ]
  },
  {
   "cell_type": "code",
   "execution_count": 68,
   "id": "e825f128",
   "metadata": {},
   "outputs": [
    {
     "data": {
      "text/plain": [
       "'s-t-r-i-n-g'"
      ]
     },
     "execution_count": 68,
     "metadata": {},
     "output_type": "execute_result"
    }
   ],
   "source": [
    "'-'.join(list_of_chars)"
   ]
  },
  {
   "cell_type": "code",
   "execution_count": 69,
   "id": "994f4026",
   "metadata": {},
   "outputs": [],
   "source": [
    "cars = ['Tesla',\n",
    " 'Fisker',\n",
    " 'Faraday',\n",
    " 'Rivian',\n",
    " 'Lordstown',\n",
    " 'Lucid',\n",
    " 'Bollinger',\n",
    " 'Polestar']"
   ]
  },
  {
   "cell_type": "code",
   "execution_count": 70,
   "id": "4e2a6dde",
   "metadata": {},
   "outputs": [
    {
     "data": {
      "text/plain": [
       "['Tesla',\n",
       " 'Fisker',\n",
       " 'Faraday',\n",
       " 'Rivian',\n",
       " 'Lordstown',\n",
       " 'Lucid',\n",
       " 'Bollinger',\n",
       " 'Polestar']"
      ]
     },
     "execution_count": 70,
     "metadata": {},
     "output_type": "execute_result"
    }
   ],
   "source": [
    "cars"
   ]
  },
  {
   "cell_type": "code",
   "execution_count": 74,
   "id": "2ac26727",
   "metadata": {},
   "outputs": [],
   "source": [
    "if 'Faraday' in cars:\n",
    "    cars.remove('Faraday')"
   ]
  },
  {
   "cell_type": "code",
   "execution_count": 75,
   "id": "c0114300",
   "metadata": {},
   "outputs": [
    {
     "data": {
      "text/plain": [
       "['Tesla', 'Fisker', 'Rivian', 'Lordstown', 'Lucid', 'Bollinger', 'Polestar']"
      ]
     },
     "execution_count": 75,
     "metadata": {},
     "output_type": "execute_result"
    }
   ],
   "source": [
    "cars"
   ]
  },
  {
   "cell_type": "code",
   "execution_count": 76,
   "id": "f9f6022b",
   "metadata": {},
   "outputs": [
    {
     "data": {
      "text/plain": [
       "True"
      ]
     },
     "execution_count": 76,
     "metadata": {},
     "output_type": "execute_result"
    }
   ],
   "source": [
    "'Lucid' in cars"
   ]
  },
  {
   "cell_type": "code",
   "execution_count": 77,
   "id": "75b04d54",
   "metadata": {},
   "outputs": [
    {
     "data": {
      "text/plain": [
       "False"
      ]
     },
     "execution_count": 77,
     "metadata": {},
     "output_type": "execute_result"
    }
   ],
   "source": [
    "'VW' in cars"
   ]
  },
  {
   "cell_type": "code",
   "execution_count": 80,
   "id": "310bc1e6",
   "metadata": {},
   "outputs": [],
   "source": [
    "cars = cars * 1250"
   ]
  },
  {
   "cell_type": "code",
   "execution_count": 81,
   "id": "c2b846af",
   "metadata": {},
   "outputs": [
    {
     "data": {
      "text/plain": [
       "8750"
      ]
     },
     "execution_count": 81,
     "metadata": {},
     "output_type": "execute_result"
    }
   ],
   "source": [
    "len(cars)"
   ]
  },
  {
   "cell_type": "code",
   "execution_count": 82,
   "id": "2dda3edf",
   "metadata": {},
   "outputs": [],
   "source": [
    "cars.append('last item')"
   ]
  },
  {
   "cell_type": "code",
   "execution_count": 83,
   "id": "c03b5c53",
   "metadata": {},
   "outputs": [
    {
     "data": {
      "text/plain": [
       "'last item'"
      ]
     },
     "execution_count": 83,
     "metadata": {},
     "output_type": "execute_result"
    }
   ],
   "source": [
    "cars[-1]"
   ]
  },
  {
   "cell_type": "code",
   "execution_count": 84,
   "id": "21697731",
   "metadata": {
    "scrolled": true
   },
   "outputs": [
    {
     "name": "stdout",
     "output_type": "stream",
     "text": [
      "149 µs ± 2.2 µs per loop (mean ± std. dev. of 7 runs, 10,000 loops each)\n"
     ]
    }
   ],
   "source": [
    "%%timeit\n",
    "if 'last item' in cars:\n",
    "    cars.remove('last item')"
   ]
  },
  {
   "cell_type": "code",
   "execution_count": 85,
   "id": "a576285c",
   "metadata": {},
   "outputs": [],
   "source": [
    "cars = cars * 20"
   ]
  },
  {
   "cell_type": "code",
   "execution_count": 86,
   "id": "fda57331",
   "metadata": {},
   "outputs": [
    {
     "data": {
      "text/plain": [
       "175000"
      ]
     },
     "execution_count": 86,
     "metadata": {},
     "output_type": "execute_result"
    }
   ],
   "source": [
    "len(cars)"
   ]
  },
  {
   "cell_type": "code",
   "execution_count": 87,
   "id": "6208f608",
   "metadata": {},
   "outputs": [],
   "source": [
    "cars.append('end marker')"
   ]
  },
  {
   "cell_type": "code",
   "execution_count": 88,
   "id": "b996eae8",
   "metadata": {},
   "outputs": [
    {
     "name": "stdout",
     "output_type": "stream",
     "text": [
      "2.7 ms ± 82.8 µs per loop (mean ± std. dev. of 7 runs, 100 loops each)\n"
     ]
    }
   ],
   "source": [
    "%%timeit\n",
    "if 'end marker' in cars:\n",
    "    cars.remove('end marker')"
   ]
  },
  {
   "cell_type": "code",
   "execution_count": 89,
   "id": "018dba08",
   "metadata": {},
   "outputs": [
    {
     "data": {
      "text/plain": [
       "25000"
      ]
     },
     "execution_count": 89,
     "metadata": {},
     "output_type": "execute_result"
    }
   ],
   "source": [
    "cars.count('Tesla')"
   ]
  },
  {
   "cell_type": "code",
   "execution_count": 90,
   "id": "f4b40812",
   "metadata": {},
   "outputs": [],
   "source": [
    "stuff = [1, 2, 45]"
   ]
  },
  {
   "cell_type": "code",
   "execution_count": 92,
   "id": "5793d68f",
   "metadata": {},
   "outputs": [],
   "source": [
    "stuff2 = list(stuff)"
   ]
  },
  {
   "cell_type": "code",
   "execution_count": 93,
   "id": "1468b3a8",
   "metadata": {},
   "outputs": [
    {
     "data": {
      "text/plain": [
       "[1, 2, 45]"
      ]
     },
     "execution_count": 93,
     "metadata": {},
     "output_type": "execute_result"
    }
   ],
   "source": [
    "stuff2"
   ]
  },
  {
   "cell_type": "code",
   "execution_count": 94,
   "id": "3c6fc302",
   "metadata": {},
   "outputs": [
    {
     "name": "stdout",
     "output_type": "stream",
     "text": [
      "[1, 2, 45]\n"
     ]
    }
   ],
   "source": [
    "print(stuff)"
   ]
  },
  {
   "cell_type": "code",
   "execution_count": 96,
   "id": "ef41271c",
   "metadata": {},
   "outputs": [
    {
     "data": {
      "text/plain": [
       "[-4, 1, 2, 3, 5, 6, 8]"
      ]
     },
     "execution_count": 96,
     "metadata": {},
     "output_type": "execute_result"
    }
   ],
   "source": [
    "sorted([1, 3, 2, -4, 5, 8, 6])"
   ]
  },
  {
   "cell_type": "code",
   "execution_count": 99,
   "id": "748f6535",
   "metadata": {},
   "outputs": [],
   "source": [
    "stuff = [1, 3, -5, 2, 7, 6]"
   ]
  },
  {
   "cell_type": "code",
   "execution_count": 100,
   "id": "5b6f2f30",
   "metadata": {},
   "outputs": [],
   "source": [
    "stuff = sorted(stuff)"
   ]
  },
  {
   "cell_type": "code",
   "execution_count": 101,
   "id": "6189bc82",
   "metadata": {},
   "outputs": [
    {
     "data": {
      "text/plain": [
       "[-5, 1, 2, 3, 6, 7]"
      ]
     },
     "execution_count": 101,
     "metadata": {},
     "output_type": "execute_result"
    }
   ],
   "source": [
    "stuff"
   ]
  },
  {
   "cell_type": "code",
   "execution_count": 102,
   "id": "a576fd3f",
   "metadata": {},
   "outputs": [],
   "source": [
    "stuff = stuff.sort()"
   ]
  },
  {
   "cell_type": "code",
   "execution_count": 103,
   "id": "8d915cd9",
   "metadata": {},
   "outputs": [
    {
     "name": "stdout",
     "output_type": "stream",
     "text": [
      "None\n"
     ]
    }
   ],
   "source": [
    "print(stuff)"
   ]
  },
  {
   "cell_type": "code",
   "execution_count": 104,
   "id": "3b81c09e",
   "metadata": {},
   "outputs": [
    {
     "name": "stdout",
     "output_type": "stream",
     "text": [
      "Help on method_descriptor:\n",
      "\n",
      "sort(self, /, *, key=None, reverse=False)\n",
      "    Sort the list in ascending order and return None.\n",
      "    \n",
      "    The sort is in-place (i.e. the list itself is modified) and stable (i.e. the\n",
      "    order of two equal elements is maintained).\n",
      "    \n",
      "    If a key function is given, apply it once to each list item and sort them,\n",
      "    ascending or descending, according to their function values.\n",
      "    \n",
      "    The reverse flag can be set to sort in descending order.\n",
      "\n"
     ]
    }
   ],
   "source": [
    "help(list.sort)"
   ]
  },
  {
   "cell_type": "code",
   "execution_count": 105,
   "id": "52b46dc9",
   "metadata": {},
   "outputs": [
    {
     "name": "stdout",
     "output_type": "stream",
     "text": [
      "Help on built-in function sorted in module builtins:\n",
      "\n",
      "sorted(iterable, /, *, key=None, reverse=False)\n",
      "    Return a new list containing all items from the iterable in ascending order.\n",
      "    \n",
      "    A custom key function can be supplied to customize the sort order, and the\n",
      "    reverse flag can be set to request the result in descending order.\n",
      "\n"
     ]
    }
   ],
   "source": [
    "help(sorted)"
   ]
  },
  {
   "cell_type": "code",
   "execution_count": 106,
   "id": "b9bc4df8",
   "metadata": {},
   "outputs": [
    {
     "name": "stdout",
     "output_type": "stream",
     "text": [
      "do not do this\n"
     ]
    }
   ],
   "source": [
    "result = print('do not do this')"
   ]
  },
  {
   "cell_type": "code",
   "execution_count": 107,
   "id": "3ed809cc",
   "metadata": {},
   "outputs": [
    {
     "name": "stdout",
     "output_type": "stream",
     "text": [
      "None\n"
     ]
    }
   ],
   "source": [
    "print(result)"
   ]
  },
  {
   "cell_type": "code",
   "execution_count": 108,
   "id": "aed45eed",
   "metadata": {},
   "outputs": [],
   "source": [
    "result"
   ]
  },
  {
   "cell_type": "code",
   "execution_count": 111,
   "id": "56da7cbf",
   "metadata": {},
   "outputs": [
    {
     "data": {
      "text/plain": [
       "['False',\n",
       " 'None',\n",
       " 'True',\n",
       " 'and',\n",
       " 'as',\n",
       " 'assert',\n",
       " 'async',\n",
       " 'await',\n",
       " 'break',\n",
       " 'class',\n",
       " 'continue',\n",
       " 'def',\n",
       " 'del',\n",
       " 'elif',\n",
       " 'else',\n",
       " 'except',\n",
       " 'finally',\n",
       " 'for',\n",
       " 'from',\n",
       " 'global',\n",
       " 'if',\n",
       " 'import',\n",
       " 'in',\n",
       " 'is',\n",
       " 'lambda',\n",
       " 'nonlocal',\n",
       " 'not',\n",
       " 'or',\n",
       " 'pass',\n",
       " 'raise',\n",
       " 'return',\n",
       " 'try',\n",
       " 'while',\n",
       " 'with',\n",
       " 'yield']"
      ]
     },
     "execution_count": 111,
     "metadata": {},
     "output_type": "execute_result"
    }
   ],
   "source": [
    "import keyword\n",
    "keyword.kwlist"
   ]
  },
  {
   "cell_type": "markdown",
   "id": "41ffca18",
   "metadata": {},
   "source": [
    "## Quick Lab: Lists\n",
    "* Write a Python program to read in a list of items possibly containing duplicates, and then constructs a new list which contains the elements from the original list, with the order preserved, but the duplicates removed\n",
    "![alt-text](images/list2.png \"list2\")"
   ]
  },
  {
   "cell_type": "code",
   "execution_count": 2,
   "id": "a6ea807e",
   "metadata": {},
   "outputs": [
    {
     "name": "stdout",
     "output_type": "stream",
     "text": [
      "Enter a list of items: apple cherry banana apple lemon cherry lemon\n"
     ]
    }
   ],
   "source": [
    "words = input('Enter a list of items: ').lower().split() # possible to hang a split off the input\n",
    "# or you can do it in two steps...\n",
    "# response = input('Enter a list of items: ')\n",
    "# words = response.split()"
   ]
  },
  {
   "cell_type": "code",
   "execution_count": 3,
   "id": "709fd4c1",
   "metadata": {},
   "outputs": [
    {
     "data": {
      "text/plain": [
       "['apple', 'cherry', 'banana', 'apple', 'lemon', 'cherry', 'lemon']"
      ]
     },
     "execution_count": 3,
     "metadata": {},
     "output_type": "execute_result"
    }
   ],
   "source": [
    "words"
   ]
  },
  {
   "cell_type": "code",
   "execution_count": 4,
   "id": "c727bb9a",
   "metadata": {},
   "outputs": [
    {
     "name": "stdout",
     "output_type": "stream",
     "text": [
      "['apple', 'cherry', 'banana', 'lemon']\n"
     ]
    }
   ],
   "source": [
    "unique_words = [] # start w/an empty second list\n",
    "\n",
    "for word in words: # go through original word list\n",
    "    # add to new list ONLY if it's NOT already in there\n",
    "    if word not in unique_words:\n",
    "        unique_words.append(word)\n",
    "        \n",
    "print(unique_words)"
   ]
  },
  {
   "cell_type": "markdown",
   "id": "b11701dd",
   "metadata": {},
   "source": [
    "## Lab: Lists\n",
    "* Write a Python program to maintain a list \n",
    "  * Read input until the user enters 'quit'\n",
    "  * Words that the user enters should be added to the list\n",
    "  * If a word begins with '-' (e.g., '-foo') it should be removed from the list\n",
    "  * If the user enters only a '-', the list should be reversed\n",
    "  * After each operation, print the list\n",
    "  * Extras:\n",
    "      * If user enters more than one word (e.g, __foo bar__), add \"foo\" and \"bar\" to the list, rather than \"foo bar\"\n",
    "      * Same for \"-\", i.e., __-foo bar__ would remove \"foo\" and \"bar\" from the  list"
   ]
  },
  {
   "cell_type": "code",
   "execution_count": 112,
   "id": "d4b6c438",
   "metadata": {},
   "outputs": [
    {
     "name": "stdout",
     "output_type": "stream",
     "text": [
      "Enter: applke\n",
      "Enter: gofer\n",
      "Enter: quit\n"
     ]
    }
   ],
   "source": [
    "answer = input('Enter: ')\n",
    "\n",
    "while answer != 'quit':\n",
    "    # process the answer\n",
    "    answer = input('Enter: ')"
   ]
  },
  {
   "cell_type": "code",
   "execution_count": 113,
   "id": "1a7c05dd",
   "metadata": {},
   "outputs": [
    {
     "name": "stdout",
     "output_type": "stream",
     "text": [
      "Enter: ok\n",
      "Enter: good\n",
      "Enter: quit\n"
     ]
    }
   ],
   "source": [
    "while True:\n",
    "    answer = input('Enter: ')\n",
    "    if answer == 'quit':\n",
    "        break\n",
    "    # process the input"
   ]
  },
  {
   "cell_type": "code",
   "execution_count": 115,
   "id": "8f39500f",
   "metadata": {},
   "outputs": [
    {
     "name": "stdout",
     "output_type": "stream",
     "text": [
      "Enter: apple\n",
      "hi\n",
      "Enter: lemon\n",
      "hi\n",
      "Enter: ok\n",
      "hi\n",
      "Enter: quit\n"
     ]
    }
   ],
   "source": [
    "while (answer := input('Enter: ')) != 'quit':\n",
    "    print('hi')"
   ]
  },
  {
   "cell_type": "code",
   "execution_count": 121,
   "id": "6c3b176b",
   "metadata": {},
   "outputs": [],
   "source": [
    "nums = [1, 3, 5]"
   ]
  },
  {
   "cell_type": "code",
   "execution_count": 122,
   "id": "c3fc86ac",
   "metadata": {},
   "outputs": [
    {
     "data": {
      "text/plain": [
       "True"
      ]
     },
     "execution_count": 122,
     "metadata": {},
     "output_type": "execute_result"
    }
   ],
   "source": [
    "1 in nums"
   ]
  },
  {
   "cell_type": "code",
   "execution_count": 123,
   "id": "7bbf889f",
   "metadata": {},
   "outputs": [
    {
     "data": {
      "text/plain": [
       "True"
      ]
     },
     "execution_count": 123,
     "metadata": {},
     "output_type": "execute_result"
    }
   ],
   "source": [
    "2 not in nums"
   ]
  },
  {
   "cell_type": "code",
   "execution_count": 5,
   "id": "8aa41841",
   "metadata": {},
   "outputs": [
    {
     "name": "stdout",
     "output_type": "stream",
     "text": [
      "? nope\n",
      "do something nope\n",
      "? hey\n",
      "do something hey\n",
      "? done\n"
     ]
    }
   ],
   "source": [
    "while (response := input('? ')) not in ['quit', 'stop', 'done']:\n",
    "    print('do something', response)"
   ]
  },
  {
   "cell_type": "code",
   "execution_count": 127,
   "id": "cbce38da",
   "metadata": {},
   "outputs": [
    {
     "name": "stdout",
     "output_type": "stream",
     "text": [
      "Enter: \n",
      "Enter: \n",
      "Enter: \n",
      "Enter: \n",
      "Enter: \n",
      "Enter: \n",
      "Enter: \n",
      "Enter: quit\n"
     ]
    }
   ],
   "source": [
    "# first cut\n",
    "words = [] # start w/an empty list\n",
    "\n",
    "while (response := input('Enter: ').strip()) != 'quit':\n",
    "    if not response: # if response is empty\n",
    "        continue\n",
    "    if response[0] == '-': # either a reversal or a delete...\n",
    "        if response == '-': # reverse\n",
    "            words = words[::-1] # or use .reverse() method\n",
    "        else: # delete\n",
    "            for word in response[1:].split():\n",
    "                if word in words:\n",
    "                    words.remove(word) # slice off the '-'\n",
    "            else:\n",
    "                print(word, 'not in list!')\n",
    "    else: # add to list\n",
    "        words += response.split()\n",
    "    print(', '.join(words))"
   ]
  },
  {
   "cell_type": "code",
   "execution_count": 11,
   "id": "1f98d955",
   "metadata": {},
   "outputs": [],
   "source": [
    "s = ''"
   ]
  },
  {
   "cell_type": "code",
   "execution_count": 12,
   "id": "ec6a7d7f",
   "metadata": {},
   "outputs": [
    {
     "ename": "IndexError",
     "evalue": "string index out of range",
     "output_type": "error",
     "traceback": [
      "\u001b[0;31m---------------------------------------------------------------------------\u001b[0m",
      "\u001b[0;31mIndexError\u001b[0m                                Traceback (most recent call last)",
      "Input \u001b[0;32mIn [12]\u001b[0m, in \u001b[0;36m<module>\u001b[0;34m\u001b[0m\n\u001b[0;32m----> 1\u001b[0m \u001b[43ms\u001b[49m\u001b[43m[\u001b[49m\u001b[38;5;241;43m0\u001b[39;49m\u001b[43m]\u001b[49m\n",
      "\u001b[0;31mIndexError\u001b[0m: string index out of range"
     ]
    }
   ],
   "source": [
    "s[0]"
   ]
  },
  {
   "cell_type": "code",
   "execution_count": 14,
   "id": "d7e1861f",
   "metadata": {},
   "outputs": [
    {
     "data": {
      "text/plain": [
       "False"
      ]
     },
     "execution_count": 14,
     "metadata": {},
     "output_type": "execute_result"
    }
   ],
   "source": [
    "s.startswith('-')"
   ]
  },
  {
   "cell_type": "code",
   "execution_count": 20,
   "id": "87c24a7e",
   "metadata": {},
   "outputs": [
    {
     "data": {
      "text/plain": [
       "['apple']"
      ]
     },
     "execution_count": 20,
     "metadata": {},
     "output_type": "execute_result"
    }
   ],
   "source": [
    "'apple'.split()"
   ]
  },
  {
   "cell_type": "code",
   "execution_count": 21,
   "id": "cfa62542",
   "metadata": {},
   "outputs": [
    {
     "data": {
      "text/plain": [
       "['apple', 'fig']"
      ]
     },
     "execution_count": 21,
     "metadata": {},
     "output_type": "execute_result"
    }
   ],
   "source": [
    "'apple fig'.split()"
   ]
  },
  {
   "cell_type": "code",
   "execution_count": 28,
   "id": "baae03ac",
   "metadata": {},
   "outputs": [
    {
     "ename": "NameError",
     "evalue": "name 'cars' is not defined",
     "output_type": "error",
     "traceback": [
      "\u001b[0;31m---------------------------------------------------------------------------\u001b[0m",
      "\u001b[0;31mNameError\u001b[0m                                 Traceback (most recent call last)",
      "Input \u001b[0;32mIn [28]\u001b[0m, in \u001b[0;36m<module>\u001b[0;34m\u001b[0m\n\u001b[0;32m----> 1\u001b[0m \u001b[43mcars\u001b[49m\n",
      "\u001b[0;31mNameError\u001b[0m: name 'cars' is not defined"
     ]
    }
   ],
   "source": [
    "cars"
   ]
  },
  {
   "cell_type": "code",
   "execution_count": 29,
   "id": "63ec784c",
   "metadata": {},
   "outputs": [],
   "source": [
    "cars = ['Tesla', 'Fisker', 'Rivian', 'Lordstown']"
   ]
  },
  {
   "cell_type": "code",
   "execution_count": 30,
   "id": "be2bc773",
   "metadata": {},
   "outputs": [
    {
     "data": {
      "text/plain": [
       "<enumerate at 0x7f35da58d940>"
      ]
     },
     "execution_count": 30,
     "metadata": {},
     "output_type": "execute_result"
    }
   ],
   "source": [
    "enumerate(cars)"
   ]
  },
  {
   "cell_type": "code",
   "execution_count": 38,
   "id": "f352aca4",
   "metadata": {},
   "outputs": [
    {
     "data": {
      "text/plain": [
       "['apple', 'fig', 'pear']"
      ]
     },
     "execution_count": 38,
     "metadata": {},
     "output_type": "execute_result"
    }
   ],
   "source": [
    "words"
   ]
  },
  {
   "cell_type": "code",
   "execution_count": 41,
   "id": "68b47086",
   "metadata": {},
   "outputs": [
    {
     "name": "stdout",
     "output_type": "stream",
     "text": [
      "apple fig pear\n"
     ]
    }
   ],
   "source": [
    "print(*words)"
   ]
  },
  {
   "cell_type": "code",
   "execution_count": 42,
   "id": "cde204ce",
   "metadata": {},
   "outputs": [
    {
     "ename": "NameError",
     "evalue": "name 'list_we_did_not_have_before' is not defined",
     "output_type": "error",
     "traceback": [
      "\u001b[0;31m---------------------------------------------------------------------------\u001b[0m",
      "\u001b[0;31mNameError\u001b[0m                                 Traceback (most recent call last)",
      "Input \u001b[0;32mIn [42]\u001b[0m, in \u001b[0;36m<module>\u001b[0;34m\u001b[0m\n\u001b[0;32m----> 1\u001b[0m \u001b[43mlist_we_did_not_have_before\u001b[49m\u001b[38;5;241m.\u001b[39mappend(\u001b[38;5;124m'\u001b[39m\u001b[38;5;124msomething\u001b[39m\u001b[38;5;124m'\u001b[39m)\n",
      "\u001b[0;31mNameError\u001b[0m: name 'list_we_did_not_have_before' is not defined"
     ]
    }
   ],
   "source": [
    "list_we_did_not_have_before.append('something')"
   ]
  },
  {
   "cell_type": "code",
   "execution_count": 43,
   "id": "309200fc",
   "metadata": {},
   "outputs": [],
   "source": [
    "this_variable = 4"
   ]
  },
  {
   "cell_type": "code",
   "execution_count": 44,
   "id": "071e23b9",
   "metadata": {},
   "outputs": [
    {
     "data": {
      "text/plain": [
       "4"
      ]
     },
     "execution_count": 44,
     "metadata": {},
     "output_type": "execute_result"
    }
   ],
   "source": [
    "this_variable"
   ]
  },
  {
   "cell_type": "code",
   "execution_count": 45,
   "id": "3fdee33d",
   "metadata": {},
   "outputs": [],
   "source": [
    "new_variable_never_seen_before = 'yep!'"
   ]
  },
  {
   "cell_type": "code",
   "execution_count": 46,
   "id": "c10a4d3b",
   "metadata": {},
   "outputs": [],
   "source": [
    "list_we_did_not_have_before = []"
   ]
  },
  {
   "cell_type": "code",
   "execution_count": 47,
   "id": "134ebff9",
   "metadata": {},
   "outputs": [],
   "source": [
    "new_number = 3"
   ]
  },
  {
   "cell_type": "markdown",
   "id": "11263dd9",
   "metadata": {},
   "source": [
    "## Lab: List Comprehensions\n",
    "*  Start with Cartesian product example (colors x sizes of t-shirts) and add a third list, __`sleeves = ['short', 'long']`__ then write a new listcomp which generates the Cartesian product __`colors x sizes x sleeves`__. __`tshirts`__ should look like this:<pre><b>\n",
    "    [['black', 'S', 'short'],\n",
    "     ['black', 'S', 'long'],\n",
    "     ['black', 'M', 'short'],\n",
    "     ['black', 'M', 'long'],\n",
    "     ['black', 'L', 'short'],\n",
    "     ['black', 'L', 'long'],\n",
    "     ['white', 'S', 'short'],\n",
    "     ['white', 'S', 'long'],\n",
    "     ['white', 'M', 'short'],\n",
    "     ['white', 'M', 'long'],\n",
    "     ['white', 'L', 'short'],\n",
    "     ['white', 'L', 'long']]\n",
    "     \n",
    " </b></pre>\n",
    "* Use a list comprehension to create a list of the squares of the integers from 1 to 25 (i.e, 1, 4, 9, 16, …, 625)\n",
    "* Given a list of words, create a second list which contains all the words from the first list which do not end with a vowel\n",
    "* Use a list comprehension to create a list of the integers from 1 to 100 which are not divisible by 5\n",
    "* Use a list comprehension and __`zip()`__ to create a list of lists, where the list items are name and ID number that you grabbed from separate lists of names and ID numbers\n",
    "  * start with a list of, say, 5 names ['John', 'Mary', 'Edward', 'Linda', 'Dinesh']\n",
    "  * and a list of, say, 5 ID numbers [1003, 2043, 8762, 7862, 1093]\n",
    "  * additional wrinkle: do not include any names whose corresponding ID is -1"
   ]
  },
  {
   "cell_type": "code",
   "execution_count": 48,
   "id": "67653faa",
   "metadata": {},
   "outputs": [
    {
     "data": {
      "text/plain": [
       "[['black', 'S', 'short'],\n",
       " ['black', 'S', 'long'],\n",
       " ['white', 'S', 'short'],\n",
       " ['white', 'S', 'long'],\n",
       " ['black', 'M', 'short'],\n",
       " ['black', 'M', 'long'],\n",
       " ['white', 'M', 'short'],\n",
       " ['white', 'M', 'long'],\n",
       " ['black', 'L', 'short'],\n",
       " ['black', 'L', 'long'],\n",
       " ['white', 'L', 'short'],\n",
       " ['white', 'L', 'long'],\n",
       " ['black', 'XL', 'short'],\n",
       " ['black', 'XL', 'long'],\n",
       " ['white', 'XL', 'short'],\n",
       " ['white', 'XL', 'long']]"
      ]
     },
     "execution_count": 48,
     "metadata": {},
     "output_type": "execute_result"
    }
   ],
   "source": [
    "colors = 'black white'.split()\n",
    "sizes = 'S M L XL'.split()\n",
    "sleeves = 'short long'.split()\n",
    "\n",
    "tshirts = [[color, size, sleeve]\n",
    "           for size in sizes\n",
    "              for color in colors\n",
    "                 for sleeve in sleeves]\n",
    "tshirts"
   ]
  },
  {
   "cell_type": "code",
   "execution_count": 1,
   "id": "8d9be284",
   "metadata": {},
   "outputs": [
    {
     "name": "stdout",
     "output_type": "stream",
     "text": [
      "[1, 4, 9, 16, 25, 36, 49, 64, 81, 100, 121, 144, 169, 196, 225, 256, 289, 324, 361, 400, 441, 484, 529, 576, 625]\n"
     ]
    }
   ],
   "source": [
    "# squares from 1 to 25 \n",
    "squares = [num ** 2 for num in range(1, 26)]\n",
    "print(squares)"
   ]
  },
  {
   "cell_type": "code",
   "execution_count": 2,
   "id": "2e92939a",
   "metadata": {},
   "outputs": [
    {
     "data": {
      "text/plain": [
       "['guava', 'mango', 'potato']"
      ]
     },
     "execution_count": 2,
     "metadata": {},
     "output_type": "execute_result"
    }
   ],
   "source": [
    "words = 'guava milk mango potato leeks pancakes'.split()\n",
    "non_vowel_words = [word for word in words\n",
    "                      if word[-1] in 'aeiouy']\n",
    "non_vowel_words"
   ]
  },
  {
   "cell_type": "code",
   "execution_count": 3,
   "id": "9c956c41",
   "metadata": {},
   "outputs": [
    {
     "name": "stdout",
     "output_type": "stream",
     "text": [
      "[1, 2, 3, 4, 6, 7, 8, 9, 11, 12, 13, 14, 16, 17, 18, 19, 21, 22, 23, 24, 26, 27, 28, 29, 31, 32, 33, 34, 36, 37, 38, 39, 41, 42, 43, 44, 46, 47, 48, 49, 51, 52, 53, 54, 56, 57, 58, 59, 61, 62, 63, 64, 66, 67, 68, 69, 71, 72, 73, 74, 76, 77, 78, 79, 81, 82, 83, 84, 86, 87, 88, 89, 91, 92, 93, 94, 96, 97, 98, 99]\n"
     ]
    }
   ],
   "source": [
    "nums_not_divis_by_5 = [num for num in range(1, 101)\n",
    "                              if num % 5 != 0]\n",
    "print(nums_not_divis_by_5)"
   ]
  },
  {
   "cell_type": "code",
   "execution_count": 4,
   "id": "26539529",
   "metadata": {},
   "outputs": [
    {
     "name": "stdout",
     "output_type": "stream",
     "text": [
      "[1, 2, 3, 4, 5, 6, 7, 8, 9, 10, 11, 12, 13, 14, 15, 16, 17, 18, 19, 20, 21, 22, 23, 24, 25, 26, 27, 28, 29, 30, 31, 32, 33, 34, 35, 36, 37, 38, 39, 40, 41, 42, 43, 44, 45, 46, 47, 48, 49, 50, 51, 52, 53, 54, 55, 56, 57, 58, 59, 60, 61, 62, 63, 64, 65, 66, 67, 68, 69, 70, 71, 72, 73, 74, 75, 76, 77, 78, 79, 80, 81, 82, 83, 84, 85, 86, 87, 88, 89, 90, 91, 92, 93, 94, 95, 96, 97, 98, 99, 100]\n"
     ]
    }
   ],
   "source": [
    "print(list(range(1, 101)))"
   ]
  },
  {
   "cell_type": "code",
   "execution_count": 49,
   "id": "02eebb52",
   "metadata": {},
   "outputs": [
    {
     "name": "stdout",
     "output_type": "stream",
     "text": [
      "[['John', 1003], ['Mary', 2043], ['Edward', 8762], ['Linda', 7862], ['Dinesh', 1093]]\n"
     ]
    }
   ],
   "source": [
    "names = ['John', 'Mary', 'Edward', 'Linda', 'Dinesh']\n",
    "ids = [1003, 2043, 8762, 7862, 1093]\n",
    "employees = [[name, id] for name, id in zip(names, ids)]\n",
    "print(employees)"
   ]
  },
  {
   "cell_type": "code",
   "execution_count": 50,
   "id": "17b3810a",
   "metadata": {},
   "outputs": [
    {
     "name": "stdout",
     "output_type": "stream",
     "text": [
      "[['John', 1003], ['Mary', 2043], ['Linda', 7862]]\n"
     ]
    }
   ],
   "source": [
    "names = ['John', 'Mary', 'Edward', 'Linda', 'Dinesh']\n",
    "ids = [1003, 2043, -1, 7862, -1]\n",
    "employees = [[name, id] for name, id in zip(names, ids)\n",
    "                            if id != -1]\n",
    "print(employees)"
   ]
  },
  {
   "cell_type": "code",
   "execution_count": 51,
   "id": "28b82e31",
   "metadata": {},
   "outputs": [],
   "source": [
    "x, y = 1, 2"
   ]
  },
  {
   "cell_type": "code",
   "execution_count": 52,
   "id": "52742683",
   "metadata": {},
   "outputs": [
    {
     "data": {
      "text/plain": [
       "1"
      ]
     },
     "execution_count": 52,
     "metadata": {},
     "output_type": "execute_result"
    }
   ],
   "source": [
    "x"
   ]
  },
  {
   "cell_type": "code",
   "execution_count": 53,
   "id": "7440bc66",
   "metadata": {},
   "outputs": [
    {
     "data": {
      "text/plain": [
       "2"
      ]
     },
     "execution_count": 53,
     "metadata": {},
     "output_type": "execute_result"
    }
   ],
   "source": [
    "y"
   ]
  },
  {
   "cell_type": "code",
   "execution_count": 54,
   "id": "272951d6",
   "metadata": {},
   "outputs": [],
   "source": [
    "q, r = divmod(13, 5)"
   ]
  },
  {
   "cell_type": "code",
   "execution_count": 55,
   "id": "9bf7d187",
   "metadata": {},
   "outputs": [
    {
     "data": {
      "text/plain": [
       "2"
      ]
     },
     "execution_count": 55,
     "metadata": {},
     "output_type": "execute_result"
    }
   ],
   "source": [
    "q"
   ]
  },
  {
   "cell_type": "code",
   "execution_count": 56,
   "id": "cc29533e",
   "metadata": {},
   "outputs": [
    {
     "data": {
      "text/plain": [
       "3"
      ]
     },
     "execution_count": 56,
     "metadata": {},
     "output_type": "execute_result"
    }
   ],
   "source": [
    "r"
   ]
  },
  {
   "cell_type": "code",
   "execution_count": 57,
   "id": "38e742de",
   "metadata": {},
   "outputs": [
    {
     "data": {
      "text/plain": [
       "(2, 3)"
      ]
     },
     "execution_count": 57,
     "metadata": {},
     "output_type": "execute_result"
    }
   ],
   "source": [
    "divmod(13, 5)"
   ]
  },
  {
   "cell_type": "code",
   "execution_count": 5,
   "id": "21b2071c",
   "metadata": {},
   "outputs": [],
   "source": [
    "t = 'this', 'is', 'a', 'tuple', 503, True"
   ]
  },
  {
   "cell_type": "markdown",
   "id": "441250e7",
   "metadata": {},
   "source": [
    "## Lab: Tuples\n",
    "* Create a tuple representing a city w/fields of your own choosing (e.g., city name, state/country, population, elevation, etc.)\n",
    "* \"Add\" a field to the tuple–since tuples are immutable, you will have to do this by concatenating tuples\n",
    "* Using the _in_ operator, check to see if a particular value is in the tuple\n",
    "* Using the __`.index()`__ method, find the position of a particular value in the tuple"
   ]
  },
  {
   "cell_type": "code",
   "execution_count": 28,
   "id": "6bf72fcd",
   "metadata": {},
   "outputs": [],
   "source": [
    "city = 'Halifax', 'Nova Scotia', 439_819, 'UTC -4'"
   ]
  },
  {
   "cell_type": "code",
   "execution_count": 30,
   "id": "6c777715",
   "metadata": {},
   "outputs": [
    {
     "data": {
      "text/plain": [
       "('Halifax', 'Nova Scotia', 439819, 'UTC -4', 1749)"
      ]
     },
     "execution_count": 30,
     "metadata": {},
     "output_type": "execute_result"
    }
   ],
   "source": [
    "city + (1749,) # remember the trailing comma if you are creating a singleton"
   ]
  },
  {
   "cell_type": "code",
   "execution_count": 31,
   "id": "98da5220",
   "metadata": {},
   "outputs": [],
   "source": [
    "city = city + (1749,)"
   ]
  },
  {
   "cell_type": "code",
   "execution_count": 32,
   "id": "2ef7ef1e",
   "metadata": {},
   "outputs": [
    {
     "data": {
      "text/plain": [
       "('Halifax', 'Nova Scotia', 439819, 'UTC -4', 1749)"
      ]
     },
     "execution_count": 32,
     "metadata": {},
     "output_type": "execute_result"
    }
   ],
   "source": [
    "city"
   ]
  },
  {
   "cell_type": "code",
   "execution_count": 35,
   "id": "9250376c",
   "metadata": {},
   "outputs": [
    {
     "data": {
      "text/plain": [
       "False"
      ]
     },
     "execution_count": 35,
     "metadata": {},
     "output_type": "execute_result"
    }
   ],
   "source": [
    "439818 in city"
   ]
  },
  {
   "cell_type": "code",
   "execution_count": 36,
   "id": "f9ec3034",
   "metadata": {},
   "outputs": [
    {
     "data": {
      "text/plain": [
       "4"
      ]
     },
     "execution_count": 36,
     "metadata": {},
     "output_type": "execute_result"
    }
   ],
   "source": [
    "city.index(1749)"
   ]
  },
  {
   "cell_type": "code",
   "execution_count": 23,
   "id": "c3a8acac",
   "metadata": {},
   "outputs": [
    {
     "data": {
      "text/plain": [
       "140669814571200"
      ]
     },
     "execution_count": 23,
     "metadata": {},
     "output_type": "execute_result"
    }
   ],
   "source": [
    "tuple1 = 1, 2, 3\n",
    "tuple2 = 4, 5\n",
    "id(tuple1)"
   ]
  },
  {
   "cell_type": "code",
   "execution_count": 24,
   "id": "526d4e02",
   "metadata": {},
   "outputs": [
    {
     "data": {
      "text/plain": [
       "140669814367040"
      ]
     },
     "execution_count": 24,
     "metadata": {},
     "output_type": "execute_result"
    }
   ],
   "source": [
    "tuple1 = tuple1 + tuple2\n",
    "id(tuple1)"
   ]
  },
  {
   "cell_type": "code",
   "execution_count": 25,
   "id": "2fbce47f",
   "metadata": {},
   "outputs": [
    {
     "data": {
      "text/plain": [
       "(1, 2, 3, 4, 5)"
      ]
     },
     "execution_count": 25,
     "metadata": {},
     "output_type": "execute_result"
    }
   ],
   "source": [
    "tuple1"
   ]
  },
  {
   "cell_type": "code",
   "execution_count": 37,
   "id": "8ef4b7a1",
   "metadata": {},
   "outputs": [],
   "source": [
    "d = {}"
   ]
  },
  {
   "cell_type": "code",
   "execution_count": 38,
   "id": "f523dd53",
   "metadata": {},
   "outputs": [
    {
     "data": {
      "text/plain": [
       "dict"
      ]
     },
     "execution_count": 38,
     "metadata": {},
     "output_type": "execute_result"
    }
   ],
   "source": [
    "type(d)"
   ]
  },
  {
   "cell_type": "code",
   "execution_count": 39,
   "id": "1df6bd5f",
   "metadata": {},
   "outputs": [],
   "source": [
    "d = {'X': 10, 'V': 5, 'I': 1}"
   ]
  },
  {
   "cell_type": "code",
   "execution_count": 40,
   "id": "eb7bb829",
   "metadata": {},
   "outputs": [
    {
     "data": {
      "text/plain": [
       "10"
      ]
     },
     "execution_count": 40,
     "metadata": {},
     "output_type": "execute_result"
    }
   ],
   "source": [
    "d['X']"
   ]
  },
  {
   "cell_type": "code",
   "execution_count": 41,
   "id": "688a3d4d",
   "metadata": {},
   "outputs": [
    {
     "data": {
      "text/plain": [
       "1"
      ]
     },
     "execution_count": 41,
     "metadata": {},
     "output_type": "execute_result"
    }
   ],
   "source": [
    "d['I']"
   ]
  },
  {
   "cell_type": "code",
   "execution_count": 42,
   "id": "fa25763d",
   "metadata": {},
   "outputs": [
    {
     "ename": "KeyError",
     "evalue": "1",
     "output_type": "error",
     "traceback": [
      "\u001b[0;31m---------------------------------------------------------------------------\u001b[0m",
      "\u001b[0;31mKeyError\u001b[0m                                  Traceback (most recent call last)",
      "Input \u001b[0;32mIn [42]\u001b[0m, in \u001b[0;36m<module>\u001b[0;34m\u001b[0m\n\u001b[0;32m----> 1\u001b[0m \u001b[43md\u001b[49m\u001b[43m[\u001b[49m\u001b[38;5;241;43m1\u001b[39;49m\u001b[43m]\u001b[49m\n",
      "\u001b[0;31mKeyError\u001b[0m: 1"
     ]
    }
   ],
   "source": [
    "d[1]"
   ]
  },
  {
   "cell_type": "code",
   "execution_count": 43,
   "id": "1c9b8fe4",
   "metadata": {},
   "outputs": [
    {
     "data": {
      "text/plain": [
       "{'X': 10, 'V': 5, 'I': 1}"
      ]
     },
     "execution_count": 43,
     "metadata": {},
     "output_type": "execute_result"
    }
   ],
   "source": [
    "d"
   ]
  },
  {
   "cell_type": "code",
   "execution_count": 45,
   "id": "8053b4b0",
   "metadata": {},
   "outputs": [
    {
     "name": "stdout",
     "output_type": "stream",
     "text": [
      "{'tall': 12, 'venti': 20, 'grande': 16}\n",
      "['tall', 'venti', 'grande']\n",
      "[12, 20, 16]\n",
      "[('tall', 12), ('venti', 20), ('grande', 16)]\n"
     ]
    }
   ],
   "source": [
    "%%python2\n",
    "sbux_dict = {'venti': 20, 'tall': 12, 'grande': 16}\n",
    "print sbux_dict\n",
    "print sbux_dict.keys()\n",
    "print sbux_dict.values()\n",
    "print sbux_dict.items()"
   ]
  },
  {
   "cell_type": "code",
   "execution_count": 46,
   "id": "2a38b3d2",
   "metadata": {},
   "outputs": [
    {
     "name": "stdout",
     "output_type": "stream",
     "text": [
      "dict_keys(['venti', 'tall', 'grande'])\n",
      "dict_values([20, 12, 16])\n",
      "dict_items([('venti', 20), ('tall', 12), ('grande', 16)])\n"
     ]
    }
   ],
   "source": [
    "sbux_dict = {'venti': 20, 'tall': 12, 'grande': 16}\n",
    "print(sbux_dict.keys(), sbux_dict.values(),\n",
    "      sbux_dict.items(), sep='\\n')"
   ]
  },
  {
   "cell_type": "code",
   "execution_count": 49,
   "id": "499ec635",
   "metadata": {},
   "outputs": [],
   "source": [
    "lennox = { 'two': 'too', 'one': 1, 'three': 'tree' }"
   ]
  },
  {
   "cell_type": "code",
   "execution_count": 50,
   "id": "7ca45fb7",
   "metadata": {},
   "outputs": [
    {
     "name": "stdout",
     "output_type": "stream",
     "text": [
      "two\n",
      "one\n",
      "three\n"
     ]
    }
   ],
   "source": [
    "for thing in lennox:\n",
    "    print(thing)"
   ]
  },
  {
   "cell_type": "code",
   "execution_count": 51,
   "id": "1f4676a3",
   "metadata": {},
   "outputs": [
    {
     "name": "stdout",
     "output_type": "stream",
     "text": [
      "0 two\n",
      "1 one\n",
      "2 three\n"
     ]
    }
   ],
   "source": [
    "for index, key in enumerate(lennox):\n",
    "    print(index, key)"
   ]
  },
  {
   "cell_type": "code",
   "execution_count": 52,
   "id": "fa0b7354",
   "metadata": {},
   "outputs": [
    {
     "name": "stdout",
     "output_type": "stream",
     "text": [
      "two\n",
      "one\n",
      "three\n"
     ]
    }
   ],
   "source": [
    "for thing in lennox:\n",
    "    print(thing)"
   ]
  },
  {
   "cell_type": "code",
   "execution_count": 53,
   "id": "29237ede",
   "metadata": {},
   "outputs": [
    {
     "data": {
      "text/plain": [
       "['one', 'three', 'two']"
      ]
     },
     "execution_count": 53,
     "metadata": {},
     "output_type": "execute_result"
    }
   ],
   "source": [
    "sorted(lennox)"
   ]
  },
  {
   "cell_type": "code",
   "execution_count": 54,
   "id": "428347e4",
   "metadata": {},
   "outputs": [],
   "source": [
    "fruits = 'apple fig pear'.split()"
   ]
  },
  {
   "cell_type": "code",
   "execution_count": 55,
   "id": "03d4c208",
   "metadata": {},
   "outputs": [
    {
     "data": {
      "text/plain": [
       "['apple', 'fig', 'pear']"
      ]
     },
     "execution_count": 55,
     "metadata": {},
     "output_type": "execute_result"
    }
   ],
   "source": [
    "fruits"
   ]
  },
  {
   "cell_type": "code",
   "execution_count": 56,
   "id": "2e2428fc",
   "metadata": {},
   "outputs": [
    {
     "data": {
      "text/plain": [
       "['apple', 'fig', 'pear']"
      ]
     },
     "execution_count": 56,
     "metadata": {},
     "output_type": "execute_result"
    }
   ],
   "source": [
    "sorted(fruits)"
   ]
  },
  {
   "cell_type": "code",
   "execution_count": 57,
   "id": "494530e7",
   "metadata": {},
   "outputs": [
    {
     "data": {
      "text/plain": [
       "['fig', 'pear', 'apple']"
      ]
     },
     "execution_count": 57,
     "metadata": {},
     "output_type": "execute_result"
    }
   ],
   "source": [
    "sorted(fruits, key=len) # hey sorted, sort this list, but call len() on each pair of items"
   ]
  },
  {
   "cell_type": "code",
   "execution_count": 58,
   "id": "9ddf81aa",
   "metadata": {},
   "outputs": [],
   "source": [
    "mylist = [1, 2, 3, 5]"
   ]
  },
  {
   "cell_type": "code",
   "execution_count": 59,
   "id": "f3f3fdd7",
   "metadata": {},
   "outputs": [],
   "source": [
    "mylist.clear()"
   ]
  },
  {
   "cell_type": "code",
   "execution_count": 60,
   "id": "cc49b40f",
   "metadata": {},
   "outputs": [
    {
     "data": {
      "text/plain": [
       "[]"
      ]
     },
     "execution_count": 60,
     "metadata": {},
     "output_type": "execute_result"
    }
   ],
   "source": [
    "mylist"
   ]
  },
  {
   "cell_type": "code",
   "execution_count": 61,
   "id": "84e562c4",
   "metadata": {},
   "outputs": [],
   "source": [
    "roman_to_arabic = {\n",
    "    'M': 1000,\n",
    "    'D': 500,\n",
    "    'C': (100),\n",
    "    'L': (50),\n",
    "    'X': (10),\n",
    "    'V': (5), \n",
    "    'I': (1),\n",
    "}"
   ]
  },
  {
   "cell_type": "code",
   "execution_count": 63,
   "id": "67c92d15",
   "metadata": {},
   "outputs": [
    {
     "data": {
      "text/plain": [
       "5"
      ]
     },
     "execution_count": 63,
     "metadata": {},
     "output_type": "execute_result"
    }
   ],
   "source": [
    "roman_to_arabic['V']"
   ]
  },
  {
   "cell_type": "markdown",
   "id": "fc9dff99",
   "metadata": {},
   "source": [
    "## Lab: dictionary\n",
    "* use a dict to translate Roman numerals into their Arabic equivalents\n",
    "1. load the dict with Roman numerals M (1000), D (500), C (100), L (50), X (10), V (5), I (1)\n",
    "2. read in a Roman numeral\n",
    "3. print Arabic equivalent\n",
    "4. try it with MCLX = 1000 + 100 + 50 + 10 = 1160\n",
    "4. __If you have time, deal with the case where a smaller number precedes a larger number, e.g., XC = 100 - 10 = 90, or MCM = 1000 + (1000-100) = 1900__\n",
    "4. __MCMXCIX = 1999__"
   ]
  },
  {
   "cell_type": "code",
   "execution_count": null,
   "id": "a89665d0",
   "metadata": {},
   "outputs": [],
   "source": [
    "# How to handle the weirdness of Roman numerals\n",
    "# make two passes over the number\n",
    "# 1. convert each digit into its Hindu-Arabic equivalent and put them in a list\n",
    "# [1000, 100, 1000, 10, 100, 1, 10]\n",
    "# 2. go thru the list and if any number is SMALLER than its neighbor (to the right), make it negative\n",
    "# [1000, -100, 1000, -10, 100, -1, 10]\n",
    "# 3. sum up the list 1999"
   ]
  },
  {
   "cell_type": "code",
   "execution_count": 64,
   "id": "842063c1",
   "metadata": {},
   "outputs": [],
   "source": [
    "roman_to_arabic = {\n",
    "    'M': 1000,\n",
    "    'D': 500,\n",
    "    'C': 100,\n",
    "    'L': 50,\n",
    "    'X': 10,\n",
    "    'V': 5, \n",
    "    'I': 1,\n",
    "}"
   ]
  },
  {
   "cell_type": "code",
   "execution_count": 86,
   "id": "9be5b686",
   "metadata": {},
   "outputs": [
    {
     "name": "stdout",
     "output_type": "stream",
     "text": [
      "Enter a Roman numeral: MCMXCIX\n"
     ]
    }
   ],
   "source": [
    "roman = input('Enter a Roman numeral: ')"
   ]
  },
  {
   "cell_type": "code",
   "execution_count": 84,
   "id": "c02c18c0",
   "metadata": {},
   "outputs": [
    {
     "name": "stdout",
     "output_type": "stream",
     "text": [
      "1160\n"
     ]
    }
   ],
   "source": [
    "total = 0\n",
    "for digit in roman: # for each Roman digit\n",
    "    total += roman_to_arabic[digit] # what could go wrong?\n",
    "    \n",
    "print(total) "
   ]
  },
  {
   "cell_type": "code",
   "execution_count": 85,
   "id": "4aad4440",
   "metadata": {},
   "outputs": [
    {
     "name": "stdout",
     "output_type": "stream",
     "text": [
      "1160\n"
     ]
    }
   ],
   "source": [
    "total = 0\n",
    "\n",
    "for digit in roman:\n",
    "    if digit in roman_to_arabic: # valid digit?\n",
    "        total += roman_to_arabic[digit]\n",
    "    else:\n",
    "        print('bad digit:', digit)\n",
    "        break\n",
    "else: # all digits valid so show total\n",
    "    print(total)"
   ]
  },
  {
   "cell_type": "code",
   "execution_count": 87,
   "id": "417782e3",
   "metadata": {},
   "outputs": [
    {
     "name": "stdout",
     "output_type": "stream",
     "text": [
      "[1000, 100, 1000, 10, 100, 1, 10]\n"
     ]
    }
   ],
   "source": [
    "# two-pass solution\n",
    "hindu_arabic_vals = []\n",
    "\n",
    "for digit in roman:\n",
    "    hindu_arabic_vals.append(roman_to_arabic[digit])\n",
    "    \n",
    "print(hindu_arabic_vals)"
   ]
  },
  {
   "cell_type": "code",
   "execution_count": 88,
   "id": "0c52f645",
   "metadata": {},
   "outputs": [
    {
     "name": "stdout",
     "output_type": "stream",
     "text": [
      "[1000, -100, 1000, -10, 100, -1, 10]\n"
     ]
    }
   ],
   "source": [
    "for index in range(len(hindu_arabic_vals) - 1):\n",
    "    if hindu_arabic_vals[index] < hindu_arabic_vals[index + 1]:\n",
    "        hindu_arabic_vals[index] = -hindu_arabic_vals[index]\n",
    "        \n",
    "print(hindu_arabic_vals)"
   ]
  },
  {
   "cell_type": "code",
   "execution_count": 89,
   "id": "cde1aa40",
   "metadata": {},
   "outputs": [
    {
     "data": {
      "text/plain": [
       "1999"
      ]
     },
     "execution_count": 89,
     "metadata": {},
     "output_type": "execute_result"
    }
   ],
   "source": [
    "sum(hindu_arabic_vals)"
   ]
  },
  {
   "cell_type": "code",
   "execution_count": 90,
   "id": "4fa669e0",
   "metadata": {},
   "outputs": [],
   "source": [
    "d = { 'key1': [1, 2, 3] }"
   ]
  },
  {
   "cell_type": "code",
   "execution_count": 91,
   "id": "4edb6531",
   "metadata": {},
   "outputs": [
    {
     "data": {
      "text/plain": [
       "{'key1': [1, 2, 3]}"
      ]
     },
     "execution_count": 91,
     "metadata": {},
     "output_type": "execute_result"
    }
   ],
   "source": [
    "d"
   ]
  },
  {
   "cell_type": "code",
   "execution_count": 92,
   "id": "7bdcf841",
   "metadata": {},
   "outputs": [
    {
     "ename": "TypeError",
     "evalue": "unhashable type: 'list'",
     "output_type": "error",
     "traceback": [
      "\u001b[0;31m---------------------------------------------------------------------------\u001b[0m",
      "\u001b[0;31mTypeError\u001b[0m                                 Traceback (most recent call last)",
      "Input \u001b[0;32mIn [92]\u001b[0m, in \u001b[0;36m<module>\u001b[0;34m\u001b[0m\n\u001b[0;32m----> 1\u001b[0m d \u001b[38;5;241m=\u001b[39m { val: key \u001b[38;5;28;01mfor\u001b[39;00m key, val \u001b[38;5;129;01min\u001b[39;00m d\u001b[38;5;241m.\u001b[39mitems() }\n",
      "Input \u001b[0;32mIn [92]\u001b[0m, in \u001b[0;36m<dictcomp>\u001b[0;34m(.0)\u001b[0m\n\u001b[0;32m----> 1\u001b[0m d \u001b[38;5;241m=\u001b[39m { val: key \u001b[38;5;28;01mfor\u001b[39;00m key, val \u001b[38;5;129;01min\u001b[39;00m d\u001b[38;5;241m.\u001b[39mitems() }\n",
      "\u001b[0;31mTypeError\u001b[0m: unhashable type: 'list'"
     ]
    }
   ],
   "source": [
    "d = { val: key for key, val in d.items() }"
   ]
  },
  {
   "cell_type": "code",
   "execution_count": 93,
   "id": "bdb56943",
   "metadata": {},
   "outputs": [],
   "source": [
    "d[(1, 2, 3)] = 'this is a tuple'"
   ]
  },
  {
   "cell_type": "code",
   "execution_count": 94,
   "id": "4aa5c0bc",
   "metadata": {},
   "outputs": [
    {
     "data": {
      "text/plain": [
       "{'key1': [1, 2, 3], (1, 2, 3): 'this is a tuple'}"
      ]
     },
     "execution_count": 94,
     "metadata": {},
     "output_type": "execute_result"
    }
   ],
   "source": [
    "d"
   ]
  },
  {
   "cell_type": "code",
   "execution_count": 95,
   "id": "e2d50ad7",
   "metadata": {},
   "outputs": [
    {
     "data": {
      "text/plain": [
       "529344067295497451"
      ]
     },
     "execution_count": 95,
     "metadata": {},
     "output_type": "execute_result"
    }
   ],
   "source": [
    "hash((1, 2, 3))"
   ]
  },
  {
   "cell_type": "code",
   "execution_count": 96,
   "id": "d88f6722",
   "metadata": {},
   "outputs": [
    {
     "ename": "TypeError",
     "evalue": "unhashable type: 'list'",
     "output_type": "error",
     "traceback": [
      "\u001b[0;31m---------------------------------------------------------------------------\u001b[0m",
      "\u001b[0;31mTypeError\u001b[0m                                 Traceback (most recent call last)",
      "Input \u001b[0;32mIn [96]\u001b[0m, in \u001b[0;36m<module>\u001b[0;34m\u001b[0m\n\u001b[0;32m----> 1\u001b[0m \u001b[38;5;28;43mhash\u001b[39;49m\u001b[43m(\u001b[49m\u001b[43m[\u001b[49m\u001b[38;5;241;43m1\u001b[39;49m\u001b[43m,\u001b[49m\u001b[43m \u001b[49m\u001b[38;5;241;43m2\u001b[39;49m\u001b[43m]\u001b[49m\u001b[43m)\u001b[49m\n",
      "\u001b[0;31mTypeError\u001b[0m: unhashable type: 'list'"
     ]
    }
   ],
   "source": [
    "hash([1, 2])"
   ]
  },
  {
   "cell_type": "code",
   "execution_count": 97,
   "id": "e9287ba1",
   "metadata": {},
   "outputs": [
    {
     "data": {
      "text/plain": [
       "6615233500460574136"
      ]
     },
     "execution_count": 97,
     "metadata": {},
     "output_type": "execute_result"
    }
   ],
   "source": [
    "hash('Python')"
   ]
  },
  {
   "cell_type": "code",
   "execution_count": 98,
   "id": "afd178ea",
   "metadata": {},
   "outputs": [
    {
     "data": {
      "text/plain": [
       "55"
      ]
     },
     "execution_count": 98,
     "metadata": {},
     "output_type": "execute_result"
    }
   ],
   "source": [
    "hash(55)"
   ]
  },
  {
   "cell_type": "code",
   "execution_count": 101,
   "id": "c691f973",
   "metadata": {},
   "outputs": [],
   "source": [
    "somelist = [1, 2, 3]"
   ]
  },
  {
   "cell_type": "code",
   "execution_count": 100,
   "id": "4d480ae7",
   "metadata": {},
   "outputs": [
    {
     "data": {
      "text/plain": [
       "[1, 5, 3]"
      ]
     },
     "execution_count": 100,
     "metadata": {},
     "output_type": "execute_result"
    }
   ],
   "source": [
    "somelist[1] = 5\n",
    "somelist"
   ]
  },
  {
   "cell_type": "code",
   "execution_count": 102,
   "id": "826e0ded",
   "metadata": {},
   "outputs": [],
   "source": [
    "d = { 'a': 1, 'b': 1, 'c': 1 }"
   ]
  },
  {
   "cell_type": "code",
   "execution_count": 103,
   "id": "9916fda7",
   "metadata": {},
   "outputs": [],
   "source": [
    "d = { v: k for k, v in d.items() }"
   ]
  },
  {
   "cell_type": "code",
   "execution_count": 104,
   "id": "3d989e87",
   "metadata": {},
   "outputs": [
    {
     "data": {
      "text/plain": [
       "{1: 'c'}"
      ]
     },
     "execution_count": 104,
     "metadata": {},
     "output_type": "execute_result"
    }
   ],
   "source": [
    "d"
   ]
  },
  {
   "cell_type": "code",
   "execution_count": 105,
   "id": "d6390a75",
   "metadata": {},
   "outputs": [
    {
     "data": {
      "text/plain": [
       "65"
      ]
     },
     "execution_count": 105,
     "metadata": {},
     "output_type": "execute_result"
    }
   ],
   "source": [
    "ord('A')"
   ]
  },
  {
   "cell_type": "code",
   "execution_count": 106,
   "id": "e81eb3c7",
   "metadata": {},
   "outputs": [
    {
     "data": {
      "text/plain": [
       "97"
      ]
     },
     "execution_count": 106,
     "metadata": {},
     "output_type": "execute_result"
    }
   ],
   "source": [
    "ord('a')"
   ]
  },
  {
   "cell_type": "code",
   "execution_count": 108,
   "id": "fc2b7995",
   "metadata": {},
   "outputs": [
    {
     "data": {
      "text/plain": [
       "'A'"
      ]
     },
     "execution_count": 108,
     "metadata": {},
     "output_type": "execute_result"
    }
   ],
   "source": [
    "chr(65)"
   ]
  },
  {
   "cell_type": "code",
   "execution_count": 109,
   "id": "4317d199",
   "metadata": {},
   "outputs": [
    {
     "data": {
      "text/plain": [
       "'B'"
      ]
     },
     "execution_count": 109,
     "metadata": {},
     "output_type": "execute_result"
    }
   ],
   "source": [
    "chr(66)"
   ]
  },
  {
   "cell_type": "code",
   "execution_count": 110,
   "id": "b9c9b912",
   "metadata": {},
   "outputs": [
    {
     "data": {
      "text/plain": [
       "'C'"
      ]
     },
     "execution_count": 110,
     "metadata": {},
     "output_type": "execute_result"
    }
   ],
   "source": [
    "'c'.upper()"
   ]
  },
  {
   "cell_type": "code",
   "execution_count": 111,
   "id": "f93e3ae4",
   "metadata": {},
   "outputs": [
    {
     "data": {
      "text/plain": [
       "'-'"
      ]
     },
     "execution_count": 111,
     "metadata": {},
     "output_type": "execute_result"
    }
   ],
   "source": [
    "'-'.upper()"
   ]
  },
  {
   "cell_type": "code",
   "execution_count": 113,
   "id": "719eeef5",
   "metadata": {},
   "outputs": [],
   "source": [
    "if 5 > 14:\n",
    "    print('yes')"
   ]
  },
  {
   "cell_type": "code",
   "execution_count": 114,
   "id": "dfcae689",
   "metadata": {},
   "outputs": [
    {
     "name": "stdout",
     "output_type": "stream",
     "text": [
      "yep\n"
     ]
    }
   ],
   "source": [
    "if 6:\n",
    "    print('yep')"
   ]
  },
  {
   "cell_type": "code",
   "execution_count": 117,
   "id": "0e729669",
   "metadata": {},
   "outputs": [],
   "source": [
    "val = 0.1"
   ]
  },
  {
   "cell_type": "code",
   "execution_count": 118,
   "id": "997a5671",
   "metadata": {},
   "outputs": [
    {
     "name": "stdout",
     "output_type": "stream",
     "text": [
      "val!\n"
     ]
    }
   ],
   "source": [
    "if val:\n",
    "    print('val!')"
   ]
  },
  {
   "cell_type": "code",
   "execution_count": 124,
   "id": "abd7d411",
   "metadata": {},
   "outputs": [],
   "source": [
    "mylist = [1]"
   ]
  },
  {
   "cell_type": "code",
   "execution_count": 126,
   "id": "021928a9",
   "metadata": {},
   "outputs": [
    {
     "name": "stdout",
     "output_type": "stream",
     "text": [
      "non-empty list\n"
     ]
    }
   ],
   "source": [
    "if mylist:\n",
    "    print('non-empty list')"
   ]
  },
  {
   "cell_type": "code",
   "execution_count": 128,
   "id": "338082a2",
   "metadata": {},
   "outputs": [],
   "source": [
    "import random"
   ]
  },
  {
   "cell_type": "code",
   "execution_count": 136,
   "id": "09408081",
   "metadata": {},
   "outputs": [],
   "source": [
    "nums = []\n",
    "\n",
    "for _ in range(100): # do this 100 times\n",
    "    nums.append(random.randint(1, 100))"
   ]
  },
  {
   "cell_type": "code",
   "execution_count": 137,
   "id": "a9d3fffb",
   "metadata": {},
   "outputs": [
    {
     "name": "stdout",
     "output_type": "stream",
     "text": [
      "[51, 86, 83, 83, 31, 7, 35, 79, 47, 2, 33, 56, 3, 59, 3, 51, 83, 2, 1, 92, 41, 98, 50, 2, 64, 60, 2, 40, 18, 4, 16, 73, 98, 1, 69, 90, 5, 18, 19, 93, 11, 71, 91, 2, 61, 10, 84, 19, 25, 76, 16, 89, 11, 96, 26, 45, 56, 95, 56, 58, 9, 7, 18, 76, 40, 51, 52, 100, 71, 58, 90, 35, 90, 1, 90, 77, 47, 72, 78, 93, 64, 36, 86, 28, 50, 98, 8, 56, 56, 18, 10, 43, 72, 65, 23, 1, 9, 55, 38, 24]\n"
     ]
    }
   ],
   "source": [
    "print(nums)"
   ]
  },
  {
   "cell_type": "code",
   "execution_count": 139,
   "id": "f1ffd218",
   "metadata": {},
   "outputs": [
    {
     "name": "stdout",
     "output_type": "stream",
     "text": [
      "[1, 2, 3, 4, 5, 7, 8, 9, 10, 11, 16, 18, 19, 23, 24, 25, 26, 28, 31, 33, 35, 36, 38, 40, 41, 43, 45, 47, 50, 51, 52, 55, 56, 58, 59, 60, 61, 64, 65, 69, 71, 72, 73, 76, 77, 78, 79, 83, 84, 86, 89, 90, 91, 92, 93, 95, 96, 98, 100]\n"
     ]
    }
   ],
   "source": [
    "print(list(set(nums)))"
   ]
  },
  {
   "cell_type": "code",
   "execution_count": 135,
   "id": "60ea1ee7",
   "metadata": {},
   "outputs": [
    {
     "name": "stdout",
     "output_type": "stream",
     "text": [
      "hello 0\n",
      "hello 1\n",
      "hello 2\n",
      "hello 3\n",
      "hello 4\n",
      "hello 5\n",
      "hello 6\n",
      "hello 7\n",
      "hello 8\n",
      "hello 9\n"
     ]
    }
   ],
   "source": [
    "for number in range(10):\n",
    "    print('hello', number)"
   ]
  },
  {
   "cell_type": "markdown",
   "id": "aad60849",
   "metadata": {},
   "source": [
    "## Lab: Sets\n",
    "* Use a set to find all of the unique words in the input and print them out in sorted order\n",
    "* If the user entered __There is no there there__, your program should print out \n",
    "   <pre><b>\n",
    "   is\n",
    "   no\n",
    "   there\n",
    "   </b></pre>\n",
    "* Note that `There` and `there` should be counted as the same word."
   ]
  },
  {
   "cell_type": "code",
   "execution_count": 148,
   "id": "48ff8c13",
   "metadata": {},
   "outputs": [
    {
     "name": "stdout",
     "output_type": "stream",
     "text": [
      "Enter some words: There is no there there\n"
     ]
    },
    {
     "data": {
      "text/plain": [
       "{'is', 'no', 'there'}"
      ]
     },
     "execution_count": 148,
     "metadata": {},
     "output_type": "execute_result"
    }
   ],
   "source": [
    "words = input('Enter some words: ').lower().split() # ignore case and split into a list of words\n",
    "words = set(words)\n",
    "words # be sure to print, so you don't erroneously believe the set is sorted"
   ]
  },
  {
   "cell_type": "code",
   "execution_count": 149,
   "id": "95225fdb",
   "metadata": {},
   "outputs": [
    {
     "name": "stdout",
     "output_type": "stream",
     "text": [
      "{'is', 'no', 'there'}\n"
     ]
    }
   ],
   "source": [
    "print(words)"
   ]
  },
  {
   "cell_type": "code",
   "execution_count": 154,
   "id": "b9c91718",
   "metadata": {},
   "outputs": [
    {
     "name": "stdout",
     "output_type": "stream",
     "text": [
      "is\n",
      "no\n",
      "there\n"
     ]
    }
   ],
   "source": [
    "#words = sorted(words) # now sort\n",
    "print('\\n'.join(sorted(words)))\n",
    "# print(*words)"
   ]
  },
  {
   "cell_type": "markdown",
   "id": "a4f80fa4",
   "metadata": {},
   "source": [
    "## Quick Lab: File I/O\n",
    "* write a Python program which prompts the user for a filename, then opens that file and writes the contents of the file to a new file, in reverse order, i.e.,\n",
    "\n",
    "<pre><b>\n",
    "    Original file       Reversed file\n",
    "    Line 1              Line 4\n",
    "    Line 2              Line 3\n",
    "    Line 3              Line 2\n",
    "    Line 4              Line 1\n",
    "</b></pre>"
   ]
  },
  {
   "cell_type": "code",
   "execution_count": 166,
   "id": "1687efc2",
   "metadata": {},
   "outputs": [
    {
     "name": "stdout",
     "output_type": "stream",
     "text": [
      "Enter a filename: poem.txt\n"
     ]
    }
   ],
   "source": [
    "filename = input('Enter a filename: ')"
   ]
  },
  {
   "cell_type": "code",
   "execution_count": 167,
   "id": "4bc61e35",
   "metadata": {},
   "outputs": [],
   "source": [
    "with open(filename) as infile: # open for reading\n",
    "    lines = infile.readlines() # get the lines of the file and put them into a list"
   ]
  },
  {
   "cell_type": "code",
   "execution_count": 169,
   "id": "9ce8c0fa",
   "metadata": {},
   "outputs": [
    {
     "name": "stdout",
     "output_type": "stream",
     "text": [
      "['TWO roads diverged in a yellow wood,\\n', 'And sorry I could not travel both\\n', 'And be one traveler, long I stood\\n', 'And looked down one as far as I could\\n', 'To where it bent in the undergrowth;\\n', '\\n', 'Then took the other, as just as fair,\\n', 'And having perhaps the better claim,\\n', 'Because it was grassy and wanted wear;\\n', 'Though as for that the passing there\\n', 'Had worn them really about the same,\\n', '\\n', 'And both that morning equally lay\\n', 'In leaves no step had trodden black.\\n', 'Oh, I kept the first for another day!\\n', 'Yet knowing how way leads on to way,\\n', 'I doubted if I should ever come back.\\n', '\\n', 'I shall be telling this with a sigh\\n', 'Somewhere ages and ages hence:\\n', 'Two roads diverged in a wood, and I—\\n', 'I took the one less traveled by,\\n', 'And that has made all the difference.\\n', '\\n']\n"
     ]
    }
   ],
   "source": [
    "print(lines)"
   ]
  },
  {
   "cell_type": "code",
   "execution_count": 172,
   "id": "28de3770",
   "metadata": {},
   "outputs": [],
   "source": [
    "lines.reverse()"
   ]
  },
  {
   "cell_type": "code",
   "execution_count": 174,
   "id": "33528d50",
   "metadata": {},
   "outputs": [],
   "source": [
    "with open(filename + '.rev', 'w') as outfile: # don't forget 'w'\n",
    "    # now we need to print the lines of the infile in REVERSE order\n",
    "    # we could reverse the list in place\n",
    "    # lines = lines.reverse()\n",
    "    # or we could use slicing to emit the lines in reverse order, which is what I will do\n",
    "    # we also need to join the lines together to make single long string, rather than writing\n",
    "    # it out as a list, which is somewhat ugly...\n",
    "    print(''.join(lines[::-1]), file=outfile, end='') # write to file outfile, in reverse order"
   ]
  },
  {
   "cell_type": "code",
   "execution_count": null,
   "id": "28a625ca",
   "metadata": {},
   "outputs": [],
   "source": [
    "# now we need to check that the new file exists and has the contents in reverse order..."
   ]
  },
  {
   "cell_type": "code",
   "execution_count": 175,
   "id": "e44b13a3",
   "metadata": {},
   "outputs": [],
   "source": [
    "with open('numbers.txt', 'w') as outfile: # open 'numbers.txt'\n",
    "    for number in range(1, 11):\n",
    "        print(number, file=outfile)"
   ]
  },
  {
   "cell_type": "code",
   "execution_count": 183,
   "id": "f94e38f6",
   "metadata": {},
   "outputs": [
    {
     "name": "stdout",
     "output_type": "stream",
     "text": [
      "<class 'int'> 1\n",
      "<class 'int'> 2\n",
      "<class 'int'> 3\n",
      "<class 'int'> 4\n"
     ]
    },
    {
     "ename": "ValueError",
     "evalue": "invalid literal for int() with base 10: 'oops\\n'",
     "output_type": "error",
     "traceback": [
      "\u001b[0;31m---------------------------------------------------------------------------\u001b[0m",
      "\u001b[0;31mValueError\u001b[0m                                Traceback (most recent call last)",
      "Input \u001b[0;32mIn [183]\u001b[0m, in \u001b[0;36m<module>\u001b[0;34m\u001b[0m\n\u001b[1;32m      1\u001b[0m \u001b[38;5;28;01mwith\u001b[39;00m \u001b[38;5;28mopen\u001b[39m(\u001b[38;5;124m'\u001b[39m\u001b[38;5;124mnumbers.txt\u001b[39m\u001b[38;5;124m'\u001b[39m) \u001b[38;5;28;01mas\u001b[39;00m infile:\n\u001b[1;32m      2\u001b[0m     \u001b[38;5;28;01mfor\u001b[39;00m line \u001b[38;5;129;01min\u001b[39;00m infile:\n\u001b[0;32m----> 3\u001b[0m         number \u001b[38;5;241m=\u001b[39m \u001b[38;5;28;43mint\u001b[39;49m\u001b[43m(\u001b[49m\u001b[43mline\u001b[49m\u001b[43m)\u001b[49m\n\u001b[1;32m      4\u001b[0m         \u001b[38;5;28mprint\u001b[39m(\u001b[38;5;28mtype\u001b[39m(number), number)\n",
      "\u001b[0;31mValueError\u001b[0m: invalid literal for int() with base 10: 'oops\\n'"
     ]
    }
   ],
   "source": [
    "with open('numbers.txt') as infile:\n",
    "    for line in infile:\n",
    "        number = int(line)\n",
    "        print(type(number), number)"
   ]
  },
  {
   "cell_type": "code",
   "execution_count": 181,
   "id": "527d6739",
   "metadata": {},
   "outputs": [
    {
     "name": "stdout",
     "output_type": "stream",
     "text": [
      "<class 'str'>\n"
     ]
    }
   ],
   "source": [
    "print(type('foo'))"
   ]
  },
  {
   "cell_type": "code",
   "execution_count": 185,
   "id": "f7926061",
   "metadata": {},
   "outputs": [],
   "source": [
    "somefile = open('numbers.txt')"
   ]
  },
  {
   "cell_type": "code",
   "execution_count": 186,
   "id": "b049b9eb",
   "metadata": {},
   "outputs": [
    {
     "name": "stdout",
     "output_type": "stream",
     "text": [
      "Help on built-in function write:\n",
      "\n",
      "write(text, /) method of _io.TextIOWrapper instance\n",
      "    Write string to stream.\n",
      "    Returns the number of characters written (which is always equal to\n",
      "    the length of the string).\n",
      "\n"
     ]
    }
   ],
   "source": [
    "help(somefile.write)"
   ]
  },
  {
   "cell_type": "code",
   "execution_count": 187,
   "id": "14e7c8da",
   "metadata": {},
   "outputs": [],
   "source": [
    "d = { 'one': 'won', 'two': 'too' }"
   ]
  },
  {
   "cell_type": "code",
   "execution_count": 188,
   "id": "e725506f",
   "metadata": {},
   "outputs": [],
   "source": [
    "f = open('test.txt', 'w')"
   ]
  },
  {
   "cell_type": "code",
   "execution_count": 190,
   "id": "83df5644",
   "metadata": {},
   "outputs": [
    {
     "data": {
      "text/plain": [
       "28"
      ]
     },
     "execution_count": 190,
     "metadata": {},
     "output_type": "execute_result"
    }
   ],
   "source": [
    "f.write(str(d))"
   ]
  },
  {
   "cell_type": "code",
   "execution_count": 191,
   "id": "86744f6c",
   "metadata": {},
   "outputs": [],
   "source": [
    "f.close()"
   ]
  },
  {
   "cell_type": "code",
   "execution_count": 192,
   "id": "8fd37b3b",
   "metadata": {},
   "outputs": [],
   "source": [
    "import pickle"
   ]
  },
  {
   "cell_type": "markdown",
   "id": "fab26d6f",
   "metadata": {},
   "source": [
    "## Lab: File I/O + dicts\n",
    "* write a Python program to read a file and count the number of occurrences of each word in the file\n",
    "* use a __`dict`__, indexed by word, to count the occurrences\n",
    "* remember __`d.get(key)`__ will return __`None`__ if there is no such key in the dict (vs. __`d[key]`__ which will throw an exception) and also the __`in`__ operator\n",
    "  * or use a __`collections.defaultdict`__ if we've covered it\n",
    "* treat __The__ and __the__ as the same word when counting\n",
    "* print out words and counts, from most common to least common\n",
    "* EXTRA: remove punctuation, so __Hamlet,__ == __Hamlet__ # refer back to \"import this\"\n",
    "* Road Not Taken and Hamlet are in your materials"
   ]
  },
  {
   "cell_type": "code",
   "execution_count": 193,
   "id": "4e39aaa0",
   "metadata": {},
   "outputs": [],
   "source": [
    "wordcounts = {}"
   ]
  },
  {
   "cell_type": "code",
   "execution_count": null,
   "id": "ed68ab5d",
   "metadata": {},
   "outputs": [],
   "source": [
    "# suppose we see 'the' for the first time\n",
    "if 'the' not in wordcounts:\n",
    "    wordcounts['the'] = 1\n",
    "else:\n",
    "    wordcounts['the'] += 1"
   ]
  },
  {
   "cell_type": "code",
   "execution_count": 197,
   "id": "0f3a4bf8",
   "metadata": {},
   "outputs": [
    {
     "name": "stdout",
     "output_type": "stream",
     "text": [
      "not there\n"
     ]
    }
   ],
   "source": [
    "print(wordcounts.get('and', 'not there'))"
   ]
  },
  {
   "cell_type": "code",
   "execution_count": 198,
   "id": "242ff67b",
   "metadata": {},
   "outputs": [
    {
     "name": "stdout",
     "output_type": "stream",
     "text": [
      "0\n"
     ]
    }
   ],
   "source": [
    "print(wordcounts.get('and', 0))"
   ]
  },
  {
   "cell_type": "code",
   "execution_count": 199,
   "id": "fc241cd1",
   "metadata": {},
   "outputs": [
    {
     "data": {
      "text/plain": [
       "{}"
      ]
     },
     "execution_count": 199,
     "metadata": {},
     "output_type": "execute_result"
    }
   ],
   "source": [
    "wordcounts"
   ]
  },
  {
   "cell_type": "code",
   "execution_count": 200,
   "id": "77ba2f68",
   "metadata": {},
   "outputs": [],
   "source": [
    "wordcounts['and'] = wordcounts.get('and', 0) + 1"
   ]
  },
  {
   "cell_type": "code",
   "execution_count": 201,
   "id": "9d409919",
   "metadata": {},
   "outputs": [
    {
     "data": {
      "text/plain": [
       "{'and': 1}"
      ]
     },
     "execution_count": 201,
     "metadata": {},
     "output_type": "execute_result"
    }
   ],
   "source": [
    "wordcounts"
   ]
  },
  {
   "cell_type": "code",
   "execution_count": 227,
   "id": "7df810be",
   "metadata": {},
   "outputs": [],
   "source": [
    "from string import punctuation\n",
    "wordcounts = {}\n",
    "\n",
    "with open('hamlet.txt') as infile:\n",
    "    # file is open, ready to be processed\n",
    "    for line in infile: # grab one line at a time, courtesy of Guido\n",
    "        line = ''.join([char for char in line.lower()\n",
    "                                if char not in punctuation])\n",
    "        for word in line.split(): # convert to lower case, and split into words\n",
    "            wordcounts[word] = wordcounts.get(word, 0) + 1\n"
   ]
  },
  {
   "cell_type": "code",
   "execution_count": 228,
   "id": "fd03cb17",
   "metadata": {
    "scrolled": true
   },
   "outputs": [
    {
     "name": "stdout",
     "output_type": "stream",
     "text": [
      "the 1142\n",
      "and 964\n",
      "to 737\n",
      "of 669\n",
      "i 567\n",
      "you 546\n",
      "a 531\n",
      "my 513\n",
      "hamlet 463\n",
      "in 436\n",
      "it 416\n",
      "that 389\n",
      "is 340\n",
      "not 313\n",
      "lord 310\n",
      "his 296\n",
      "this 296\n",
      "but 270\n",
      "with 267\n",
      "for 248\n",
      "your 242\n",
      "me 233\n",
      "be 226\n",
      "as 221\n",
      "he 216\n",
      "what 204\n",
      "him 197\n",
      "king 194\n",
      "so 194\n",
      "have 179\n",
      "will 169\n",
      "horatio 157\n",
      "do 151\n",
      "no 142\n",
      "we 140\n",
      "are 131\n",
      "on 126\n",
      "o 122\n",
      "all 120\n",
      "claudius 120\n",
      "polonius 119\n",
      "our 118\n",
      "queen 118\n",
      "by 117\n",
      "shall 114\n",
      "if 113\n",
      "or 112\n",
      "good 109\n",
      "come 106\n",
      "laertes 105\n",
      "thou 103\n",
      "they 103\n",
      "now 98\n",
      "more 96\n",
      "let 95\n",
      "from 95\n",
      "gertrude 95\n",
      "her 91\n",
      "well 90\n",
      "how 90\n",
      "at 87\n",
      "thy 87\n",
      "ophelia 86\n",
      "most 82\n",
      "was 82\n",
      "like 80\n",
      "would 79\n",
      "there 77\n",
      "rosencrantz 76\n",
      "sir 75\n",
      "them 74\n",
      "know 74\n",
      "tis 73\n",
      "may 70\n",
      "go 70\n",
      "us 68\n",
      "love 67\n",
      "did 65\n",
      "first 65\n",
      "enter 64\n",
      "then 64\n",
      "which 64\n",
      "very 64\n",
      "guildenstern 64\n",
      "speak 63\n",
      "hath 62\n",
      "ill 61\n",
      "why 60\n",
      "must 60\n",
      "thee 58\n",
      "give 58\n",
      "should 58\n",
      "their 57\n",
      "make 56\n",
      "where 56\n",
      "an 56\n",
      "upon 55\n",
      "say 54\n",
      "when 54\n",
      "such 54\n",
      "some 54\n",
      "here 54\n",
      "out 54\n",
      "am 53\n",
      "man 52\n",
      "than 51\n",
      "too 51\n",
      "much 50\n",
      "father 50\n",
      "these 48\n",
      "think 47\n",
      "one 47\n",
      "clown 47\n",
      "marcellus 46\n",
      "see 46\n",
      "she 46\n",
      "had 45\n",
      "yet 44\n",
      "heaven 43\n",
      "time 43\n",
      "tell 43\n",
      "who 41\n",
      "thus 41\n",
      "play 40\n",
      "exit 40\n",
      "up 38\n",
      "ay 38\n",
      "mother 38\n",
      "own 37\n",
      "death 37\n",
      "nor 37\n",
      "night 36\n",
      "take 36\n",
      "look 36\n",
      "mine 36\n",
      "can 36\n",
      "exeunt 36\n",
      "soul 34\n",
      "hear 33\n",
      "dead 33\n",
      "again 32\n",
      "god 32\n",
      "might 32\n",
      "life 32\n",
      "could 32\n",
      "whose 31\n",
      "indeed 31\n",
      "into 31\n",
      "osric 31\n",
      "bernardo 30\n",
      "nothing 30\n",
      "made 30\n",
      "ghost 30\n",
      "pray 30\n",
      "heart 29\n",
      "hold 29\n",
      "dear 29\n",
      "down 28\n",
      "been 28\n",
      "cannot 28\n",
      "leave 28\n",
      "within 28\n",
      "were 28\n",
      "doth 27\n",
      "nature 27\n",
      "matter 27\n",
      "nay 26\n",
      "great 26\n",
      "both 26\n",
      "never 26\n",
      "thing 25\n",
      "part 25\n",
      "away 25\n",
      "does 25\n",
      "head 25\n",
      "sweet 25\n",
      "comes 24\n",
      "even 24\n",
      "world 24\n",
      "earth 24\n",
      "though 24\n",
      "itself 24\n",
      "put 24\n",
      "scene 23\n",
      "eyes 23\n",
      "against 23\n",
      "two 23\n",
      "true 23\n",
      "second 23\n",
      "seen 22\n",
      "show 22\n",
      "set 22\n",
      "madness 22\n",
      "denmark 21\n",
      "before 21\n",
      "off 21\n",
      "fair 21\n",
      "day 21\n",
      "fortinbras 21\n",
      "those 21\n",
      "done 21\n",
      "himself 21\n",
      "follow 21\n",
      "call 21\n",
      "mad 21\n",
      "friends 20\n",
      "fear 20\n",
      "without 20\n",
      "old 20\n",
      "fathers 20\n",
      "son 20\n",
      "till 20\n",
      "poor 20\n",
      "means 20\n",
      "words 20\n",
      "players 20\n",
      "player 20\n",
      "england 20\n",
      "act 19\n",
      "once 19\n",
      "believe 19\n",
      "hand 19\n",
      "blood 19\n",
      "still 19\n",
      "gentleman 19\n",
      "little 18\n",
      "about 18\n",
      "keep 18\n",
      "many 18\n",
      "makes 18\n",
      "theres 18\n",
      "reynaldo 18\n",
      "long 17\n",
      "farewell 17\n",
      "welcome 17\n",
      "art 17\n",
      "ist 17\n",
      "young 17\n",
      "any 17\n",
      "find 17\n",
      "thoughts 17\n",
      "noble 17\n",
      "body 17\n",
      "ear 17\n",
      "else 17\n",
      "end 17\n",
      "cause 17\n",
      "has 16\n",
      "thats 16\n",
      "question 16\n",
      "majesty 16\n",
      "hast 16\n",
      "use 16\n",
      "faith 16\n",
      "youth 16\n",
      "marry 16\n",
      "speech 16\n",
      "since 16\n",
      "another 16\n",
      "sword 16\n",
      "stand 15\n",
      "yourself 15\n",
      "live 15\n",
      "watch 15\n",
      "therefore 15\n",
      "last 15\n",
      "state 15\n",
      "other 15\n",
      "eye 15\n",
      "tongue 15\n",
      "said 15\n",
      "between 15\n",
      "rest 15\n",
      "sings 15\n",
      "answer 14\n",
      "ho 14\n",
      "mark 14\n",
      "gone 14\n",
      "heard 14\n",
      "spirit 14\n",
      "room 14\n",
      "bear 14\n",
      "grief 14\n",
      "better 14\n",
      "reason 14\n",
      "drink 14\n",
      "after 14\n",
      "murder 14\n",
      "lady 14\n",
      "dost 14\n",
      "castle 13\n",
      "form 13\n",
      "ere 13\n",
      "grace 13\n",
      "ever 13\n",
      "oer 13\n",
      "duty 13\n",
      "lets 13\n",
      "ourselves 13\n",
      "thine 13\n",
      "friend 13\n",
      "sense 13\n",
      "none 13\n",
      "virtue 13\n",
      "daughter 13\n",
      "sent 13\n",
      "haste 12\n",
      "awhile 12\n",
      "same 12\n",
      "myself 12\n",
      "together 12\n",
      "something 12\n",
      "norway 12\n",
      "goes 12\n",
      "fire 12\n",
      "voice 12\n",
      "oft 12\n",
      "being 12\n",
      "air 12\n",
      "further 12\n",
      "things 12\n",
      "whats 12\n",
      "aside 12\n",
      "kind 12\n",
      "madam 12\n",
      "mind 12\n",
      "remember 12\n",
      "saw 12\n",
      "word 12\n",
      "hands 12\n",
      "while 12\n",
      "sleep 12\n",
      "please 12\n",
      "bring 12\n",
      "fit 12\n",
      "revenge 12\n",
      "grave 12\n",
      "purpose 12\n",
      "bed 11\n",
      "honest 11\n",
      "tonight 11\n",
      "stay 11\n",
      "thought 11\n",
      "full 11\n",
      "een 11\n",
      "far 11\n",
      "business 11\n",
      "doubt 11\n",
      "best 11\n",
      "face 11\n",
      "gentlemen 11\n",
      "each 11\n",
      "hell 11\n",
      "foul 11\n",
      "deed 11\n",
      "way 11\n",
      "wind 11\n",
      "mean 11\n",
      "men 11\n",
      "villain 11\n",
      "right 11\n",
      "help 11\n",
      "passion 11\n",
      "thousand 11\n",
      "fortune 11\n",
      "prince 10\n",
      "francisco 10\n",
      "thanks 10\n",
      "ground 10\n",
      "ears 10\n",
      "peace 10\n",
      "work 10\n",
      "almost 10\n",
      "takes 10\n",
      "memory 10\n",
      "twere 10\n",
      "news 10\n",
      "alone 10\n",
      "seem 10\n",
      "kings 10\n",
      "heavens 10\n",
      "excellent 10\n",
      "name 10\n",
      "honour 10\n",
      "every 10\n",
      "neither 10\n",
      "given 10\n",
      "free 10\n",
      "phrase 10\n",
      "command 10\n",
      "alas 10\n",
      "aught 10\n",
      "hes 10\n",
      "swear 10\n",
      "ha 10\n",
      "fine 10\n",
      "pyrrhus 10\n",
      "lie 10\n",
      "skull 10\n",
      "get 9\n",
      "place 9\n",
      "sight 9\n",
      "strange 9\n",
      "fell 9\n",
      "int 9\n",
      "through 9\n",
      "walk 9\n",
      "dot 9\n",
      "brothers 9\n",
      "late 9\n",
      "brother 9\n",
      "uncle 9\n",
      "came 9\n",
      "seek 9\n",
      "breath 9\n",
      "arms 9\n",
      "near 9\n",
      "judgment 9\n",
      "light 9\n",
      "custom 9\n",
      "action 9\n",
      "draw 9\n",
      "wilt 9\n",
      "sure 9\n",
      "offence 9\n",
      "fellow 9\n",
      "hither 9\n",
      "lay 9\n",
      "age 9\n",
      "hamlets 9\n",
      "three 9\n",
      "thank 9\n",
      "behind 9\n",
      "fall 9\n",
      "devil 9\n",
      "captain 9\n",
      "hour 8\n",
      "meet 8\n",
      "says 8\n",
      "sit 8\n",
      "break 8\n",
      "looks 8\n",
      "charge 8\n",
      "pale 8\n",
      "ont 8\n",
      "particular 8\n",
      "known 8\n",
      "lost 8\n",
      "sun 8\n",
      "soft 8\n",
      "reenter 8\n",
      "power 8\n",
      "voltimand 8\n",
      "attendants 8\n",
      "woe 8\n",
      "joy 8\n",
      "wife 8\n",
      "less 8\n",
      "black 8\n",
      "truly 8\n",
      "back 8\n",
      "desire 8\n",
      "lordship 8\n",
      "fashion 8\n",
      "grow 8\n",
      "service 8\n",
      "shame 8\n",
      "t 8\n",
      "soldiers 8\n",
      "times 8\n",
      "heres 8\n",
      "music 8\n",
      "falls 8\n",
      "hope 8\n",
      "gave 8\n",
      "quick 8\n",
      "conscience 8\n",
      "noise 8\n",
      "husband 8\n",
      "dies 8\n",
      "march 7\n",
      "law 7\n",
      "list 7\n",
      "unto 7\n",
      "coming 7\n",
      "whether 7\n",
      "wherein 7\n",
      "wholesome 7\n",
      "loves 7\n",
      "whole 7\n",
      "beg 7\n",
      "beseech 7\n",
      "dust 7\n",
      "common 7\n",
      "shows 7\n",
      "obey 7\n",
      "rank 7\n",
      "woman 7\n",
      "tears 7\n",
      "mothers 7\n",
      "top 7\n",
      "shot 7\n",
      "enough 7\n",
      "effect 7\n",
      "understand 7\n",
      "fool 7\n",
      "tot 7\n",
      "fortunes 7\n",
      "general 7\n",
      "adieu 7\n",
      "needs 7\n",
      "receive 7\n",
      "gives 7\n",
      "loved 7\n",
      "others 7\n",
      "bloody 7\n",
      "turn 7\n",
      "letters 7\n",
      "elsinore 6\n",
      "struck 6\n",
      "cold 6\n",
      "bid 6\n",
      "dane 6\n",
      "star 6\n",
      "buried 6\n",
      "cast 6\n",
      "toward 6\n",
      "seald 6\n",
      "stood 6\n",
      "hot 6\n",
      "prologue 6\n",
      "sound 6\n",
      "cock 6\n",
      "wrong 6\n",
      "guilty 6\n",
      "sea 6\n",
      "truth 6\n",
      "season 6\n",
      "gracious 6\n",
      "ii 6\n",
      "cornelius 6\n",
      "sorrow 6\n",
      "sister 6\n",
      "dream 6\n",
      "writ 6\n",
      "wouldst 6\n",
      "mouth 6\n",
      "confess 6\n",
      "pardon 6\n",
      "die 6\n",
      "seems 6\n",
      "fie 6\n",
      "note 6\n",
      "lose 6\n",
      "health 6\n",
      "ah 6\n",
      "beast 6\n",
      "discourse 6\n",
      "wicked 6\n",
      "forth 6\n",
      "gods 6\n",
      "beard 6\n",
      "fare 6\n",
      "withal 6\n",
      "choice 6\n",
      "wisdom 6\n",
      "maid 6\n",
      "beauty 6\n",
      "lies 6\n",
      "double 6\n",
      "dull 6\n",
      "false 6\n",
      "circumstance 6\n",
      "shape 6\n",
      "souls 6\n",
      "brain 6\n",
      "desperate 6\n",
      "days 6\n",
      "fat 6\n",
      "crown 6\n",
      "wit 6\n",
      "court 6\n",
      "damned 6\n",
      "already 6\n",
      "lack 6\n",
      "touch 6\n",
      "move 6\n",
      "brought 6\n",
      "whom 6\n",
      "pass 6\n",
      "home 6\n",
      "reads 6\n",
      "round 6\n",
      "herself 6\n",
      "try 6\n",
      "either 6\n",
      "bad 6\n",
      "ambition 6\n",
      "bodies 6\n",
      "laugh 6\n",
      "yours 6\n",
      "heavy 6\n",
      "speaks 6\n",
      "begin 6\n",
      "anon 6\n",
      "proof 6\n",
      "dangerous 6\n",
      "christian 6\n",
      "feed 6\n",
      "danish 6\n",
      "poison 6\n",
      "slain 6\n",
      "laid 6\n",
      "wager 6\n",
      "foils 6\n",
      "water 6\n",
      "platform 5\n",
      "twelve 5\n",
      "quiet 5\n",
      "course 5\n",
      "figure 5\n",
      "warlike 5\n",
      "thyself 5\n",
      "land 5\n",
      "terms 5\n",
      "motive 5\n",
      "stands 5\n",
      "spirits 5\n",
      "trumpet 5\n",
      "gainst 5\n",
      "stir 5\n",
      "impart 5\n",
      "morning 5\n",
      "kingdom 5\n",
      "marriage 5\n",
      "told 5\n",
      "dread 5\n",
      "return 5\n",
      "france 5\n",
      "hard 5\n",
      "colour 5\n",
      "visage 5\n",
      "bound 5\n",
      "fault 5\n",
      "throw 5\n",
      "gentle 5\n",
      "flesh 5\n",
      "visit 5\n",
      "disposition 5\n",
      "report 5\n",
      "teach 5\n",
      "point 5\n",
      "knew 5\n",
      "yes 5\n",
      "countenance 5\n",
      "longer 5\n",
      "perchance 5\n",
      "house 5\n",
      "perhaps 5\n",
      "safety 5\n",
      "danger 5\n",
      "moon 5\n",
      "blessing 5\n",
      "mans 5\n",
      "humbly 5\n",
      "audience 5\n",
      "vows 5\n",
      "flourish 5\n",
      "keeps 5\n",
      "choose 5\n",
      "damnd 5\n",
      "base 5\n",
      "puts 5\n",
      "beneath 5\n",
      "hearing 5\n",
      "shalt 5\n",
      "fast 5\n",
      "gifts 5\n",
      "went 5\n",
      "natural 5\n",
      "brief 5\n",
      "holds 5\n",
      "sudden 5\n",
      "vile 5\n",
      "table 5\n",
      "knave 5\n",
      "mercy 5\n",
      "liberty 5\n",
      "mass 5\n",
      "ins 5\n",
      "closet 5\n",
      "hat 5\n",
      "arm 5\n",
      "ecstasy 5\n",
      "hide 5\n",
      "found 5\n",
      "whereon 5\n",
      "commission 5\n",
      "read 5\n",
      "rather 5\n",
      "c 5\n",
      "short 5\n",
      "arras 5\n",
      "presently 5\n",
      "honesty 5\n",
      "save 5\n",
      "ye 5\n",
      "prison 5\n",
      "cry 5\n",
      "dare 5\n",
      "sing 5\n",
      "themselves 5\n",
      "brains 5\n",
      "twas 5\n",
      "only 5\n",
      "french 5\n",
      "fly 5\n",
      "treason 5\n",
      "conceit 5\n",
      "drown 5\n",
      "nunnery 5\n",
      "patience 5\n",
      "half 5\n",
      "year 5\n",
      "forgot 5\n",
      "killd 5\n",
      "wits 5\n",
      "door 5\n",
      "next 5\n",
      "messenger 5\n",
      "drownd 5\n",
      "alexander 5\n",
      "woot 5\n",
      "carriages 5\n",
      "hit 5\n",
      "sick 4\n",
      "piece 4\n",
      "twice 4\n",
      "twill 4\n",
      "nights 4\n",
      "sometimes 4\n",
      "cannon 4\n",
      "image 4\n",
      "lands 4\n",
      "returnd 4\n",
      "strong 4\n",
      "main 4\n",
      "minds 4\n",
      "high 4\n",
      "stars 4\n",
      "ease 4\n",
      "treasure 4\n",
      "stop 4\n",
      "violence 4\n",
      "throat 4\n",
      "herein 4\n",
      "dumb 4\n",
      "consent 4\n",
      "brow 4\n",
      "discretion 4\n",
      "remembrance 4\n",
      "funeral 4\n",
      "freely 4\n",
      "affair 4\n",
      "follows 4\n",
      "thinking 4\n",
      "frame 4\n",
      "giving 4\n",
      "commend 4\n",
      "native 4\n",
      "favour 4\n",
      "cousin 4\n",
      "clouds 4\n",
      "hang 4\n",
      "lives 4\n",
      "died 4\n",
      "wittenberg 4\n",
      "sits 4\n",
      "grows 4\n",
      "months 4\n",
      "grown 4\n",
      "month 4\n",
      "speed 4\n",
      "incestuous 4\n",
      "glad 4\n",
      "forget 4\n",
      "servant 4\n",
      "change 4\n",
      "deep 4\n",
      "mock 4\n",
      "thrift 4\n",
      "thrice 4\n",
      "length 4\n",
      "whilst 4\n",
      "kept 4\n",
      "methought 4\n",
      "its 4\n",
      "motion 4\n",
      "honourd 4\n",
      "warrant 4\n",
      "assume 4\n",
      "person 4\n",
      "silence 4\n",
      "iii 4\n",
      "wide 4\n",
      "affection 4\n",
      "occasion 4\n",
      "entertainment 4\n",
      "censure 4\n",
      "habit 4\n",
      "above 4\n",
      "tend 4\n",
      "pay 4\n",
      "tender 4\n",
      "heat 4\n",
      "leisure 4\n",
      "iv 4\n",
      "infinite 4\n",
      "bones 4\n",
      "horrible 4\n",
      "cries 4\n",
      "imagination 4\n",
      "direct 4\n",
      "lead 4\n",
      "pity 4\n",
      "lend 4\n",
      "certain 4\n",
      "tale 4\n",
      "didst 4\n",
      "unnatural 4\n",
      "sleeping 4\n",
      "angel 4\n",
      "methinks 4\n",
      "cursed 4\n",
      "instant 4\n",
      "bosom 4\n",
      "yea 4\n",
      "commandment 4\n",
      "secret 4\n",
      "wild 4\n",
      "sorry 4\n",
      "seeing 4\n",
      "need 4\n",
      "fingers 4\n",
      "drift 4\n",
      "breathe 4\n",
      "closes 4\n",
      "consequence 4\n",
      "wi 4\n",
      "took 4\n",
      "sigh 4\n",
      "over 4\n",
      "violent 4\n",
      "property 4\n",
      "under 4\n",
      "meant 4\n",
      "sith 4\n",
      "ambassadors 4\n",
      "polack 4\n",
      "sends 4\n",
      "white 4\n",
      "fain 4\n",
      "thence 4\n",
      "four 4\n",
      "ten 4\n",
      "except 4\n",
      "shell 4\n",
      "quality 4\n",
      "argument 4\n",
      "possible 4\n",
      "twenty 4\n",
      "lest 4\n",
      "ass 4\n",
      "masters 4\n",
      "straight 4\n",
      "modesty 4\n",
      "cunning 4\n",
      "priam 4\n",
      "pause 4\n",
      "prithee 4\n",
      "sleeps 4\n",
      "hecuba 4\n",
      "mortal 4\n",
      "tomorrow 4\n",
      "slave 4\n",
      "weep 4\n",
      "calls 4\n",
      "pate 4\n",
      "bestow 4\n",
      "blame 4\n",
      "fellows 4\n",
      "snow 4\n",
      "rose 4\n",
      "quite 4\n",
      "wretched 4\n",
      "send 4\n",
      "hall 4\n",
      "quantity 4\n",
      "ready 4\n",
      "wear 4\n",
      "eat 4\n",
      "kill 4\n",
      "imports 4\n",
      "shortly 4\n",
      "begun 4\n",
      "hence 4\n",
      "weeds 4\n",
      "lights 4\n",
      "stronger 4\n",
      "whereto 4\n",
      "pleasure 4\n",
      "danes 4\n",
      "bore 4\n",
      "practise 4\n",
      "burial 4\n",
      "spade 4\n",
      "priest 4\n",
      "six 4\n",
      "cup 4\n",
      "tragedy 3\n",
      "unfold 3\n",
      "bitter 3\n",
      "guard 3\n",
      "appeard 3\n",
      "fantasy 3\n",
      "touching 3\n",
      "along 3\n",
      "appear 3\n",
      "story 3\n",
      "beating 3\n",
      "wonder 3\n",
      "offended 3\n",
      "armour 3\n",
      "ambitious 3\n",
      "gross 3\n",
      "scope 3\n",
      "knows 3\n",
      "subject 3\n",
      "sore 3\n",
      "recover 3\n",
      "chief 3\n",
      "sort 3\n",
      "armed 3\n",
      "graves 3\n",
      "doomsday 3\n",
      "lo 3\n",
      "avoid 3\n",
      "offer 3\n",
      "morn 3\n",
      "present 3\n",
      "birth 3\n",
      "dew 3\n",
      "hill 3\n",
      "advice 3\n",
      "lords 3\n",
      "hearts 3\n",
      "wisest 3\n",
      "delight 3\n",
      "worth 3\n",
      "importing 3\n",
      "ourself 3\n",
      "hears 3\n",
      "nephews 3\n",
      "heartily 3\n",
      "suit 3\n",
      "loose 3\n",
      "bend 3\n",
      "bow 3\n",
      "slow 3\n",
      "passing 3\n",
      "suits 3\n",
      "solemn 3\n",
      "forms 3\n",
      "shapes 3\n",
      "understanding 3\n",
      "theme 3\n",
      "cried 3\n",
      "corse 3\n",
      "cheer 3\n",
      "courtier 3\n",
      "loving 3\n",
      "smiling 3\n",
      "rouse 3\n",
      "fixd 3\n",
      "flat 3\n",
      "uses 3\n",
      "winds 3\n",
      "hercules 3\n",
      "salt 3\n",
      "left 3\n",
      "enemy 3\n",
      "goodly 3\n",
      "admiration 3\n",
      "appears 3\n",
      "dreadful 3\n",
      "secrecy 3\n",
      "third 3\n",
      "loud 3\n",
      "sirs 3\n",
      "foot 3\n",
      "lookd 3\n",
      "stayd 3\n",
      "mens 3\n",
      "inward 3\n",
      "chaste 3\n",
      "spring 3\n",
      "aboard 3\n",
      "shoulder 3\n",
      "sail 3\n",
      "few 3\n",
      "steel 3\n",
      "purse 3\n",
      "fancy 3\n",
      "rich 3\n",
      "generous 3\n",
      "edge 3\n",
      "canst 3\n",
      "tenders 3\n",
      "taen 3\n",
      "honourable 3\n",
      "presence 3\n",
      "mere 3\n",
      "pious 3\n",
      "ways 3\n",
      "wont 3\n",
      "trumpets 3\n",
      "ordnance 3\n",
      "born 3\n",
      "addition 3\n",
      "pith 3\n",
      "complexion 3\n",
      "natures 3\n",
      "livery 3\n",
      "pure 3\n",
      "corruption 3\n",
      "angels 3\n",
      "defend 3\n",
      "royal 3\n",
      "burst 3\n",
      "ignorance 3\n",
      "making 3\n",
      "wherefore 3\n",
      "waves 3\n",
      "fee 3\n",
      "tempt 3\n",
      "ruled 3\n",
      "v 3\n",
      "crimes 3\n",
      "start 3\n",
      "process 3\n",
      "wretch 3\n",
      "stole 3\n",
      "distracted 3\n",
      "past 3\n",
      "im 3\n",
      "sworn 3\n",
      "boy 3\n",
      "youll 3\n",
      "neer 3\n",
      "saint 3\n",
      "wondrous 3\n",
      "express 3\n",
      "wanton 3\n",
      "gaming 3\n",
      "faults 3\n",
      "fiery 3\n",
      "country 3\n",
      "observe 3\n",
      "piteous 3\n",
      "turnd 3\n",
      "doors 3\n",
      "close 3\n",
      "entreat 3\n",
      "vouchsafe 3\n",
      "gather 3\n",
      "profit 3\n",
      "visitation 3\n",
      "sovereign 3\n",
      "bent 3\n",
      "liege 3\n",
      "feast 3\n",
      "distemper 3\n",
      "desires 3\n",
      "borne 3\n",
      "assay 3\n",
      "likes 3\n",
      "outward 3\n",
      "foolish 3\n",
      "remains 3\n",
      "faithful 3\n",
      "received 3\n",
      "prove 3\n",
      "idle 3\n",
      "mistress 3\n",
      "otherwise 3\n",
      "encounter 3\n",
      "rogue 3\n",
      "thick 3\n",
      "hits 3\n",
      "indifferent 3\n",
      "children 3\n",
      "happy 3\n",
      "parts 3\n",
      "denmarks 3\n",
      "count 3\n",
      "dreams 3\n",
      "shadow 3\n",
      "beggar 3\n",
      "justly 3\n",
      "confession 3\n",
      "brave 3\n",
      "golden 3\n",
      "delights 3\n",
      "stuff 3\n",
      "rapiers 3\n",
      "sides 3\n",
      "nation 3\n",
      "unless 3\n",
      "carry 3\n",
      "ducats 3\n",
      "ceremony 3\n",
      "actor 3\n",
      "jephthah 3\n",
      "judge 3\n",
      "hadst 3\n",
      "five 3\n",
      "judgments 3\n",
      "lines 3\n",
      "horse 3\n",
      "finds 3\n",
      "rage 3\n",
      "seeming 3\n",
      "blow 3\n",
      "stick 3\n",
      "bold 3\n",
      "below 3\n",
      "wheel 3\n",
      "mobled 3\n",
      "sport 3\n",
      "husbands 3\n",
      "gonzago 3\n",
      "dozen 3\n",
      "force 3\n",
      "stage 3\n",
      "ignorant 3\n",
      "swounds 3\n",
      "creatures 3\n",
      "organ 3\n",
      "order 3\n",
      "content 3\n",
      "accident 3\n",
      "unseen 3\n",
      "affliction 3\n",
      "suffers 3\n",
      "wish 3\n",
      "withdraw 3\n",
      "suffer 3\n",
      "proud 3\n",
      "patient 3\n",
      "powers 3\n",
      "ladies 3\n",
      "placed 3\n",
      "tear 3\n",
      "tame 3\n",
      "special 3\n",
      "election 3\n",
      "pipe 3\n",
      "guilt 3\n",
      "maids 3\n",
      "neck 3\n",
      "flowers 3\n",
      "leaves 3\n",
      "kisses 3\n",
      "counsel 3\n",
      "thirty 3\n",
      "wed 3\n",
      "jest 3\n",
      "lucianus 3\n",
      "worse 3\n",
      "murderer 3\n",
      "estate 3\n",
      "recorders 3\n",
      "heels 3\n",
      "skill 3\n",
      "pluck 3\n",
      "bless 3\n",
      "prepare 3\n",
      "repent 3\n",
      "revenged 3\n",
      "rat 3\n",
      "rash 3\n",
      "seal 3\n",
      "mountain 3\n",
      "wast 3\n",
      "feeling 3\n",
      "vice 3\n",
      "alack 3\n",
      "rapier 3\n",
      "sponge 3\n",
      "dry 3\n",
      "worm 3\n",
      "poland 3\n",
      "gain 3\n",
      "trick 3\n",
      "fight 3\n",
      "tricks 3\n",
      "tongues 3\n",
      "incensed 3\n",
      "pit 3\n",
      "nonny 3\n",
      "becomes 3\n",
      "sailors 3\n",
      "excellence 3\n",
      "argal 3\n",
      "gallows 3\n",
      "clay 3\n",
      "liest 3\n",
      "years 3\n",
      "nine 3\n",
      "hangers 3\n",
      "trial 3\n",
      "win 3\n",
      "odds 3\n",
      "poisond 3\n",
      "post 2\n",
      "whos 2\n",
      "mouse 2\n",
      "soldier 2\n",
      "relieved 2\n",
      "apparition 2\n",
      "approve 2\n",
      "tush 2\n",
      "pole 2\n",
      "burns 2\n",
      "bell 2\n",
      "spoke 2\n",
      "tremble 2\n",
      "sensible 2\n",
      "ice 2\n",
      "jump 2\n",
      "strict 2\n",
      "war 2\n",
      "divide 2\n",
      "inform 2\n",
      "least 2\n",
      "valiant 2\n",
      "side 2\n",
      "heraldry 2\n",
      "article 2\n",
      "lawless 2\n",
      "food 2\n",
      "diet 2\n",
      "enterprise 2\n",
      "source 2\n",
      "wars 2\n",
      "trouble 2\n",
      "rome 2\n",
      "julius 2\n",
      "roman 2\n",
      "streets 2\n",
      "trains 2\n",
      "neptunes 2\n",
      "empire 2\n",
      "fates 2\n",
      "blast 2\n",
      "fate 2\n",
      "happily 2\n",
      "strike 2\n",
      "majestical 2\n",
      "blows 2\n",
      "malicious 2\n",
      "crew 2\n",
      "awake 2\n",
      "confine 2\n",
      "bird 2\n",
      "walks 2\n",
      "needful 2\n",
      "green 2\n",
      "sometime 2\n",
      "mirth 2\n",
      "equal 2\n",
      "scale 2\n",
      "taken 2\n",
      "weak 2\n",
      "meeting 2\n",
      "suppress 2\n",
      "gait 2\n",
      "levies 2\n",
      "dispatch 2\n",
      "bearers 2\n",
      "asking 2\n",
      "throne 2\n",
      "willingly 2\n",
      "graces 2\n",
      "kin 2\n",
      "knowst 2\n",
      "forced 2\n",
      "havior 2\n",
      "actions 2\n",
      "obligation 2\n",
      "term 2\n",
      "vulgar 2\n",
      "opposition 2\n",
      "absurd 2\n",
      "today 2\n",
      "immediate 2\n",
      "dearest 2\n",
      "bears 2\n",
      "intent 2\n",
      "going 2\n",
      "remain 2\n",
      "prayers 2\n",
      "reply 2\n",
      "whereof 2\n",
      "thunder 2\n",
      "melt 2\n",
      "weary 2\n",
      "garden 2\n",
      "merely 2\n",
      "roughly 2\n",
      "fed 2\n",
      "shoes 2\n",
      "followd 2\n",
      "wants 2\n",
      "galled 2\n",
      "married 2\n",
      "truant 2\n",
      "baked 2\n",
      "coldly 2\n",
      "foe 2\n",
      "deliver 2\n",
      "witness 2\n",
      "middle 2\n",
      "troubles 2\n",
      "armd 2\n",
      "toe 2\n",
      "red 2\n",
      "hundred 2\n",
      "sable 2\n",
      "hitherto 2\n",
      "requite 2\n",
      "twixt 2\n",
      "rise 2\n",
      "assistant 2\n",
      "toy 2\n",
      "forward 2\n",
      "lasting 2\n",
      "perfume 2\n",
      "bulk 2\n",
      "waxes 2\n",
      "soil 2\n",
      "weighd 2\n",
      "fits 2\n",
      "weigh 2\n",
      "songs 2\n",
      "open 2\n",
      "prodigal 2\n",
      "canker 2\n",
      "disclosed 2\n",
      "imminent 2\n",
      "wary 2\n",
      "puffd 2\n",
      "precepts 2\n",
      "character 2\n",
      "grapple 2\n",
      "palm 2\n",
      "beware 2\n",
      "quarrel 2\n",
      "opposed 2\n",
      "proclaims 2\n",
      "station 2\n",
      "servants 2\n",
      "lockd 2\n",
      "baby 2\n",
      "dearly 2\n",
      "holy 2\n",
      "catch 2\n",
      "maiden 2\n",
      "rate 2\n",
      "breathing 2\n",
      "beguile 2\n",
      "plain 2\n",
      "moment 2\n",
      "talk 2\n",
      "eager 2\n",
      "draws 2\n",
      "held 2\n",
      "rhenish 2\n",
      "performd 2\n",
      "chances 2\n",
      "mole 2\n",
      "origin 2\n",
      "manners 2\n",
      "stamp 2\n",
      "defect 2\n",
      "virtues 2\n",
      "substance 2\n",
      "scandal 2\n",
      "charitable 2\n",
      "comest 2\n",
      "hideous 2\n",
      "fools 2\n",
      "horridly 2\n",
      "shake 2\n",
      "beyond 2\n",
      "beckons 2\n",
      "summit 2\n",
      "desperation 2\n",
      "roar 2\n",
      "petty 2\n",
      "issue 2\n",
      "rotten 2\n",
      "flames 2\n",
      "forbid 2\n",
      "hair 2\n",
      "eternal 2\n",
      "wings 2\n",
      "swift 2\n",
      "sweep 2\n",
      "apt 2\n",
      "shouldst 2\n",
      "orchard 2\n",
      "serpent 2\n",
      "forged 2\n",
      "sting 2\n",
      "wears 2\n",
      "witchcraft 2\n",
      "lust 2\n",
      "dignity 2\n",
      "vow 2\n",
      "celestial 2\n",
      "secure 2\n",
      "smooth 2\n",
      "cut 2\n",
      "sin 2\n",
      "couch 2\n",
      "contrive 2\n",
      "sinews 2\n",
      "seat 2\n",
      "wipe 2\n",
      "fond 2\n",
      "book 2\n",
      "baser 2\n",
      "smile 2\n",
      "hillo 2\n",
      "wonderful 2\n",
      "arrant 2\n",
      "scholars 2\n",
      "sayst 2\n",
      "propose 2\n",
      "oath 2\n",
      "remove 2\n",
      "philosophy 2\n",
      "odd 2\n",
      "doubtful 2\n",
      "willing 2\n",
      "lips 2\n",
      "money 2\n",
      "marvellous 2\n",
      "wisely 2\n",
      "inquire 2\n",
      "behavior 2\n",
      "finding 2\n",
      "nearer 2\n",
      "demands 2\n",
      "ift 2\n",
      "dishonour 2\n",
      "heed 2\n",
      "swearing 2\n",
      "fetch 2\n",
      "laying 2\n",
      "working 2\n",
      "having 2\n",
      "assured 2\n",
      "according 2\n",
      "former 2\n",
      "inclination 2\n",
      "knees 2\n",
      "profound 2\n",
      "seemd 2\n",
      "helps 2\n",
      "fetters 2\n",
      "jealousy 2\n",
      "proper 2\n",
      "opinions 2\n",
      "sending 2\n",
      "pleasures 2\n",
      "unknown 2\n",
      "talkd 2\n",
      "living 2\n",
      "gentry 2\n",
      "majesties 2\n",
      "entreaty 2\n",
      "feet 2\n",
      "trail 2\n",
      "used 2\n",
      "lunacy 2\n",
      "fruit 2\n",
      "sons 2\n",
      "sickness 2\n",
      "shown 2\n",
      "allowance 2\n",
      "labour 2\n",
      "limbs 2\n",
      "obedience 2\n",
      "beautified 2\n",
      "numbers 2\n",
      "lock 2\n",
      "admit 2\n",
      "weakness 2\n",
      "likely 2\n",
      "proved 2\n",
      "pointing 2\n",
      "hid 2\n",
      "hours 2\n",
      "lobby 2\n",
      "falln 2\n",
      "farm 2\n",
      "reading 2\n",
      "fishmonger 2\n",
      "picked 2\n",
      "breed 2\n",
      "maggots 2\n",
      "dog 2\n",
      "extremity 2\n",
      "faces 2\n",
      "purging 2\n",
      "method 2\n",
      "pregnant 2\n",
      "often 2\n",
      "tedious 2\n",
      "cap 2\n",
      "favours 2\n",
      "strumpet 2\n",
      "worlds 2\n",
      "shadows 2\n",
      "beggars 2\n",
      "wait 2\n",
      "attended 2\n",
      "craft 2\n",
      "rights 2\n",
      "fellowship 2\n",
      "prevent 2\n",
      "pestilent 2\n",
      "apprehension 2\n",
      "tribute 2\n",
      "foil 2\n",
      "lungs 2\n",
      "fort 2\n",
      "city 2\n",
      "travel 2\n",
      "wonted 2\n",
      "pace 2\n",
      "scarce 2\n",
      "thither 2\n",
      "em 2\n",
      "pursue 2\n",
      "succession 2\n",
      "lived 2\n",
      "forty 2\n",
      "apiece 2\n",
      "picture 2\n",
      "sblood 2\n",
      "comply 2\n",
      "deceived 2\n",
      "child 2\n",
      "prophesy 2\n",
      "actors 2\n",
      "buz 2\n",
      "comedy 2\n",
      "history 2\n",
      "byr 2\n",
      "ring 2\n",
      "passionate 2\n",
      "pleased 2\n",
      "matters 2\n",
      "author 2\n",
      "especially 2\n",
      "line 2\n",
      "rugged 2\n",
      "begins 2\n",
      "dismal 2\n",
      "seeks 2\n",
      "proceed 2\n",
      "spoken 2\n",
      "accent 2\n",
      "antique 2\n",
      "rebellious 2\n",
      "senseless 2\n",
      "flaming 2\n",
      "stoops 2\n",
      "prisoner 2\n",
      "painted 2\n",
      "region 2\n",
      "vengeance 2\n",
      "sets 2\n",
      "new 2\n",
      "spokes 2\n",
      "jig 2\n",
      "run 2\n",
      "diadem 2\n",
      "alarm 2\n",
      "caught 2\n",
      "venom 2\n",
      "pronounced 2\n",
      "burning 2\n",
      "epitaph 2\n",
      "desert 2\n",
      "scape 2\n",
      "merit 2\n",
      "peasant 2\n",
      "distraction 2\n",
      "horrid 2\n",
      "confound 2\n",
      "defeat 2\n",
      "coward 2\n",
      "breaks 2\n",
      "plucks 2\n",
      "nose 2\n",
      "gall 2\n",
      "treacherous 2\n",
      "upont 2\n",
      "melancholy 2\n",
      "potent 2\n",
      "aloof 2\n",
      "pastime 2\n",
      "drive 2\n",
      "frankly 2\n",
      "honours 2\n",
      "exercise 2\n",
      "cheek 2\n",
      "arrows 2\n",
      "rub 2\n",
      "respect 2\n",
      "whips 2\n",
      "delay 2\n",
      "spurns 2\n",
      "unworthy 2\n",
      "sweat 2\n",
      "returns 2\n",
      "regard 2\n",
      "currents 2\n",
      "sins 2\n",
      "redeliver 2\n",
      "wax 2\n",
      "sooner 2\n",
      "translate 2\n",
      "relish 2\n",
      "offences 2\n",
      "wheres 2\n",
      "plague 2\n",
      "escape 2\n",
      "wise 2\n",
      "heavenly 2\n",
      "courtiers 2\n",
      "glass 2\n",
      "tune 2\n",
      "harsh 2\n",
      "feature 2\n",
      "blown 2\n",
      "blasted 2\n",
      "demand 2\n",
      "neglected 2\n",
      "haply 2\n",
      "variable 2\n",
      "expel 2\n",
      "ones 2\n",
      "capable 2\n",
      "overdone 2\n",
      "playing 2\n",
      "mirror 2\n",
      "tardy 2\n",
      "grieve 2\n",
      "praise 2\n",
      "clowns 2\n",
      "necessary 2\n",
      "just 2\n",
      "advancement 2\n",
      "rewards 2\n",
      "join 2\n",
      "fares 2\n",
      "played 2\n",
      "enact 2\n",
      "caesar 2\n",
      "killed 2\n",
      "capital 2\n",
      "lap 2\n",
      "lying 2\n",
      "merry 2\n",
      "cheerfully 2\n",
      "sables 2\n",
      "hobbyhorse 2\n",
      "kneels 2\n",
      "asleep 2\n",
      "pours 2\n",
      "poisoner 2\n",
      "mutes 2\n",
      "lament 2\n",
      "belike 2\n",
      "naught 2\n",
      "wash 2\n",
      "distrust 2\n",
      "fears 2\n",
      "wormwood 2\n",
      "destroy 2\n",
      "joys 2\n",
      "enemies 2\n",
      "want 2\n",
      "directly 2\n",
      "ours 2\n",
      "ends 2\n",
      "trust 2\n",
      "mischance 2\n",
      "twain 2\n",
      "knavish 2\n",
      "keen 2\n",
      "cost 2\n",
      "creature 2\n",
      "collected 2\n",
      "fors 2\n",
      "runs 2\n",
      "jove 2\n",
      "choler 2\n",
      "richer 2\n",
      "signify 2\n",
      "wildly 2\n",
      "amazement 2\n",
      "trade 2\n",
      "deny 2\n",
      "easy 2\n",
      "stops 2\n",
      "instrument 2\n",
      "yonder 2\n",
      "camel 2\n",
      "weasel 2\n",
      "whale 2\n",
      "contagion 2\n",
      "cruel 2\n",
      "daggers 2\n",
      "safe 2\n",
      "single 2\n",
      "strength 2\n",
      "cease 2\n",
      "mount 2\n",
      "voyage 2\n",
      "vantage 2\n",
      "serves 2\n",
      "prayer 2\n",
      "pardond 2\n",
      "serve 2\n",
      "forgive 2\n",
      "effects 2\n",
      "shuffling 2\n",
      "teeth 2\n",
      "forehead 2\n",
      "kills 2\n",
      "broad 2\n",
      "passage 2\n",
      "salvation 2\n",
      "sickly 2\n",
      "sconce 2\n",
      "wag 2\n",
      "rude 2\n",
      "blush 2\n",
      "assurance 2\n",
      "step 2\n",
      "difference 2\n",
      "proclaim 2\n",
      "burn 2\n",
      "precedent 2\n",
      "precious 2\n",
      "fighting 2\n",
      "peep 2\n",
      "flame 2\n",
      "convert 2\n",
      "unction 2\n",
      "spread 2\n",
      "ranker 2\n",
      "easiness 2\n",
      "scourge 2\n",
      "pair 2\n",
      "basket 2\n",
      "houses 2\n",
      "ape 2\n",
      "guts 2\n",
      "providence 2\n",
      "apart 2\n",
      "mountains 2\n",
      "ship 2\n",
      "chapel 2\n",
      "safely 2\n",
      "officers 2\n",
      "supper 2\n",
      "eats 2\n",
      "worms 2\n",
      "fish 2\n",
      "cat 2\n",
      "purposes 2\n",
      "awe 2\n",
      "promised 2\n",
      "purposed 2\n",
      "patch 2\n",
      "yield 2\n",
      "straw 2\n",
      "event 2\n",
      "delicate 2\n",
      "fame 2\n",
      "continent 2\n",
      "hearers 2\n",
      "collection 2\n",
      "amiss 2\n",
      "stone 2\n",
      "larded 2\n",
      "pretty 2\n",
      "ask 2\n",
      "clothes 2\n",
      "beasts 2\n",
      "broke 2\n",
      "following 2\n",
      "calm 2\n",
      "divinity 2\n",
      "acts 2\n",
      "hey 2\n",
      "dove 2\n",
      "adown 2\n",
      "rue 2\n",
      "violets 2\n",
      "axe 2\n",
      "sailor 2\n",
      "ambassador 2\n",
      "got 2\n",
      "repair 2\n",
      "knowing 2\n",
      "reasons 2\n",
      "shes 2\n",
      "moves 2\n",
      "slightly 2\n",
      "mighty 2\n",
      "naked 2\n",
      "undertake 2\n",
      "sum 2\n",
      "envy 2\n",
      "ive 2\n",
      "served 2\n",
      "norman 2\n",
      "defence 2\n",
      "goodness 2\n",
      "church 2\n",
      "chamber 2\n",
      "unbated 2\n",
      "chance 2\n",
      "heel 2\n",
      "brook 2\n",
      "liberal 2\n",
      "sat 2\n",
      "drowned 2\n",
      "wittingly 2\n",
      "scripture 2\n",
      "dig 2\n",
      "builds 2\n",
      "mason 2\n",
      "shipwright 2\n",
      "carpenter 2\n",
      "gravemaker 2\n",
      "liquor 2\n",
      "employment 2\n",
      "throws 2\n",
      "praised 2\n",
      "guest 2\n",
      "fines 2\n",
      "vouchers 2\n",
      "recoveries 2\n",
      "dirt 2\n",
      "jot 2\n",
      "absolute 2\n",
      "card 2\n",
      "strangely 2\n",
      "whoreson 2\n",
      "trace 2\n",
      "consider 2\n",
      "loam 2\n",
      "rites 2\n",
      "thrown 2\n",
      "allowd 2\n",
      "treble 2\n",
      "leaps 2\n",
      "thoult 2\n",
      "plots 2\n",
      "wrote 2\n",
      "view 2\n",
      "quit 2\n",
      "evil 2\n",
      "alls 2\n",
      "weapon 2\n",
      "barbary 2\n",
      "horses 2\n",
      "imponed 2\n",
      "assigns 2\n",
      "wrongd 2\n",
      "hurt 2\n",
      "embrace 2\n",
      "exchange 2\n",
      "union 2\n",
      "wounds 2\n",
      "bleed 2\n",
      "treachery 2\n",
      "shakespeare 1\n",
      "homepage 1\n",
      "entire 1\n",
      "carefully 1\n",
      "relief 1\n",
      "stirring 1\n",
      "rivals 1\n",
      "liegemen 1\n",
      "holla 1\n",
      "belief 1\n",
      "dreaded 1\n",
      "entreated 1\n",
      "minutes 1\n",
      "assail 1\n",
      "fortified 1\n",
      "yond 1\n",
      "westward 1\n",
      "illume 1\n",
      "scholar 1\n",
      "harrows 1\n",
      "usurpst 1\n",
      "stalks 1\n",
      "avouch 1\n",
      "combated 1\n",
      "frownd 1\n",
      "angry 1\n",
      "parle 1\n",
      "smote 1\n",
      "sledded 1\n",
      "polacks 1\n",
      "martial 1\n",
      "stalk 1\n",
      "opinion 1\n",
      "bodes 1\n",
      "eruption 1\n",
      "observant 1\n",
      "nightly 1\n",
      "toils 1\n",
      "daily 1\n",
      "brazen 1\n",
      "foreign 1\n",
      "mart 1\n",
      "implements 1\n",
      "impress 1\n",
      "shipwrights 1\n",
      "task 1\n",
      "sunday 1\n",
      "week 1\n",
      "sweaty 1\n",
      "jointlabourer 1\n",
      "whisper 1\n",
      "thereto 1\n",
      "prickd 1\n",
      "emulate 1\n",
      "pride 1\n",
      "dared 1\n",
      "combat 1\n",
      "esteemd 1\n",
      "slay 1\n",
      "compact 1\n",
      "ratified 1\n",
      "forfeit 1\n",
      "seized 1\n",
      "conqueror 1\n",
      "moiety 1\n",
      "competent 1\n",
      "gaged 1\n",
      "inheritance 1\n",
      "vanquisher 1\n",
      "covenant 1\n",
      "carriage 1\n",
      "designd 1\n",
      "unimproved 1\n",
      "mettle 1\n",
      "skirts 1\n",
      "sharkd 1\n",
      "resolutes 1\n",
      "stomach 1\n",
      "compulsatory 1\n",
      "foresaid 1\n",
      "preparations 1\n",
      "posthaste 1\n",
      "romage 1\n",
      "portentous 1\n",
      "mote 1\n",
      "palmy 1\n",
      "mightiest 1\n",
      "tenantless 1\n",
      "sheeted 1\n",
      "squeak 1\n",
      "gibber 1\n",
      "dews 1\n",
      "disasters 1\n",
      "moist 1\n",
      "influence 1\n",
      "eclipse 1\n",
      "precurse 1\n",
      "fierce 1\n",
      "events 1\n",
      "harbingers 1\n",
      "preceding 1\n",
      "omen 1\n",
      "demonstrated 1\n",
      "climatures 1\n",
      "countrymen 1\n",
      "behold 1\n",
      "cross 1\n",
      "illusion 1\n",
      "crows 1\n",
      "privy 1\n",
      "countrys 1\n",
      "foreknowing 1\n",
      "uphoarded 1\n",
      "extorted 1\n",
      "womb 1\n",
      "partisan 1\n",
      "invulnerable 1\n",
      "vain 1\n",
      "mockery 1\n",
      "started 1\n",
      "fearful 1\n",
      "summons 1\n",
      "lofty 1\n",
      "shrillsounding 1\n",
      "warning 1\n",
      "extravagant 1\n",
      "erring 1\n",
      "hies 1\n",
      "object 1\n",
      "probation 1\n",
      "faded 1\n",
      "crowing 1\n",
      "saviours 1\n",
      "celebrated 1\n",
      "dawning 1\n",
      "singeth 1\n",
      "dares 1\n",
      "abroad 1\n",
      "planets 1\n",
      "fairy 1\n",
      "witch 1\n",
      "charm 1\n",
      "hallowd 1\n",
      "russet 1\n",
      "mantle 1\n",
      "clad 1\n",
      "yon 1\n",
      "eastward 1\n",
      "acquaint 1\n",
      "fitting 1\n",
      "conveniently 1\n",
      "befitted 1\n",
      "contracted 1\n",
      "fought 1\n",
      "imperial 1\n",
      "jointress 1\n",
      "defeated 1\n",
      "auspicious 1\n",
      "dropping 1\n",
      "dirge 1\n",
      "weighing 1\n",
      "dole 1\n",
      "barrd 1\n",
      "wisdoms 1\n",
      "holding 1\n",
      "supposal 1\n",
      "disjoint 1\n",
      "colleagued 1\n",
      "advantage 1\n",
      "faild 1\n",
      "pester 1\n",
      "message 1\n",
      "surrender 1\n",
      "bonds 1\n",
      "impotent 1\n",
      "bedrid 1\n",
      "scarcely 1\n",
      "purposeto 1\n",
      "lists 1\n",
      "proportions 1\n",
      "greeting 1\n",
      "personal 1\n",
      "delated 1\n",
      "articles 1\n",
      "allow 1\n",
      "instrumental 1\n",
      "whence 1\n",
      "coronation 1\n",
      "wishes 1\n",
      "wrung 1\n",
      "laboursome 1\n",
      "petition 1\n",
      "spend 1\n",
      "nighted 1\n",
      "vailed 1\n",
      "lids 1\n",
      "eternity 1\n",
      "inky 1\n",
      "cloak 1\n",
      "customary 1\n",
      "windy 1\n",
      "suspiration 1\n",
      "fruitful 1\n",
      "river 1\n",
      "dejected 1\n",
      "moods 1\n",
      "denote 1\n",
      "passeth 1\n",
      "trappings 1\n",
      "commendable 1\n",
      "mourning 1\n",
      "duties 1\n",
      "survivor 1\n",
      "filial 1\n",
      "obsequious 1\n",
      "persever 1\n",
      "obstinate 1\n",
      "condolement 1\n",
      "impious 1\n",
      "stubbornness 1\n",
      "unmanly 1\n",
      "incorrect 1\n",
      "unfortified 1\n",
      "impatient 1\n",
      "simple 1\n",
      "unschoold 1\n",
      "peevish 1\n",
      "unprevailing 1\n",
      "nobility 1\n",
      "school 1\n",
      "retrograde 1\n",
      "comfort 1\n",
      "chiefest 1\n",
      "unforced 1\n",
      "accord 1\n",
      "jocund 1\n",
      "drinks 1\n",
      "bruit 1\n",
      "respeaking 1\n",
      "earthly 1\n",
      "solid 1\n",
      "thaw 1\n",
      "resolve 1\n",
      "everlasting 1\n",
      "canon 1\n",
      "selfslaughter 1\n",
      "stale 1\n",
      "unprofitable 1\n",
      "unweeded 1\n",
      "seed 1\n",
      "possess 1\n",
      "hyperion 1\n",
      "satyr 1\n",
      "beteem 1\n",
      "increase 1\n",
      "appetite 1\n",
      "ontfrailty 1\n",
      "niobe 1\n",
      "tearswhy 1\n",
      "mournd 1\n",
      "longermarried 1\n",
      "unrighteous 1\n",
      "flushing 1\n",
      "dexterity 1\n",
      "sheets 1\n",
      "hail 1\n",
      "horatioor 1\n",
      "truster 1\n",
      "depart 1\n",
      "fellowstudent 1\n",
      "wedding 1\n",
      "meats 1\n",
      "furnish 1\n",
      "tables 1\n",
      "met 1\n",
      "fathermethinks 1\n",
      "yesternight 1\n",
      "attent 1\n",
      "marvel 1\n",
      "vast 1\n",
      "encounterd 1\n",
      "exactly 1\n",
      "capape 1\n",
      "stately 1\n",
      "walkd 1\n",
      "oppressd 1\n",
      "fearsurprised 1\n",
      "truncheons 1\n",
      "distilled 1\n",
      "jelly 1\n",
      "deliverd 1\n",
      "watchd 1\n",
      "lifted 1\n",
      "address 1\n",
      "shrunk 1\n",
      "vanishd 1\n",
      "wore 1\n",
      "beaver 1\n",
      "frowningly 1\n",
      "anger 1\n",
      "constantly 1\n",
      "amazed 1\n",
      "moderate 1\n",
      "sawt 1\n",
      "grizzledno 1\n",
      "silverd 1\n",
      "gape 1\n",
      "conceald 1\n",
      "tenable 1\n",
      "whatsoever 1\n",
      "hap 1\n",
      "eleven 1\n",
      "deeds 1\n",
      "oerwhelm 1\n",
      "necessaries 1\n",
      "embarkd 1\n",
      "benefit 1\n",
      "convoy 1\n",
      "trifling 1\n",
      "violet 1\n",
      "primy 1\n",
      "permanent 1\n",
      "suppliance 1\n",
      "minute 1\n",
      "crescent 1\n",
      "thews 1\n",
      "temple 1\n",
      "cautel 1\n",
      "besmirch 1\n",
      "greatness 1\n",
      "unvalued 1\n",
      "persons 1\n",
      "carve 1\n",
      "depends 1\n",
      "circumscribed 1\n",
      "yielding 1\n",
      "saying 1\n",
      "loss 1\n",
      "sustain 1\n",
      "credent 1\n",
      "unmasterd 1\n",
      "importunity 1\n",
      "rear 1\n",
      "chariest 1\n",
      "unmask 1\n",
      "scapes 1\n",
      "calumnious 1\n",
      "strokes 1\n",
      "galls 1\n",
      "infants 1\n",
      "buttons 1\n",
      "liquid 1\n",
      "contagious 1\n",
      "blastments 1\n",
      "rebels 1\n",
      "lesson 1\n",
      "watchman 1\n",
      "ungracious 1\n",
      "pastors 1\n",
      "steep 1\n",
      "thorny 1\n",
      "whiles 1\n",
      "reckless 1\n",
      "libertine 1\n",
      "primrose 1\n",
      "path 1\n",
      "dalliance 1\n",
      "treads 1\n",
      "recks 1\n",
      "rede 1\n",
      "smiles 1\n",
      "unproportioned 1\n",
      "familiar 1\n",
      "adoption 1\n",
      "tried 1\n",
      "hoops 1\n",
      "newhatchd 1\n",
      "unfledged 1\n",
      "comrade 1\n",
      "entrance 1\n",
      "beart 1\n",
      "reserve 1\n",
      "costly 1\n",
      "buy 1\n",
      "expressd 1\n",
      "gaudy 1\n",
      "apparel 1\n",
      "select 1\n",
      "borrower 1\n",
      "lender 1\n",
      "loan 1\n",
      "loses 1\n",
      "borrowing 1\n",
      "dulls 1\n",
      "husbandry 1\n",
      "ownself 1\n",
      "invites 1\n",
      "key 1\n",
      "bethought 1\n",
      "private 1\n",
      "bounteous 1\n",
      "caution 1\n",
      "clearly 1\n",
      "behoves 1\n",
      "pooh 1\n",
      "girl 1\n",
      "unsifted 1\n",
      "perilous 1\n",
      "sterling 1\n",
      "ornot 1\n",
      "crack 1\n",
      "running 1\n",
      "thusyoull 1\n",
      "importuned 1\n",
      "springes 1\n",
      "woodcocks 1\n",
      "lends 1\n",
      "blazes 1\n",
      "extinct 1\n",
      "promise 1\n",
      "amaking 1\n",
      "somewhat 1\n",
      "scanter 1\n",
      "entreatments 1\n",
      "higher 1\n",
      "parley 1\n",
      "larger 1\n",
      "tether 1\n",
      "brokers 1\n",
      "dye 1\n",
      "investments 1\n",
      "implorators 1\n",
      "unholy 1\n",
      "sanctified 1\n",
      "bawds 1\n",
      "slander 1\n",
      "bites 1\n",
      "shrewdly 1\n",
      "nipping 1\n",
      "lacks 1\n",
      "wake 1\n",
      "wassail 1\n",
      "swaggering 1\n",
      "upspring 1\n",
      "reels 1\n",
      "drains 1\n",
      "draughts 1\n",
      "kettledrum 1\n",
      "bray 1\n",
      "triumph 1\n",
      "pledge 1\n",
      "manner 1\n",
      "breach 1\n",
      "observance 1\n",
      "heavyheaded 1\n",
      "revel 1\n",
      "east 1\n",
      "west 1\n",
      "traduced 1\n",
      "taxd 1\n",
      "nations 1\n",
      "clepe 1\n",
      "drunkards 1\n",
      "swinish 1\n",
      "achievements 1\n",
      "height 1\n",
      "marrow 1\n",
      "attribute 1\n",
      "vicious 1\n",
      "birthwherein 1\n",
      "oergrowth 1\n",
      "breaking 1\n",
      "pales 1\n",
      "forts 1\n",
      "oerleavens 1\n",
      "plausive 1\n",
      "carrying 1\n",
      "elsebe 1\n",
      "undergo 1\n",
      "dram 1\n",
      "eale 1\n",
      "ministers 1\n",
      "goblin 1\n",
      "airs 1\n",
      "blasts 1\n",
      "intents 1\n",
      "questionable 1\n",
      "canonized 1\n",
      "hearsed 1\n",
      "cerements 1\n",
      "sepulchre 1\n",
      "quietly 1\n",
      "inurnd 1\n",
      "oped 1\n",
      "ponderous 1\n",
      "marble 1\n",
      "jaws 1\n",
      "complete 1\n",
      "revisitst 1\n",
      "glimpses 1\n",
      "reaches 1\n",
      "impartment 1\n",
      "courteous 1\n",
      "removed 1\n",
      "pins 1\n",
      "immortal 1\n",
      "flood 1\n",
      "cliff 1\n",
      "beetles 1\n",
      "deprive 1\n",
      "sovereignty 1\n",
      "toys 1\n",
      "fathoms 1\n",
      "artery 1\n",
      "hardy 1\n",
      "nemean 1\n",
      "lions 1\n",
      "nerve 1\n",
      "calld 1\n",
      "unhand 1\n",
      "sulphurous 1\n",
      "tormenting 1\n",
      "render 1\n",
      "serious 1\n",
      "doomd 1\n",
      "confined 1\n",
      "fires 1\n",
      "burnt 1\n",
      "purged 1\n",
      "secrets 1\n",
      "prisonhouse 1\n",
      "lightest 1\n",
      "harrow 1\n",
      "freeze 1\n",
      "spheres 1\n",
      "knotted 1\n",
      "combined 1\n",
      "locks 1\n",
      "quills 1\n",
      "fretful 1\n",
      "porpentine 1\n",
      "blazon 1\n",
      "knowt 1\n",
      "meditation 1\n",
      "duller 1\n",
      "weed 1\n",
      "roots 1\n",
      "lethe 1\n",
      "wharf 1\n",
      "stung 1\n",
      "rankly 1\n",
      "abused 1\n",
      "prophetic 1\n",
      "adulterate 1\n",
      "traitorous 1\n",
      "seducewon 1\n",
      "shameful 1\n",
      "seemingvirtuous 1\n",
      "fallingoff 1\n",
      "decline 1\n",
      "moved 1\n",
      "lewdness 1\n",
      "radiant 1\n",
      "linkd 1\n",
      "sate 1\n",
      "prey 1\n",
      "garbage 1\n",
      "scent 1\n",
      "always 1\n",
      "afternoon 1\n",
      "juice 1\n",
      "hebenon 1\n",
      "vial 1\n",
      "porches 1\n",
      "pour 1\n",
      "leperous 1\n",
      "distilment 1\n",
      "enmity 1\n",
      "quicksilver 1\n",
      "courses 1\n",
      "gates 1\n",
      "alleys 1\n",
      "vigour 1\n",
      "posset 1\n",
      "curd 1\n",
      "droppings 1\n",
      "milk 1\n",
      "thin 1\n",
      "tetter 1\n",
      "barkd 1\n",
      "lazarlike 1\n",
      "loathsome 1\n",
      "crust 1\n",
      "dispatchd 1\n",
      "blossoms 1\n",
      "unhouseld 1\n",
      "disappointed 1\n",
      "unaneld 1\n",
      "reckoning 1\n",
      "account 1\n",
      "imperfections 1\n",
      "luxury 1\n",
      "incest 1\n",
      "howsoever 1\n",
      "pursuest 1\n",
      "taint 1\n",
      "thorns 1\n",
      "lodge 1\n",
      "prick 1\n",
      "glowworm 1\n",
      "matin 1\n",
      "gins 1\n",
      "uneffectual 1\n",
      "host 1\n",
      "couple 1\n",
      "stiffly 1\n",
      "globe 1\n",
      "trivial 1\n",
      "records 1\n",
      "saws 1\n",
      "books 1\n",
      "pressures 1\n",
      "observation 1\n",
      "copied 1\n",
      "volume 1\n",
      "unmixd 1\n",
      "pernicious 1\n",
      "tablesmeet 1\n",
      "writing 1\n",
      "reveal 1\n",
      "dwelling 1\n",
      "whirling 1\n",
      "offend 1\n",
      "patrick 1\n",
      "vision 1\n",
      "oermaster 1\n",
      "request 1\n",
      "sweart 1\n",
      "truepenny 1\n",
      "onyou 1\n",
      "cellarage 1\n",
      "hic 1\n",
      "et 1\n",
      "ubique 1\n",
      "shift 1\n",
      "worthy 1\n",
      "pioner 1\n",
      "stranger 1\n",
      "dreamt 1\n",
      "soeer 1\n",
      "hereafter 1\n",
      "antic 1\n",
      "encumberd 1\n",
      "headshake 1\n",
      "pronouncing 1\n",
      "ambiguous 1\n",
      "perturbed 1\n",
      "friending 1\n",
      "joint 1\n",
      "spite 1\n",
      "notes 1\n",
      "intend 1\n",
      "danskers 1\n",
      "paris 1\n",
      "company 1\n",
      "expense 1\n",
      "encompassment 1\n",
      "distant 1\n",
      "knowledge 1\n",
      "addicted 1\n",
      "forgeries 1\n",
      "usual 1\n",
      "slips 1\n",
      "companions 1\n",
      "noted 1\n",
      "drinking 1\n",
      "fencing 1\n",
      "quarrelling 1\n",
      "drabbing 1\n",
      "incontinency 1\n",
      "meaning 1\n",
      "quaintly 1\n",
      "taints 1\n",
      "flash 1\n",
      "outbreak 1\n",
      "savageness 1\n",
      "unreclaimed 1\n",
      "assault 1\n",
      "slight 1\n",
      "sullies 1\n",
      "soild 1\n",
      "party 1\n",
      "converse 1\n",
      "prenominate 1\n",
      "thishe 1\n",
      "doeswhat 1\n",
      "yesterday 1\n",
      "oertook 1\n",
      "falling 1\n",
      "tennis 1\n",
      "sale 1\n",
      "videlicet 1\n",
      "brothel 1\n",
      "bait 1\n",
      "falsehood 1\n",
      "carp 1\n",
      "reach 1\n",
      "windlasses 1\n",
      "assays 1\n",
      "bias 1\n",
      "indirections 1\n",
      "directions 1\n",
      "lecture 1\n",
      "ply 1\n",
      "affrighted 1\n",
      "sewing 1\n",
      "doublet 1\n",
      "unbraced 1\n",
      "stockings 1\n",
      "fould 1\n",
      "ungarterd 1\n",
      "downgyved 1\n",
      "ancle 1\n",
      "shirt 1\n",
      "knocking 1\n",
      "purport 1\n",
      "loosed 1\n",
      "horrorshe 1\n",
      "wrist 1\n",
      "perusal 1\n",
      "shaking 1\n",
      "waving 1\n",
      "raised 1\n",
      "shatter 1\n",
      "bended 1\n",
      "fordoes 1\n",
      "leads 1\n",
      "undertakings 1\n",
      "afflict 1\n",
      "repel 1\n",
      "denied 1\n",
      "access 1\n",
      "quoted 1\n",
      "feard 1\n",
      "trifle 1\n",
      "wreck 1\n",
      "beshrew 1\n",
      "younger 1\n",
      "hate 1\n",
      "utter 1\n",
      "moreover 1\n",
      "provoke 1\n",
      "hasty 1\n",
      "transformation 1\n",
      "exterior 1\n",
      "resembles 1\n",
      "neighbourd 1\n",
      "companies 1\n",
      "glean 1\n",
      "afflicts 1\n",
      "opend 1\n",
      "remedy 1\n",
      "adheres 1\n",
      "expend 1\n",
      "supply 1\n",
      "commanded 1\n",
      "instantly 1\n",
      "changed 1\n",
      "practises 1\n",
      "pleasant 1\n",
      "helpful 1\n",
      "amen 1\n",
      "joyfully 1\n",
      "assure 1\n",
      "hunts 1\n",
      "policy 1\n",
      "admittance 1\n",
      "tells 1\n",
      "oerhasty 1\n",
      "sift 1\n",
      "greetings 1\n",
      "preparation 1\n",
      "highness 1\n",
      "whereat 1\n",
      "grieved 1\n",
      "impotence 1\n",
      "falsely 1\n",
      "arrests 1\n",
      "obeys 1\n",
      "receives 1\n",
      "rebuke 1\n",
      "overcome 1\n",
      "crowns 1\n",
      "annual 1\n",
      "employ 1\n",
      "levied 1\n",
      "paper 1\n",
      "dominions 1\n",
      "regards 1\n",
      "therein 1\n",
      "considerd 1\n",
      "meantime 1\n",
      "welltook 1\n",
      "ended 1\n",
      "expostulate 1\n",
      "waste 1\n",
      "brevity 1\n",
      "tediousness 1\n",
      "flourishes 1\n",
      "define 1\n",
      "grant 1\n",
      "defective 1\n",
      "remainder 1\n",
      "perpend 1\n",
      "daughterhave 1\n",
      "surmise 1\n",
      "idol 1\n",
      "liar 1\n",
      "reckon 1\n",
      "groans 1\n",
      "evermore 1\n",
      "machine 1\n",
      "solicitings 1\n",
      "wing 1\n",
      "perceived 1\n",
      "mewhat 1\n",
      "playd 1\n",
      "desk 1\n",
      "tablebook 1\n",
      "winking 1\n",
      "mute 1\n",
      "bespeak 1\n",
      "resort 1\n",
      "messengers 1\n",
      "tokens 1\n",
      "fruits 1\n",
      "repulseda 1\n",
      "sadness 1\n",
      "lightness 1\n",
      "declension 1\n",
      "raves 1\n",
      "mourn 1\n",
      "timeid 1\n",
      "positively 1\n",
      "circumstances 1\n",
      "centre 1\n",
      "thereon 1\n",
      "carters 1\n",
      "sadly 1\n",
      "board 1\n",
      "godamercy 1\n",
      "kissing 1\n",
      "carrionhave 1\n",
      "conception 1\n",
      "conceive 1\n",
      "harping 1\n",
      "suffered 1\n",
      "slanders 1\n",
      "satirical 1\n",
      "grey 1\n",
      "beards 1\n",
      "wrinkled 1\n",
      "amber 1\n",
      "plumtree 1\n",
      "gum 1\n",
      "plentiful 1\n",
      "hams 1\n",
      "powerfully 1\n",
      "potently 1\n",
      "crab 1\n",
      "backward 1\n",
      "replies 1\n",
      "happiness 1\n",
      "sanity 1\n",
      "prosperously 1\n",
      "delivered 1\n",
      "suddenly 1\n",
      "daughtermy 1\n",
      "honoured 1\n",
      "lads 1\n",
      "overhappy 1\n",
      "button 1\n",
      "soles 1\n",
      "shoe 1\n",
      "waist 1\n",
      "privates 1\n",
      "deserved 1\n",
      "confines 1\n",
      "wards 1\n",
      "dungeons 1\n",
      "worst 1\n",
      "narrow 1\n",
      "bounded 1\n",
      "nut 1\n",
      "space 1\n",
      "airy 1\n",
      "monarchs 1\n",
      "outstretched 1\n",
      "heroes 1\n",
      "fay 1\n",
      "dreadfully 1\n",
      "beaten 1\n",
      "friendship 1\n",
      "halfpenny 1\n",
      "inclining 1\n",
      "deal 1\n",
      "modesties 1\n",
      "conjure 1\n",
      "consonancy 1\n",
      "everpreserved 1\n",
      "proposer 1\n",
      "youif 1\n",
      "anticipation 1\n",
      "discovery 1\n",
      "moult 1\n",
      "feather 1\n",
      "latebut 1\n",
      "notlost 1\n",
      "forgone 1\n",
      "exercises 1\n",
      "heavily 1\n",
      "sterile 1\n",
      "promontory 1\n",
      "canopy 1\n",
      "oerhanging 1\n",
      "firmament 1\n",
      "roof 1\n",
      "fretted 1\n",
      "congregation 1\n",
      "vapours 1\n",
      "faculty 1\n",
      "moving 1\n",
      "admirable 1\n",
      "paragon 1\n",
      "animals 1\n",
      "quintessence 1\n",
      "lenten 1\n",
      "coted 1\n",
      "plays 1\n",
      "adventurous 1\n",
      "knight 1\n",
      "target 1\n",
      "lover 1\n",
      "gratis 1\n",
      "humourous 1\n",
      "tickled 1\n",
      "sere 1\n",
      "blank 1\n",
      "verse 1\n",
      "halt 1\n",
      "tragedians 1\n",
      "residence 1\n",
      "reputation 1\n",
      "inhibition 1\n",
      "innovation 1\n",
      "estimation 1\n",
      "followed 1\n",
      "rusty 1\n",
      "endeavour 1\n",
      "aery 1\n",
      "eyases 1\n",
      "tyrannically 1\n",
      "clapped 1\n",
      "berattle 1\n",
      "stagesso 1\n",
      "themthat 1\n",
      "wearing 1\n",
      "afraid 1\n",
      "goosequills 1\n",
      "maintains 1\n",
      "escoted 1\n",
      "afterwards 1\n",
      "playersas 1\n",
      "bettertheir 1\n",
      "writers 1\n",
      "exclaim 1\n",
      "tarre 1\n",
      "controversy 1\n",
      "poet 1\n",
      "cuffs 1\n",
      "throwing 1\n",
      "boys 1\n",
      "load 1\n",
      "mows 1\n",
      "fifty 1\n",
      "appurtenance 1\n",
      "garb 1\n",
      "extent 1\n",
      "fairly 1\n",
      "unclefather 1\n",
      "auntmother 1\n",
      "northnorthwest 1\n",
      "southerly 1\n",
      "hawk 1\n",
      "handsaw 1\n",
      "hark 1\n",
      "hearer 1\n",
      "swaddlingclouts 1\n",
      "monday 1\n",
      "roscius 1\n",
      "pastoral 1\n",
      "pastoralcomical 1\n",
      "historicalpastoral 1\n",
      "tragicalhistorical 1\n",
      "tragical 1\n",
      "comicalhistoricalpastoral 1\n",
      "individable 1\n",
      "poem 1\n",
      "unlimited 1\n",
      "seneca 1\n",
      "plautus 1\n",
      "israel 1\n",
      "lot 1\n",
      "wot 1\n",
      "row 1\n",
      "chanson 1\n",
      "abridgement 1\n",
      "valenced 1\n",
      "ladyship 1\n",
      "altitude 1\n",
      "chopine 1\n",
      "uncurrent 1\n",
      "gold 1\n",
      "cracked 1\n",
      "falconers 1\n",
      "taste 1\n",
      "acted 1\n",
      "million 1\n",
      "caviare 1\n",
      "wasas 1\n",
      "minean 1\n",
      "digested 1\n",
      "scenes 1\n",
      "sallets 1\n",
      "savoury 1\n",
      "indict 1\n",
      "affectation 1\n",
      "called 1\n",
      "handsome 1\n",
      "chiefly 1\n",
      "aeneas 1\n",
      "dido 1\n",
      "thereabout 1\n",
      "priams 1\n",
      "slaughter 1\n",
      "hyrcanian 1\n",
      "soit 1\n",
      "resemble 1\n",
      "couched 1\n",
      "ominous 1\n",
      "smeard 1\n",
      "total 1\n",
      "gules 1\n",
      "trickd 1\n",
      "daughters 1\n",
      "impasted 1\n",
      "parching 1\n",
      "tyrannous 1\n",
      "roasted 1\n",
      "wrath 1\n",
      "oersized 1\n",
      "coagulate 1\n",
      "gore 1\n",
      "carbuncles 1\n",
      "hellish 1\n",
      "grandsire 1\n",
      "fore 1\n",
      "striking 1\n",
      "greeks 1\n",
      "repugnant 1\n",
      "unequal 1\n",
      "matchd 1\n",
      "drives 1\n",
      "strikes 1\n",
      "whiff 1\n",
      "unnerved 1\n",
      "ilium 1\n",
      "feel 1\n",
      "crash 1\n",
      "declining 1\n",
      "milky 1\n",
      "reverend 1\n",
      "tyrant 1\n",
      "neutral 1\n",
      "storm 1\n",
      "rack 1\n",
      "speechless 1\n",
      "orb 1\n",
      "hush 1\n",
      "rend 1\n",
      "aroused 1\n",
      "awork 1\n",
      "cyclops 1\n",
      "hammers 1\n",
      "marss 1\n",
      "eterne 1\n",
      "remorse 1\n",
      "bleeding 1\n",
      "synod 1\n",
      "fellies 1\n",
      "bowl 1\n",
      "nave 1\n",
      "low 1\n",
      "fiends 1\n",
      "barbers 1\n",
      "bawdry 1\n",
      "barefoot 1\n",
      "threatening 1\n",
      "bisson 1\n",
      "rheum 1\n",
      "clout 1\n",
      "robe 1\n",
      "lank 1\n",
      "oerteemed 1\n",
      "loins 1\n",
      "blanket 1\n",
      "steepd 1\n",
      "mincing 1\n",
      "clamour 1\n",
      "milch 1\n",
      "turned 1\n",
      "soon 1\n",
      "bestowed 1\n",
      "abstract 1\n",
      "chronicles 1\n",
      "bodykins 1\n",
      "whipping 1\n",
      "deserve 1\n",
      "bounty 1\n",
      "study 1\n",
      "sixteen 1\n",
      "insert 1\n",
      "monstrous 1\n",
      "fiction 1\n",
      "wannd 1\n",
      "aspect 1\n",
      "broken 1\n",
      "function 1\n",
      "suiting 1\n",
      "cue 1\n",
      "cleave 1\n",
      "appal 1\n",
      "amaze 1\n",
      "faculties 1\n",
      "muddymettled 1\n",
      "rascal 1\n",
      "peak 1\n",
      "johnadreams 1\n",
      "unpregnant 1\n",
      "across 1\n",
      "tweaks 1\n",
      "pigeonliverd 1\n",
      "oppression 1\n",
      "fatted 1\n",
      "kites 1\n",
      "slaves 1\n",
      "offal 1\n",
      "bawdy 1\n",
      "remorseless 1\n",
      "lecherous 1\n",
      "kindless 1\n",
      "murderd 1\n",
      "prompted 1\n",
      "whore 1\n",
      "unpack 1\n",
      "acursing 1\n",
      "drab 1\n",
      "scullion 1\n",
      "foh 1\n",
      "sitting 1\n",
      "proclaimd 1\n",
      "malefactions 1\n",
      "miraculous 1\n",
      "tent 1\n",
      "blench 1\n",
      "pleasing 1\n",
      "abuses 1\n",
      "damn 1\n",
      "grounds 1\n",
      "relative 1\n",
      "s 1\n",
      "confusion 1\n",
      "grating 1\n",
      "harshly 1\n",
      "turbulent 1\n",
      "feels 1\n",
      "sounded 1\n",
      "crafty 1\n",
      "forcing 1\n",
      "niggard 1\n",
      "oerraught 1\n",
      "beseechd 1\n",
      "inclined 1\n",
      "closely 1\n",
      "affront 1\n",
      "lawful 1\n",
      "espials 1\n",
      "behaved 1\n",
      "beauties 1\n",
      "wildness 1\n",
      "loneliness 1\n",
      "provedthat 1\n",
      "devotions 1\n",
      "sugar 1\n",
      "smart 1\n",
      "lash 1\n",
      "harlots 1\n",
      "beautied 1\n",
      "plastering 1\n",
      "ugly 1\n",
      "burthen 1\n",
      "nobler 1\n",
      "slings 1\n",
      "outrageous 1\n",
      "opposing 1\n",
      "heartache 1\n",
      "shocks 1\n",
      "heir 1\n",
      "consummation 1\n",
      "devoutly 1\n",
      "wishd 1\n",
      "shuffled 1\n",
      "coil 1\n",
      "calamity 1\n",
      "scorns 1\n",
      "oppressors 1\n",
      "contumely 1\n",
      "pangs 1\n",
      "despised 1\n",
      "laws 1\n",
      "insolence 1\n",
      "office 1\n",
      "quietus 1\n",
      "bare 1\n",
      "bodkin 1\n",
      "fardels 1\n",
      "grunt 1\n",
      "undiscoverd 1\n",
      "bourn 1\n",
      "traveller 1\n",
      "puzzles 1\n",
      "ills 1\n",
      "cowards 1\n",
      "hue 1\n",
      "resolution 1\n",
      "sicklied 1\n",
      "enterprises 1\n",
      "awry 1\n",
      "actionsoft 1\n",
      "nymph 1\n",
      "orisons 1\n",
      "rememberd 1\n",
      "remembrances 1\n",
      "longed 1\n",
      "composed 1\n",
      "givers 1\n",
      "unkind 1\n",
      "commerce 1\n",
      "transform 1\n",
      "bawd 1\n",
      "likeness 1\n",
      "paradox 1\n",
      "believed 1\n",
      "inoculate 1\n",
      "stock 1\n",
      "breeder 1\n",
      "sinners 1\n",
      "accuse 1\n",
      "revengeful 1\n",
      "beck 1\n",
      "crawling 1\n",
      "knaves 1\n",
      "shut 1\n",
      "dowry 1\n",
      "calumny 1\n",
      "monsters 1\n",
      "quickly 1\n",
      "restore 1\n",
      "paintings 1\n",
      "yourselves 1\n",
      "amble 1\n",
      "lisp 1\n",
      "nickname 1\n",
      "wantonness 1\n",
      "marriages 1\n",
      "oerthrown 1\n",
      "expectancy 1\n",
      "mould 1\n",
      "observed 1\n",
      "observers 1\n",
      "deject 1\n",
      "suckd 1\n",
      "honey 1\n",
      "bells 1\n",
      "jangled 1\n",
      "unmatchd 1\n",
      "affections 1\n",
      "spake 1\n",
      "lackd 1\n",
      "brood 1\n",
      "hatch 1\n",
      "disclose 1\n",
      "determination 1\n",
      "seas 1\n",
      "countries 1\n",
      "different 1\n",
      "objects 1\n",
      "somethingsettled 1\n",
      "commencement 1\n",
      "sprung 1\n",
      "conference 1\n",
      "unwatchd 1\n",
      "trippingly 1\n",
      "lief 1\n",
      "towncrier 1\n",
      "gently 1\n",
      "torrent 1\n",
      "tempest 1\n",
      "whirlwind 1\n",
      "acquire 1\n",
      "beget 1\n",
      "temperance 1\n",
      "smoothness 1\n",
      "offends 1\n",
      "robustious 1\n",
      "periwigpated 1\n",
      "tatters 1\n",
      "rags 1\n",
      "split 1\n",
      "groundlings 1\n",
      "inexplicable 1\n",
      "dumbshows 1\n",
      "whipped 1\n",
      "oerdoing 1\n",
      "termagant 1\n",
      "outherods 1\n",
      "herod 1\n",
      "tutor 1\n",
      "oerstep 1\n",
      "scorn 1\n",
      "pressure 1\n",
      "unskilful 1\n",
      "judicious 1\n",
      "oerweigh 1\n",
      "theatre 1\n",
      "highly 1\n",
      "profanely 1\n",
      "christians 1\n",
      "pagan 1\n",
      "strutted 1\n",
      "bellowed 1\n",
      "journeymen 1\n",
      "imitated 1\n",
      "humanity 1\n",
      "abominably 1\n",
      "reformed 1\n",
      "indifferently 1\n",
      "reform 1\n",
      "altogether 1\n",
      "barren 1\n",
      "spectators 1\n",
      "considered 1\n",
      "villanous 1\n",
      "pitiful 1\n",
      "hasten 1\n",
      "eer 1\n",
      "conversation 1\n",
      "coped 1\n",
      "flatter 1\n",
      "revenue 1\n",
      "clothe 1\n",
      "flatterd 1\n",
      "candied 1\n",
      "lick 1\n",
      "pomp 1\n",
      "crook 1\n",
      "hinges 1\n",
      "knee 1\n",
      "fawning 1\n",
      "distinguish 1\n",
      "suffering 1\n",
      "buffets 1\n",
      "blest 1\n",
      "commingled 1\n",
      "finger 1\n",
      "passions 1\n",
      "core 1\n",
      "theesomething 1\n",
      "seest 1\n",
      "afoot 1\n",
      "comment 1\n",
      "occulted 1\n",
      "unkennel 1\n",
      "imaginations 1\n",
      "vulcans 1\n",
      "stithy 1\n",
      "heedful 1\n",
      "rivet 1\n",
      "steal 1\n",
      "detecting 1\n",
      "theft 1\n",
      "chameleons 1\n",
      "dish 1\n",
      "promisecrammed 1\n",
      "capons 1\n",
      "university 1\n",
      "accounted 1\n",
      "capitol 1\n",
      "brutus 1\n",
      "brute 1\n",
      "calf 1\n",
      "metal 1\n",
      "attractive 1\n",
      "ophelias 1\n",
      "legs 1\n",
      "jigmaker 1\n",
      "ago 1\n",
      "forgotten 1\n",
      "outlive 1\n",
      "build 1\n",
      "churches 1\n",
      "hautboys 1\n",
      "dumbshow 1\n",
      "enters 1\n",
      "lovingly 1\n",
      "embracing 1\n",
      "protestation 1\n",
      "declines 1\n",
      "lays 1\n",
      "bank 1\n",
      "carried 1\n",
      "wooes 1\n",
      "loath 1\n",
      "unwilling 1\n",
      "accepts 1\n",
      "miching 1\n",
      "mallecho 1\n",
      "mischief 1\n",
      "theyll 1\n",
      "ashamed 1\n",
      "stooping 1\n",
      "clemency 1\n",
      "patiently 1\n",
      "posy 1\n",
      "womans 1\n",
      "phoebus 1\n",
      "cart 1\n",
      "tellus 1\n",
      "orbed 1\n",
      "moons 1\n",
      "borrowd 1\n",
      "sheen 1\n",
      "thirties 1\n",
      "hymen 1\n",
      "unite 1\n",
      "commutual 1\n",
      "sacred 1\n",
      "bands 1\n",
      "journeys 1\n",
      "discomfort 1\n",
      "womens 1\n",
      "sized 1\n",
      "littlest 1\n",
      "doubts 1\n",
      "operant 1\n",
      "functions 1\n",
      "beloved 1\n",
      "breast 1\n",
      "accurst 1\n",
      "instances 1\n",
      "respects 1\n",
      "determine 1\n",
      "validity 1\n",
      "unripe 1\n",
      "sticks 1\n",
      "tree 1\n",
      "unshaken 1\n",
      "mellow 1\n",
      "debt 1\n",
      "ending 1\n",
      "enactures 1\n",
      "revels 1\n",
      "grieves 1\n",
      "slender 1\n",
      "aye 1\n",
      "favourite 1\n",
      "flies 1\n",
      "advanced 1\n",
      "hollow 1\n",
      "seasons 1\n",
      "orderly 1\n",
      "wills 1\n",
      "contrary 1\n",
      "devices 1\n",
      "overthrown 1\n",
      "repose 1\n",
      "anchors 1\n",
      "opposite 1\n",
      "blanks 1\n",
      "strife 1\n",
      "widow 1\n",
      "deeply 1\n",
      "rock 1\n",
      "protests 1\n",
      "mousetrap 1\n",
      "tropically 1\n",
      "vienna 1\n",
      "dukes 1\n",
      "baptista 1\n",
      "touches 1\n",
      "jade 1\n",
      "wince 1\n",
      "withers 1\n",
      "unwrung 1\n",
      "nephew 1\n",
      "chorus 1\n",
      "interpret 1\n",
      "puppets 1\n",
      "dallying 1\n",
      "groaning 1\n",
      "pox 1\n",
      "damnable 1\n",
      "croaking 1\n",
      "raven 1\n",
      "bellow 1\n",
      "drugs 1\n",
      "agreeing 1\n",
      "confederate 1\n",
      "mixture 1\n",
      "midnight 1\n",
      "hecates 1\n",
      "ban 1\n",
      "infected 1\n",
      "magic 1\n",
      "dire 1\n",
      "usurp 1\n",
      "immediately 1\n",
      "sleepers 1\n",
      "poisons 1\n",
      "names 1\n",
      "extant 1\n",
      "italian 1\n",
      "gets 1\n",
      "gonzagos 1\n",
      "rises 1\n",
      "frighted 1\n",
      "stricken 1\n",
      "deer 1\n",
      "hart 1\n",
      "ungalled 1\n",
      "forest 1\n",
      "feathers 1\n",
      "turk 1\n",
      "mewith 1\n",
      "provincial 1\n",
      "roses 1\n",
      "razed 1\n",
      "share 1\n",
      "damon 1\n",
      "realm 1\n",
      "dismantled 1\n",
      "reigns 1\n",
      "verypajock 1\n",
      "rhymed 1\n",
      "ghosts 1\n",
      "pound 1\n",
      "perceive 1\n",
      "poisoning 1\n",
      "perdy 1\n",
      "retirement 1\n",
      "distempered 1\n",
      "doctor 1\n",
      "purgation 1\n",
      "plunge 1\n",
      "pronounce 1\n",
      "courtesy 1\n",
      "diseased 1\n",
      "astonish 1\n",
      "sequel 1\n",
      "pickers 1\n",
      "stealers 1\n",
      "surely 1\n",
      "bar 1\n",
      "griefs 1\n",
      "grass 1\n",
      "growsthe 1\n",
      "proverb 1\n",
      "musty 1\n",
      "youwhy 1\n",
      "toil 1\n",
      "unmannerly 1\n",
      "govern 1\n",
      "ventages 1\n",
      "lingers 1\n",
      "thumb 1\n",
      "eloquent 1\n",
      "utterance 1\n",
      "harmony 1\n",
      "mystery 1\n",
      "lowest 1\n",
      "compass 1\n",
      "easier 1\n",
      "fret 1\n",
      "cloud 1\n",
      "backed 1\n",
      "easily 1\n",
      "witching 1\n",
      "churchyards 1\n",
      "yawn 1\n",
      "breathes 1\n",
      "quake 1\n",
      "nero 1\n",
      "firm 1\n",
      "hypocrites 1\n",
      "soever 1\n",
      "shent 1\n",
      "seals 1\n",
      "range 1\n",
      "forthwith 1\n",
      "endure 1\n",
      "hazard 1\n",
      "hourly 1\n",
      "lunacies 1\n",
      "provide 1\n",
      "religious 1\n",
      "peculiar 1\n",
      "noyance 1\n",
      "weal 1\n",
      "depend 1\n",
      "gulf 1\n",
      "massy 1\n",
      "highest 1\n",
      "huge 1\n",
      "lesser 1\n",
      "mortised 1\n",
      "adjoind 1\n",
      "small 1\n",
      "annexment 1\n",
      "attends 1\n",
      "boisterous 1\n",
      "ruin 1\n",
      "groan 1\n",
      "speedy 1\n",
      "freefooted 1\n",
      "convey 1\n",
      "tax 1\n",
      "partial 1\n",
      "oerhear 1\n",
      "smells 1\n",
      "primal 1\n",
      "eldest 1\n",
      "curse 1\n",
      "sharp 1\n",
      "defeats 1\n",
      "neglect 1\n",
      "thicker 1\n",
      "rain 1\n",
      "confront 1\n",
      "twofold 1\n",
      "forestalled 1\n",
      "possessd 1\n",
      "retain 1\n",
      "corrupted 1\n",
      "gilded 1\n",
      "shove 1\n",
      "justice 1\n",
      "prize 1\n",
      "buys 1\n",
      "compelld 1\n",
      "evidence 1\n",
      "rests 1\n",
      "repentance 1\n",
      "limed 1\n",
      "struggling 1\n",
      "engaged 1\n",
      "stubborn 1\n",
      "strings 1\n",
      "newborn 1\n",
      "babe 1\n",
      "retires 1\n",
      "pat 1\n",
      "praying 1\n",
      "scannd 1\n",
      "sole 1\n",
      "hire 1\n",
      "salary 1\n",
      "grossly 1\n",
      "bread 1\n",
      "flush 1\n",
      "audit 1\n",
      "seasond 1\n",
      "hent 1\n",
      "drunk 1\n",
      "trip 1\n",
      "kick 1\n",
      "stays 1\n",
      "physic 1\n",
      "prolongs 1\n",
      "rising 1\n",
      "queens 1\n",
      "pranks 1\n",
      "screend 1\n",
      "hides 1\n",
      "rood 1\n",
      "andwould 1\n",
      "soyou 1\n",
      "budge 1\n",
      "inmost 1\n",
      "drawing 1\n",
      "ducat 1\n",
      "lifts 1\n",
      "array 1\n",
      "discovers 1\n",
      "intruding 1\n",
      "findst 1\n",
      "busy 1\n",
      "wringing 1\n",
      "wring 1\n",
      "penetrable 1\n",
      "brassd 1\n",
      "bulwark 1\n",
      "darest 1\n",
      "blurs 1\n",
      "hypocrite 1\n",
      "innocent 1\n",
      "blister 1\n",
      "marriagevows 1\n",
      "dicers 1\n",
      "oaths 1\n",
      "contraction 1\n",
      "religion 1\n",
      "rhapsody 1\n",
      "glow 1\n",
      "solidity 1\n",
      "compound 1\n",
      "tristful 1\n",
      "doom 1\n",
      "thoughtsick 1\n",
      "roars 1\n",
      "thunders 1\n",
      "index 1\n",
      "counterfeit 1\n",
      "presentment 1\n",
      "seated 1\n",
      "hyperions 1\n",
      "curls 1\n",
      "front 1\n",
      "mars 1\n",
      "threaten 1\n",
      "herald 1\n",
      "mercury 1\n",
      "newlighted 1\n",
      "heavenkissing 1\n",
      "combination 1\n",
      "mildewd 1\n",
      "blasting 1\n",
      "batten 1\n",
      "moor 1\n",
      "heyday 1\n",
      "humble 1\n",
      "waits 1\n",
      "apoplexd 1\n",
      "err 1\n",
      "thralld 1\n",
      "reserved 1\n",
      "cozend 1\n",
      "hoodmanblind 1\n",
      "smelling 1\n",
      "sans 1\n",
      "mope 1\n",
      "mutine 1\n",
      "matrons 1\n",
      "compulsive 1\n",
      "ardour 1\n",
      "frost 1\n",
      "actively 1\n",
      "panders 1\n",
      "turnst 1\n",
      "grained 1\n",
      "spots 1\n",
      "tinct 1\n",
      "enseamed 1\n",
      "stewd 1\n",
      "honeying 1\n",
      "nasty 1\n",
      "sty 1\n",
      "twentieth 1\n",
      "tithe 1\n",
      "cutpurse 1\n",
      "rule 1\n",
      "shelf 1\n",
      "pocket 1\n",
      "shreds 1\n",
      "patches 1\n",
      "hover 1\n",
      "guards 1\n",
      "chide 1\n",
      "lapsed 1\n",
      "important 1\n",
      "acting 1\n",
      "whet 1\n",
      "blunted 1\n",
      "weakest 1\n",
      "strongest 1\n",
      "works 1\n",
      "vacancy 1\n",
      "incorporal 1\n",
      "bedded 1\n",
      "excrements 1\n",
      "starts 1\n",
      "sprinkle 1\n",
      "cool 1\n",
      "glares 1\n",
      "conjoind 1\n",
      "preaching 1\n",
      "stones 1\n",
      "stern 1\n",
      "steals 1\n",
      "portal 1\n",
      "coinage 1\n",
      "bodiless 1\n",
      "creation 1\n",
      "pulse 1\n",
      "temperately 1\n",
      "healthful 1\n",
      "utterd 1\n",
      "test 1\n",
      "reword 1\n",
      "gambol 1\n",
      "mattering 1\n",
      "trespass 1\n",
      "skin 1\n",
      "film 1\n",
      "ulcerous 1\n",
      "mining 1\n",
      "infects 1\n",
      "compost 1\n",
      "fatness 1\n",
      "pursy 1\n",
      "curb 1\n",
      "woo 1\n",
      "cleft 1\n",
      "worser 1\n",
      "purer 1\n",
      "uncles 1\n",
      "monster 1\n",
      "habits 1\n",
      "likewise 1\n",
      "frock 1\n",
      "aptly 1\n",
      "refrain 1\n",
      "abstinence 1\n",
      "potency 1\n",
      "desirous 1\n",
      "blessd 1\n",
      "punish 1\n",
      "minister 1\n",
      "bloat 1\n",
      "pinch 1\n",
      "reechy 1\n",
      "paddling 1\n",
      "ravel 1\n",
      "essentially 1\n",
      "sober 1\n",
      "paddock 1\n",
      "bat 1\n",
      "gib 1\n",
      "concernings 1\n",
      "despite 1\n",
      "unpeg 1\n",
      "birds 1\n",
      "famous 1\n",
      "conclusions 1\n",
      "creep 1\n",
      "concluded 1\n",
      "schoolfellows 1\n",
      "adders 1\n",
      "fangd 1\n",
      "mandate 1\n",
      "marshal 1\n",
      "knavery 1\n",
      "engineer 1\n",
      "hoist 1\n",
      "petard 1\n",
      "delve 1\n",
      "yard 1\n",
      "mines 1\n",
      "crafts 1\n",
      "packing 1\n",
      "lug 1\n",
      "neighbour 1\n",
      "counsellor 1\n",
      "prating 1\n",
      "severally 1\n",
      "dragging 1\n",
      "sighs 1\n",
      "heaves 1\n",
      "contend 1\n",
      "mightier 1\n",
      "brainish 1\n",
      "threats 1\n",
      "answerd 1\n",
      "restraind 1\n",
      "haunt 1\n",
      "owner 1\n",
      "disease 1\n",
      "divulging 1\n",
      "ore 1\n",
      "among 1\n",
      "mineral 1\n",
      "metals 1\n",
      "weeps 1\n",
      "excuse 1\n",
      "aid 1\n",
      "draggd 1\n",
      "untimely 1\n",
      "discord 1\n",
      "dismay 1\n",
      "stowed 1\n",
      "compounded 1\n",
      "besides 1\n",
      "demanded 1\n",
      "replication 1\n",
      "soaks 1\n",
      "authorities 1\n",
      "corner 1\n",
      "jaw 1\n",
      "mouthed 1\n",
      "swallowed 1\n",
      "gleaned 1\n",
      "squeezing 1\n",
      "fox 1\n",
      "multitude 1\n",
      "offenders 1\n",
      "deliberate 1\n",
      "diseases 1\n",
      "appliance 1\n",
      "befalln 1\n",
      "bestowd 1\n",
      "guarded 1\n",
      "eaten 1\n",
      "convocation 1\n",
      "politic 1\n",
      "emperor 1\n",
      "lean 1\n",
      "dishes 1\n",
      "progress 1\n",
      "stairs 1\n",
      "especial 1\n",
      "donemust 1\n",
      "quickness 1\n",
      "bark 1\n",
      "associates 1\n",
      "knewst 1\n",
      "cherub 1\n",
      "sees 1\n",
      "leans 1\n",
      "holdst 1\n",
      "thereof 1\n",
      "cicatrice 1\n",
      "raw 1\n",
      "pays 1\n",
      "homage 1\n",
      "usthou 1\n",
      "mayst 1\n",
      "congruing 1\n",
      "hectic 1\n",
      "rages 1\n",
      "cure 1\n",
      "howeer 1\n",
      "haps 1\n",
      "marching 1\n",
      "greet 1\n",
      "licence 1\n",
      "craves 1\n",
      "conveyance 1\n",
      "rendezvous 1\n",
      "softly 1\n",
      "commands 1\n",
      "frontier 1\n",
      "sold 1\n",
      "garrisond 1\n",
      "debate 1\n",
      "imposthume 1\n",
      "wealth 1\n",
      "occasions 1\n",
      "spur 1\n",
      "market 1\n",
      "large 1\n",
      "looking 1\n",
      "capability 1\n",
      "godlike 1\n",
      "fust 1\n",
      "unused 1\n",
      "bestial 1\n",
      "oblivion 1\n",
      "craven 1\n",
      "scruple 1\n",
      "precisely 1\n",
      "quarterd 1\n",
      "examples 1\n",
      "exhort 1\n",
      "army 1\n",
      "led 1\n",
      "divine 1\n",
      "mouths 1\n",
      "invisible 1\n",
      "exposing 1\n",
      "unsure 1\n",
      "eggshell 1\n",
      "rightly 1\n",
      "greatly 1\n",
      "stake 1\n",
      "staind 1\n",
      "excitements 1\n",
      "beds 1\n",
      "plot 1\n",
      "tomb 1\n",
      "importunate 1\n",
      "distract 1\n",
      "mood 1\n",
      "pitied 1\n",
      "hems 1\n",
      "beats 1\n",
      "enviously 1\n",
      "straws 1\n",
      "unshaped 1\n",
      "aim 1\n",
      "botch 1\n",
      "winks 1\n",
      "nods 1\n",
      "gestures 1\n",
      "unhappily 1\n",
      "strew 1\n",
      "conjectures 1\n",
      "illbreeding 1\n",
      "artless 1\n",
      "spills 1\n",
      "fearing 1\n",
      "spilt 1\n",
      "beauteous 1\n",
      "cockle 1\n",
      "staff 1\n",
      "sandal 1\n",
      "shoon 1\n",
      "song 1\n",
      "grassgreen 1\n",
      "turf 1\n",
      "shroud 1\n",
      "bewept 1\n",
      "truelove 1\n",
      "showers 1\n",
      "ild 1\n",
      "owl 1\n",
      "bakers 1\n",
      "valentines 1\n",
      "betime 1\n",
      "window 1\n",
      "valentine 1\n",
      "donnd 1\n",
      "duppd 1\n",
      "chamberdoor 1\n",
      "departed 1\n",
      "la 1\n",
      "gis 1\n",
      "charity 1\n",
      "quoth 1\n",
      "tumbled 1\n",
      "coach 1\n",
      "springs 1\n",
      "sorrows 1\n",
      "spies 1\n",
      "battalions 1\n",
      "people 1\n",
      "muddied 1\n",
      "unwholesome 1\n",
      "whispers 1\n",
      "greenly 1\n",
      "huggermugger 1\n",
      "inter 1\n",
      "divided 1\n",
      "pictures 1\n",
      "containing 1\n",
      "feeds 1\n",
      "buzzers 1\n",
      "infect 1\n",
      "speeches 1\n",
      "necessity 1\n",
      "beggard 1\n",
      "arraign 1\n",
      "murderingpiece 1\n",
      "places 1\n",
      "superfluous 1\n",
      "switzers 1\n",
      "ocean 1\n",
      "overpeering 1\n",
      "flats 1\n",
      "impetuous 1\n",
      "riotous 1\n",
      "oerbears 1\n",
      "rabble 1\n",
      "antiquity 1\n",
      "ratifiers 1\n",
      "props 1\n",
      "caps 1\n",
      "applaud 1\n",
      "counter 1\n",
      "dogs 1\n",
      "retire 1\n",
      "calmly 1\n",
      "drop 1\n",
      "bastard 1\n",
      "cuckold 1\n",
      "brands 1\n",
      "harlot 1\n",
      "unsmirched 1\n",
      "rebellion 1\n",
      "giantlike 1\n",
      "hedge 1\n",
      "fill 1\n",
      "juggled 1\n",
      "allegiance 1\n",
      "blackest 1\n",
      "profoundest 1\n",
      "damnation 1\n",
      "negligence 1\n",
      "thoroughly 1\n",
      "certainty 1\n",
      "swoopstake 1\n",
      "winner 1\n",
      "loser 1\n",
      "ope 1\n",
      "liferendering 1\n",
      "pelican 1\n",
      "repast 1\n",
      "guiltless 1\n",
      "level 1\n",
      "pierce 1\n",
      "seven 1\n",
      "paid 1\n",
      "weight 1\n",
      "beam 1\n",
      "moral 1\n",
      "instance 1\n",
      "barefaced 1\n",
      "bier 1\n",
      "non 1\n",
      "raind 1\n",
      "persuade 1\n",
      "adowna 1\n",
      "steward 1\n",
      "nothings 1\n",
      "rosemary 1\n",
      "pansies 1\n",
      "document 1\n",
      "fitted 1\n",
      "fennel 1\n",
      "columbines 1\n",
      "herbgrace 1\n",
      "sundays 1\n",
      "daisy 1\n",
      "withered 1\n",
      "bonny 1\n",
      "robin 1\n",
      "turns 1\n",
      "prettiness 1\n",
      "deathbed 1\n",
      "flaxen 1\n",
      "poll 1\n",
      "moan 1\n",
      "commune 1\n",
      "collateral 1\n",
      "touchd 1\n",
      "satisfaction 1\n",
      "jointly 1\n",
      "due 1\n",
      "obscure 1\n",
      "trophy 1\n",
      "hatchment 1\n",
      "rite 1\n",
      "formal 1\n",
      "ostentation 1\n",
      "callt 1\n",
      "vi 1\n",
      "greeted 1\n",
      "ant 1\n",
      "letter 1\n",
      "overlooked 1\n",
      "pirate 1\n",
      "appointment 1\n",
      "chase 1\n",
      "compelled 1\n",
      "valour 1\n",
      "boarded 1\n",
      "clear 1\n",
      "became 1\n",
      "dealt 1\n",
      "thieves 1\n",
      "knowest 1\n",
      "speedier 1\n",
      "vii 1\n",
      "acquaintance 1\n",
      "pursued 1\n",
      "proceeded 1\n",
      "feats 1\n",
      "crimeful 1\n",
      "mainly 1\n",
      "stirrd 1\n",
      "unsinewd 1\n",
      "conjunctive 1\n",
      "sphere 1\n",
      "public 1\n",
      "gender 1\n",
      "dipping 1\n",
      "turneth 1\n",
      "wood 1\n",
      "gyves 1\n",
      "timberd 1\n",
      "reverted 1\n",
      "aimd 1\n",
      "driven 1\n",
      "praises 1\n",
      "challenger 1\n",
      "perfections 1\n",
      "shook 1\n",
      "imagine 1\n",
      "claudio 1\n",
      "kingly 1\n",
      "thereunto 1\n",
      "recount 1\n",
      "abuse 1\n",
      "postscript 1\n",
      "advise 1\n",
      "warms 1\n",
      "didest 1\n",
      "oerrule 1\n",
      "checking 1\n",
      "exploit 1\n",
      "ripe 1\n",
      "device 1\n",
      "uncharge 1\n",
      "devise 1\n",
      "shine 1\n",
      "unworthiest 1\n",
      "siege 1\n",
      "riband 1\n",
      "careless 1\n",
      "settled 1\n",
      "graveness 1\n",
      "normandy 1\n",
      "horseback 1\n",
      "gallant 1\n",
      "grew 1\n",
      "doing 1\n",
      "incorpsed 1\n",
      "deminatured 1\n",
      "toppd 1\n",
      "forgery 1\n",
      "lamond 1\n",
      "brooch 1\n",
      "gem 1\n",
      "masterly 1\n",
      "twould 1\n",
      "match 1\n",
      "scrimers 1\n",
      "swore 1\n",
      "envenom 1\n",
      "painting 1\n",
      "passages 1\n",
      "qualifies 1\n",
      "spark 1\n",
      "wick 1\n",
      "snuff 1\n",
      "abate 1\n",
      "growing 1\n",
      "plurisy 1\n",
      "changes 1\n",
      "abatements 1\n",
      "delays 1\n",
      "accidents 1\n",
      "spendthrift 1\n",
      "hurts 1\n",
      "easing 1\n",
      "ulcer 1\n",
      "sanctuarize 1\n",
      "bounds 1\n",
      "varnish 1\n",
      "frenchman 1\n",
      "heads 1\n",
      "remiss 1\n",
      "contriving 1\n",
      "peruse 1\n",
      "anoint 1\n",
      "bought 1\n",
      "mountebank 1\n",
      "dip 1\n",
      "knife 1\n",
      "cataplasm 1\n",
      "rare 1\n",
      "simples 1\n",
      "scratchd 1\n",
      "convenience 1\n",
      "fail 1\n",
      "performance 1\n",
      "assayd 1\n",
      "project 1\n",
      "cunnings 1\n",
      "bouts 1\n",
      "prepared 1\n",
      "chalice 1\n",
      "nonce 1\n",
      "sipping 1\n",
      "venomd 1\n",
      "stuck 1\n",
      "tread 1\n",
      "anothers 1\n",
      "sisters 1\n",
      "willow 1\n",
      "aslant 1\n",
      "hoar 1\n",
      "glassy 1\n",
      "stream 1\n",
      "fantastic 1\n",
      "garlands 1\n",
      "crowflowers 1\n",
      "nettles 1\n",
      "daisies 1\n",
      "purples 1\n",
      "shepherds 1\n",
      "grosser 1\n",
      "pendent 1\n",
      "boughs 1\n",
      "coronet 1\n",
      "clambering 1\n",
      "envious 1\n",
      "sliver 1\n",
      "weedy 1\n",
      "trophies 1\n",
      "weeping 1\n",
      "mermaidlike 1\n",
      "chanted 1\n",
      "snatches 1\n",
      "tunes 1\n",
      "incapable 1\n",
      "distress 1\n",
      "indued 1\n",
      "element 1\n",
      "garments 1\n",
      "pulld 1\n",
      "melodious 1\n",
      "muddy 1\n",
      "blaze 1\n",
      "folly 1\n",
      "douts 1\n",
      "churchyard 1\n",
      "spades 1\n",
      "wilfully 1\n",
      "crowner 1\n",
      "se 1\n",
      "offendendo 1\n",
      "argues 1\n",
      "branches 1\n",
      "perform 1\n",
      "goodman 1\n",
      "delver 1\n",
      "nill 1\n",
      "goesmark 1\n",
      "drowns 1\n",
      "shortens 1\n",
      "crowners 1\n",
      "quest 1\n",
      "gentlewoman 1\n",
      "folk 1\n",
      "ancient 1\n",
      "gardeners 1\n",
      "ditchers 1\n",
      "gravemakers 1\n",
      "adams 1\n",
      "profession 1\n",
      "heathen 1\n",
      "adam 1\n",
      "digged 1\n",
      "answerest 1\n",
      "gallowsmaker 1\n",
      "outlives 1\n",
      "tenants 1\n",
      "built 1\n",
      "unyoke 1\n",
      "distance 1\n",
      "cudgel 1\n",
      "mend 1\n",
      "asked 1\n",
      "yaughan 1\n",
      "stoup 1\n",
      "digs 1\n",
      "contract 1\n",
      "behove 1\n",
      "gravemaking 1\n",
      "daintier 1\n",
      "stealing 1\n",
      "steps 1\n",
      "clawd 1\n",
      "clutch 1\n",
      "shipped 1\n",
      "intil 1\n",
      "jowls 1\n",
      "cains 1\n",
      "jawbone 1\n",
      "politician 1\n",
      "oerreaches 1\n",
      "circumvent 1\n",
      "morrow 1\n",
      "suchaone 1\n",
      "suchaones 1\n",
      "chapless 1\n",
      "knocked 1\n",
      "mazzard 1\n",
      "sextons 1\n",
      "revolution 1\n",
      "seet 1\n",
      "breeding 1\n",
      "loggats 1\n",
      "ache 1\n",
      "pickaxe 1\n",
      "shrouding 1\n",
      "sheet 1\n",
      "lawyer 1\n",
      "quiddities 1\n",
      "quillets 1\n",
      "cases 1\n",
      "tenures 1\n",
      "knock 1\n",
      "dirty 1\n",
      "shovel 1\n",
      "battery 1\n",
      "hum 1\n",
      "buyer 1\n",
      "statutes 1\n",
      "recognizances 1\n",
      "recovery 1\n",
      "vouch 1\n",
      "purchases 1\n",
      "breadth 1\n",
      "indentures 1\n",
      "conveyances 1\n",
      "hardly 1\n",
      "box 1\n",
      "inheritor 1\n",
      "parchment 1\n",
      "sheepskins 1\n",
      "calfskins 1\n",
      "sheep 1\n",
      "calves 1\n",
      "sirrah 1\n",
      "equivocation 1\n",
      "undo 1\n",
      "gaffs 1\n",
      "kibe 1\n",
      "overcame 1\n",
      "because 1\n",
      "losing 1\n",
      "sexton 1\n",
      "rot 1\n",
      "dieas 1\n",
      "pocky 1\n",
      "corses 1\n",
      "nowadays 1\n",
      "inhe 1\n",
      "eight 1\n",
      "tanner 1\n",
      "tanned 1\n",
      "decayer 1\n",
      "lain 1\n",
      "pestilence 1\n",
      "poured 1\n",
      "flagon 1\n",
      "yoricks 1\n",
      "jester 1\n",
      "yorick 1\n",
      "abhorred 1\n",
      "gorge 1\n",
      "rims 1\n",
      "hung 1\n",
      "kissed 1\n",
      "gibes 1\n",
      "gambols 1\n",
      "flashes 1\n",
      "merriment 1\n",
      "grinning 1\n",
      "chapfallen 1\n",
      "ladys 1\n",
      "paint 1\n",
      "inch 1\n",
      "looked 1\n",
      "smelt 1\n",
      "pah 1\n",
      "stopping 1\n",
      "bunghole 1\n",
      "curiously 1\n",
      "likelihood 1\n",
      "returneth 1\n",
      "converted 1\n",
      "beerbarrel 1\n",
      "imperious 1\n",
      "hole 1\n",
      "wall 1\n",
      "winter 1\n",
      "flaw 1\n",
      "procession 1\n",
      "corpse 1\n",
      "mourners 1\n",
      "maimed 1\n",
      "betoken 1\n",
      "fordo 1\n",
      "retiring 1\n",
      "obsequies 1\n",
      "enlarged 1\n",
      "warrantise 1\n",
      "oersways 1\n",
      "unsanctified 1\n",
      "lodged 1\n",
      "shards 1\n",
      "flints 1\n",
      "pebbles 1\n",
      "virgin 1\n",
      "crants 1\n",
      "strewments 1\n",
      "bringing 1\n",
      "profane 1\n",
      "requiem 1\n",
      "peaceparted 1\n",
      "unpolluted 1\n",
      "churlish 1\n",
      "ministering 1\n",
      "howling 1\n",
      "sweets 1\n",
      "scattering 1\n",
      "hoped 1\n",
      "bridebed 1\n",
      "deckd 1\n",
      "strewd 1\n",
      "ingenious 1\n",
      "deprived 1\n",
      "pile 1\n",
      "oertop 1\n",
      "pelion 1\n",
      "skyish 1\n",
      "blue 1\n",
      "olympus 1\n",
      "advancing 1\n",
      "emphasis 1\n",
      "conjures 1\n",
      "wandering 1\n",
      "wonderwounded 1\n",
      "grappling 1\n",
      "prayst 1\n",
      "splenitive 1\n",
      "wiseness 1\n",
      "asunder 1\n",
      "until 1\n",
      "eyelids 1\n",
      "forbear 1\n",
      "eisel 1\n",
      "crocodile 1\n",
      "whine 1\n",
      "outface 1\n",
      "leaping 1\n",
      "prate 1\n",
      "millions 1\n",
      "acres 1\n",
      "singeing 1\n",
      "zone 1\n",
      "ossa 1\n",
      "wart 1\n",
      "rant 1\n",
      "female 1\n",
      "couplets 1\n",
      "drooping 1\n",
      "mew 1\n",
      "strengthen 1\n",
      "push 1\n",
      "monument 1\n",
      "proceeding 1\n",
      "mutines 1\n",
      "bilboes 1\n",
      "rashly 1\n",
      "rashness 1\n",
      "indiscretion 1\n",
      "pall 1\n",
      "roughhew 1\n",
      "cabin 1\n",
      "seagown 1\n",
      "scarfd 1\n",
      "dark 1\n",
      "groped 1\n",
      "fingerd 1\n",
      "packet 1\n",
      "withdrew 1\n",
      "forgetting 1\n",
      "unseal 1\n",
      "grand 1\n",
      "knaveryan 1\n",
      "exact 1\n",
      "several 1\n",
      "sorts 1\n",
      "englands 1\n",
      "bugs 1\n",
      "goblins 1\n",
      "supervise 1\n",
      "bated 1\n",
      "grinding 1\n",
      "benetted 1\n",
      "villanies 1\n",
      "playi 1\n",
      "devised 1\n",
      "statists 1\n",
      "baseness 1\n",
      "write 1\n",
      "labourd 1\n",
      "learning 1\n",
      "yeomans 1\n",
      "earnest 1\n",
      "conjuration 1\n",
      "tributary 1\n",
      "stiff 1\n",
      "wheaten 1\n",
      "garland 1\n",
      "comma 1\n",
      "tween 1\n",
      "amities 1\n",
      "suchlike 1\n",
      "ases 1\n",
      "contents 1\n",
      "debatement 1\n",
      "shrivingtime 1\n",
      "ordinant 1\n",
      "signet 1\n",
      "model 1\n",
      "folded 1\n",
      "subscribed 1\n",
      "gavet 1\n",
      "impression 1\n",
      "changeling 1\n",
      "seafight 1\n",
      "sequent 1\n",
      "insinuation 1\n",
      "points 1\n",
      "opposites 1\n",
      "thinkst 1\n",
      "whored 1\n",
      "poppd 1\n",
      "hopes 1\n",
      "angle 1\n",
      "cozenageist 1\n",
      "perfect 1\n",
      "interim 1\n",
      "lifes 1\n",
      "portraiture 1\n",
      "bravery 1\n",
      "towering 1\n",
      "waterfly 1\n",
      "fertile 1\n",
      "crib 1\n",
      "mess 1\n",
      "chough 1\n",
      "spacious 1\n",
      "possession 1\n",
      "diligence 1\n",
      "bonnet 1\n",
      "northerly 1\n",
      "sultry 1\n",
      "exceedingly 1\n",
      "sultryas 1\n",
      "twerei 1\n",
      "bade 1\n",
      "newly 1\n",
      "differences 1\n",
      "society 1\n",
      "showing 1\n",
      "feelingly 1\n",
      "calendar 1\n",
      "definement 1\n",
      "perdition 1\n",
      "inventorially 1\n",
      "dizzy 1\n",
      "arithmetic 1\n",
      "yaw 1\n",
      "verity 1\n",
      "extolment 1\n",
      "infusion 1\n",
      "dearth 1\n",
      "rareness 1\n",
      "diction 1\n",
      "semblable 1\n",
      "umbrage 1\n",
      "infallibly 1\n",
      "concernancy 1\n",
      "wrap 1\n",
      "rawer 1\n",
      "really 1\n",
      "nomination 1\n",
      "empty 1\n",
      "spent 1\n",
      "compare 1\n",
      "imputation 1\n",
      "meed 1\n",
      "unfellowed 1\n",
      "dagger 1\n",
      "weapons 1\n",
      "wagered 1\n",
      "poniards 1\n",
      "girdle 1\n",
      "responsive 1\n",
      "hilts 1\n",
      "edified 1\n",
      "margent 1\n",
      "german 1\n",
      "swords 1\n",
      "liberalconceited 1\n",
      "bet 1\n",
      "passes 1\n",
      "exceed 1\n",
      "lapwing 1\n",
      "dug 1\n",
      "sucked 1\n",
      "heand 1\n",
      "bevy 1\n",
      "dressy 1\n",
      "dotes 1\n",
      "ononly 1\n",
      "yesty 1\n",
      "carries 1\n",
      "winnowed 1\n",
      "bubbles 1\n",
      "commended 1\n",
      "brings 1\n",
      "attend 1\n",
      "constant 1\n",
      "fitness 1\n",
      "whensoever 1\n",
      "provided 1\n",
      "able 1\n",
      "instructs 1\n",
      "continual 1\n",
      "foolery 1\n",
      "gaingiving 1\n",
      "dislike 1\n",
      "forestall 1\n",
      "whit 1\n",
      "defy 1\n",
      "augury 1\n",
      "sparrow 1\n",
      "readiness 1\n",
      "betimes 1\n",
      "pardont 1\n",
      "punishd 1\n",
      "exception 1\n",
      "denies 1\n",
      "faction 1\n",
      "disclaiming 1\n",
      "arrow 1\n",
      "satisfied 1\n",
      "case 1\n",
      "reconcilement 1\n",
      "elder 1\n",
      "ungored 1\n",
      "offerd 1\n",
      "darkest 1\n",
      "weaker 1\n",
      "betterd 1\n",
      "wine 1\n",
      "battlements 1\n",
      "successive 1\n",
      "worn 1\n",
      "cups 1\n",
      "kettle 1\n",
      "cannoneer 1\n",
      "cannons 1\n",
      "dunks 1\n",
      "judges 1\n",
      "palpable 1\n",
      "pearl 1\n",
      "bout 1\n",
      "scant 1\n",
      "napkin 1\n",
      "brows 1\n",
      "carouses 1\n",
      "thinkt 1\n",
      "dally 1\n",
      "afeard 1\n",
      "scuffling 1\n",
      "woodcock 1\n",
      "springe 1\n",
      "drinko 1\n",
      "villany 1\n",
      "medicine 1\n",
      "envenomd 1\n",
      "pointenvenomd 1\n",
      "stabs 1\n",
      "murderous 1\n",
      "potion 1\n",
      "temperd 1\n",
      "forgiveness 1\n",
      "timeas 1\n",
      "sergeant 1\n",
      "arresto 1\n",
      "livest 1\n",
      "aright 1\n",
      "unsatisfied 1\n",
      "thourt 1\n",
      "havet 1\n",
      "wounded 1\n",
      "standing 1\n",
      "absent 1\n",
      "felicity 1\n",
      "pain 1\n",
      "afar 1\n",
      "conquest 1\n",
      "volley 1\n",
      "oercrows 1\n",
      "dying 1\n",
      "occurrents 1\n",
      "solicited 1\n",
      "cracks 1\n",
      "flights 1\n",
      "drum 1\n",
      "english 1\n",
      "search 1\n",
      "quarry 1\n",
      "havoc 1\n",
      "cell 1\n",
      "princes 1\n",
      "bloodily 1\n",
      "affairs 1\n",
      "fulfilld 1\n",
      "ability 1\n",
      "arrived 1\n",
      "unknowing 1\n",
      "carnal 1\n",
      "accidental 1\n",
      "casual 1\n",
      "slaughters 1\n",
      "deaths 1\n",
      "upshot 1\n",
      "mistook 1\n",
      "inventors 1\n",
      "noblest 1\n",
      "claim 1\n",
      "invite 1\n",
      "also 1\n",
      "errors 1\n",
      "happen 1\n",
      "captains 1\n",
      "royally 1\n",
      "loudly 1\n",
      "field 1\n",
      "shoot 1\n",
      "bearing 1\n",
      "peal 1\n"
     ]
    }
   ],
   "source": [
    "for word in sorted(wordcounts, key=wordcounts.get, reverse=True):\n",
    "    print(word, wordcounts[word])"
   ]
  },
  {
   "cell_type": "code",
   "execution_count": 219,
   "id": "54aa3ccb",
   "metadata": {},
   "outputs": [],
   "source": [
    "s = 'hi hamlet, how are you?'"
   ]
  },
  {
   "cell_type": "code",
   "execution_count": 220,
   "id": "7b7a1b1a",
   "metadata": {},
   "outputs": [
    {
     "name": "stdout",
     "output_type": "stream",
     "text": [
      "['h', 'i', ' ', 'h', 'a', 'm', 'l', 'e', 't', ',', ' ', 'h', 'o', 'w', ' ', 'a', 'r', 'e', ' ', 'y', 'o', 'u', '?']\n"
     ]
    }
   ],
   "source": [
    "print(list(s))"
   ]
  },
  {
   "cell_type": "code",
   "execution_count": 221,
   "id": "098956bb",
   "metadata": {},
   "outputs": [
    {
     "name": "stdout",
     "output_type": "stream",
     "text": [
      "['h', 'i', ' ', 'h', 'a', 'm', 'l', 'e', 't', ' ', 'h', 'o', 'w', ' ', 'a', 'r', 'e', ' ', 'y', 'o', 'u']\n"
     ]
    }
   ],
   "source": [
    "chars = [char for char in s\n",
    "                    if char not in '?,']\n",
    "print(chars)"
   ]
  },
  {
   "cell_type": "code",
   "execution_count": 222,
   "id": "2a37b1b4",
   "metadata": {},
   "outputs": [
    {
     "data": {
      "text/plain": [
       "'hi hamlet how are you'"
      ]
     },
     "execution_count": 222,
     "metadata": {},
     "output_type": "execute_result"
    }
   ],
   "source": [
    "''.join(chars)"
   ]
  },
  {
   "cell_type": "code",
   "execution_count": 223,
   "id": "d0dca02d",
   "metadata": {},
   "outputs": [],
   "source": [
    "import string"
   ]
  },
  {
   "cell_type": "code",
   "execution_count": 224,
   "id": "fb91b644",
   "metadata": {},
   "outputs": [
    {
     "data": {
      "text/plain": [
       "'/usr/local/lib/python3.10/string.py'"
      ]
     },
     "execution_count": 224,
     "metadata": {},
     "output_type": "execute_result"
    }
   ],
   "source": [
    "string.__file__"
   ]
  },
  {
   "cell_type": "code",
   "execution_count": 226,
   "id": "d1bc44a5",
   "metadata": {},
   "outputs": [
    {
     "name": "stdout",
     "output_type": "stream",
     "text": [
      "['h', 'i', ' ', 'h', 'a', 'm', 'l', 'e', 't', ' ', 'h', 'o', 'w', ' ', 'a', 'r', 'e', ' ', 'y', 'o', 'u']\n"
     ]
    }
   ],
   "source": [
    "#import string\n",
    "from string import punctuation\n",
    "\n",
    "chars = [char for char in s\n",
    "                    if char not in punctuation]\n",
    "print(chars)"
   ]
  },
  {
   "cell_type": "code",
   "execution_count": 229,
   "id": "529a78d0",
   "metadata": {},
   "outputs": [],
   "source": [
    "x = 1"
   ]
  },
  {
   "cell_type": "code",
   "execution_count": 230,
   "id": "2c48c13d",
   "metadata": {},
   "outputs": [],
   "source": [
    "x: int = 1 # type \"hint\""
   ]
  },
  {
   "cell_type": "code",
   "execution_count": 231,
   "id": "0fb3bdb9",
   "metadata": {},
   "outputs": [],
   "source": [
    "x = 1.1 # see https://mypy-lang.org/"
   ]
  },
  {
   "cell_type": "code",
   "execution_count": 232,
   "id": "83605d78",
   "metadata": {},
   "outputs": [],
   "source": [
    "import math"
   ]
  },
  {
   "cell_type": "code",
   "execution_count": 233,
   "id": "2bcb0eb5",
   "metadata": {},
   "outputs": [
    {
     "data": {
      "text/plain": [
       "['__doc__',\n",
       " '__file__',\n",
       " '__loader__',\n",
       " '__name__',\n",
       " '__package__',\n",
       " '__spec__',\n",
       " 'acos',\n",
       " 'acosh',\n",
       " 'asin',\n",
       " 'asinh',\n",
       " 'atan',\n",
       " 'atan2',\n",
       " 'atanh',\n",
       " 'ceil',\n",
       " 'comb',\n",
       " 'copysign',\n",
       " 'cos',\n",
       " 'cosh',\n",
       " 'degrees',\n",
       " 'dist',\n",
       " 'e',\n",
       " 'erf',\n",
       " 'erfc',\n",
       " 'exp',\n",
       " 'expm1',\n",
       " 'fabs',\n",
       " 'factorial',\n",
       " 'floor',\n",
       " 'fmod',\n",
       " 'frexp',\n",
       " 'fsum',\n",
       " 'gamma',\n",
       " 'gcd',\n",
       " 'hypot',\n",
       " 'inf',\n",
       " 'isclose',\n",
       " 'isfinite',\n",
       " 'isinf',\n",
       " 'isnan',\n",
       " 'isqrt',\n",
       " 'lcm',\n",
       " 'ldexp',\n",
       " 'lgamma',\n",
       " 'log',\n",
       " 'log10',\n",
       " 'log1p',\n",
       " 'log2',\n",
       " 'modf',\n",
       " 'nan',\n",
       " 'nextafter',\n",
       " 'perm',\n",
       " 'pi',\n",
       " 'pow',\n",
       " 'prod',\n",
       " 'radians',\n",
       " 'remainder',\n",
       " 'sin',\n",
       " 'sinh',\n",
       " 'sqrt',\n",
       " 'tan',\n",
       " 'tanh',\n",
       " 'tau',\n",
       " 'trunc',\n",
       " 'ulp']"
      ]
     },
     "execution_count": 233,
     "metadata": {},
     "output_type": "execute_result"
    }
   ],
   "source": [
    "dir(math)"
   ]
  },
  {
   "cell_type": "code",
   "execution_count": 235,
   "id": "d14ce4a9",
   "metadata": {},
   "outputs": [
    {
     "data": {
      "text/plain": [
       "4.806245936279167"
      ]
     },
     "execution_count": 235,
     "metadata": {},
     "output_type": "execute_result"
    }
   ],
   "source": [
    "math.sqrt(23.1)"
   ]
  },
  {
   "cell_type": "code",
   "execution_count": 236,
   "id": "a102fade",
   "metadata": {},
   "outputs": [
    {
     "ename": "TypeError",
     "evalue": "must be real number, not str",
     "output_type": "error",
     "traceback": [
      "\u001b[0;31m---------------------------------------------------------------------------\u001b[0m",
      "\u001b[0;31mTypeError\u001b[0m                                 Traceback (most recent call last)",
      "Input \u001b[0;32mIn [236]\u001b[0m, in \u001b[0;36m<module>\u001b[0;34m\u001b[0m\n\u001b[0;32m----> 1\u001b[0m \u001b[43mmath\u001b[49m\u001b[38;5;241;43m.\u001b[39;49m\u001b[43msqrt\u001b[49m\u001b[43m(\u001b[49m\u001b[38;5;124;43m'\u001b[39;49m\u001b[38;5;124;43m123\u001b[39;49m\u001b[38;5;124;43m'\u001b[39;49m\u001b[43m)\u001b[49m\n",
      "\u001b[0;31mTypeError\u001b[0m: must be real number, not str"
     ]
    }
   ],
   "source": [
    "math.sqrt('123')"
   ]
  },
  {
   "cell_type": "code",
   "execution_count": 237,
   "id": "32be8776",
   "metadata": {},
   "outputs": [
    {
     "name": "stdout",
     "output_type": "stream",
     "text": [
      "Help on built-in function sqrt in module math:\n",
      "\n",
      "sqrt(x, /)\n",
      "    Return the square root of x.\n",
      "\n"
     ]
    }
   ],
   "source": [
    "import math\n",
    "help(math.sqrt)"
   ]
  },
  {
   "cell_type": "code",
   "execution_count": 238,
   "id": "faf21f82",
   "metadata": {},
   "outputs": [
    {
     "name": "stdout",
     "output_type": "stream",
     "text": [
      "Help on method randint in module random:\n",
      "\n",
      "randint(a, b) method of random.Random instance\n",
      "    Return random integer in range [a, b], including both end points.\n",
      "\n"
     ]
    }
   ],
   "source": [
    "import random\n",
    "help(random.randint)"
   ]
  },
  {
   "cell_type": "code",
   "execution_count": 239,
   "id": "24be7275",
   "metadata": {},
   "outputs": [
    {
     "name": "stdout",
     "output_type": "stream",
     "text": [
      "\n"
     ]
    }
   ],
   "source": [
    "print()"
   ]
  },
  {
   "cell_type": "code",
   "execution_count": 240,
   "id": "59ccb26b",
   "metadata": {},
   "outputs": [
    {
     "name": "stdout",
     "output_type": "stream",
     "text": [
      "1 2 3\n"
     ]
    }
   ],
   "source": [
    "print(1, 2, 3)"
   ]
  },
  {
   "cell_type": "code",
   "execution_count": 241,
   "id": "095bbd5d",
   "metadata": {},
   "outputs": [],
   "source": [
    "numbers = list(range(1, 101))"
   ]
  },
  {
   "cell_type": "code",
   "execution_count": 242,
   "id": "95d0d4d9",
   "metadata": {},
   "outputs": [
    {
     "name": "stdout",
     "output_type": "stream",
     "text": [
      "1 2 3 4 5 6 7 8 9 10 11 12 13 14 15 16 17 18 19 20 21 22 23 24 25 26 27 28 29 30 31 32 33 34 35 36 37 38 39 40 41 42 43 44 45 46 47 48 49 50 51 52 53 54 55 56 57 58 59 60 61 62 63 64 65 66 67 68 69 70 71 72 73 74 75 76 77 78 79 80 81 82 83 84 85 86 87 88 89 90 91 92 93 94 95 96 97 98 99 100\n"
     ]
    }
   ],
   "source": [
    "print(*numbers)"
   ]
  },
  {
   "cell_type": "markdown",
   "id": "2883f020",
   "metadata": {},
   "source": [
    "## Lab: functions\n",
    "* Write a function __`calculate`__ which is passed two operands and an operator and returns the calculated result, e.g., __`calculate(2, 4, '+')`__ would return 6\n",
    "* Write a function that, given a string, returns True or False whether the string is a pangram\n",
    "* Write a function which takes an integer as a parameter, and sums up its digits. If the resulting sum contains more than 1 digit, the function should sum the digits again, e.g., __`sumdigits(1235)`__ should compute the sum of 1, 2, 3, and 5 (11), then compute the sum of 1 and 1, returning 2.\n",
    "* Write a function which takes a number as a parameter and returns a string version of the number with commas representing thousands, e.g., __`add_commas(12345)`__ would return \"12,345\"\n",
    "* Write a function to demonstrate the Collatz Conjecture:\n",
    "  * for integer n > 1\n",
    "    * if n is even, then __`n = n // 2`__\n",
    "    * if n is odd, then __`n = n * 3 + 1`__\n",
    "  * ...will always converge to 1\n",
    "  * (your function should take n and keep printing new value of n until n is 1)\n"
   ]
  },
  {
   "cell_type": "code",
   "execution_count": 8,
   "id": "c95492b9",
   "metadata": {},
   "outputs": [],
   "source": [
    "def calculate(num1, num2, operator):\n",
    "    \"\"\"Perform addition, subtraction, multiplication, or divison.\n",
    "        \n",
    "    Anything else is an error. Print error message and return None in case of error.\n",
    "    \n",
    "    Perhaps a better solution is to raise an exception.\n",
    "    \"\"\"\n",
    "    if operator == '+':\n",
    "        return num1 + num2\n",
    "    if operator == '-':\n",
    "        return num1 - num2\n",
    "    if operator == '*':\n",
    "        return num1 * num2\n",
    "    if operator == '/':\n",
    "        return num1 // num2 # perhaps integer only for now\n",
    "    print('Bad operator:', operator)\n",
    "    return None # explicit return of None to signal error condition\n",
    "\n",
    "    # We don't normally print error messages from within a function like this, so a better\n",
    "    # solution would be to throw (raise) an exception. Try commenting out the print and\n",
    "    # return above.\n",
    "    raise ValueError(\"Unknown operator: \" + operator)"
   ]
  },
  {
   "cell_type": "code",
   "execution_count": 9,
   "id": "cfa4c0bc",
   "metadata": {},
   "outputs": [
    {
     "data": {
      "text/plain": [
       "11"
      ]
     },
     "execution_count": 9,
     "metadata": {},
     "output_type": "execute_result"
    }
   ],
   "source": [
    "calculate(3, 8, '+')"
   ]
  },
  {
   "cell_type": "code",
   "execution_count": 10,
   "id": "fd594b63",
   "metadata": {},
   "outputs": [
    {
     "name": "stdout",
     "output_type": "stream",
     "text": [
      "Bad operator: !\n"
     ]
    }
   ],
   "source": [
    "calculate(1, 2, '!')"
   ]
  },
  {
   "cell_type": "code",
   "execution_count": 5,
   "id": "db82af0a",
   "metadata": {},
   "outputs": [
    {
     "ename": "ValueError",
     "evalue": "Unknown operator: :",
     "output_type": "error",
     "traceback": [
      "\u001b[0;31m---------------------------------------------------------------------------\u001b[0m",
      "\u001b[0;31mValueError\u001b[0m                                Traceback (most recent call last)",
      "Input \u001b[0;32mIn [5]\u001b[0m, in \u001b[0;36m<module>\u001b[0;34m\u001b[0m\n\u001b[0;32m----> 1\u001b[0m \u001b[43mcalculate\u001b[49m\u001b[43m(\u001b[49m\u001b[38;5;241;43m1\u001b[39;49m\u001b[43m,\u001b[49m\u001b[43m \u001b[49m\u001b[38;5;241;43m2\u001b[39;49m\u001b[43m,\u001b[49m\u001b[43m \u001b[49m\u001b[38;5;124;43m'\u001b[39;49m\u001b[38;5;124;43m:\u001b[39;49m\u001b[38;5;124;43m'\u001b[39;49m\u001b[43m)\u001b[49m\n",
      "Input \u001b[0;32mIn [4]\u001b[0m, in \u001b[0;36mcalculate\u001b[0;34m(num1, num2, operator)\u001b[0m\n\u001b[1;32m     15\u001b[0m     \u001b[38;5;28;01mreturn\u001b[39;00m num1 \u001b[38;5;241m/\u001b[39m\u001b[38;5;241m/\u001b[39m num2 \u001b[38;5;66;03m# perhaps integer only for now\u001b[39;00m\n\u001b[1;32m     16\u001b[0m \u001b[38;5;66;03m#print('Bad operator')\u001b[39;00m\n\u001b[1;32m     17\u001b[0m \u001b[38;5;66;03m#return None # explicit return of None to signal error condition\u001b[39;00m\n\u001b[1;32m     18\u001b[0m \n\u001b[1;32m     19\u001b[0m \u001b[38;5;66;03m# We don't normally print error messages from within a function like this, so a better\u001b[39;00m\n\u001b[1;32m     20\u001b[0m \u001b[38;5;66;03m# solution would be to throw (raise) an exception. Try commenting out the print and\u001b[39;00m\n\u001b[1;32m     21\u001b[0m \u001b[38;5;66;03m# return above.\u001b[39;00m\n\u001b[0;32m---> 22\u001b[0m \u001b[38;5;28;01mraise\u001b[39;00m \u001b[38;5;167;01mValueError\u001b[39;00m(\u001b[38;5;124m\"\u001b[39m\u001b[38;5;124mUnknown operator: \u001b[39m\u001b[38;5;124m\"\u001b[39m \u001b[38;5;241m+\u001b[39m operator)\n",
      "\u001b[0;31mValueError\u001b[0m: Unknown operator: :"
     ]
    }
   ],
   "source": [
    "calculate(1, 2, ':')"
   ]
  },
  {
   "cell_type": "code",
   "execution_count": 35,
   "id": "42f8ecb8",
   "metadata": {},
   "outputs": [],
   "source": [
    "def is_pangram(sentence):\n",
    "    \"\"\"Return True if sentence is a pangram (contains all letters in alphabet).\"\"\"\n",
    "    # There are a number of possible solutions. Using a set is a great way to do \n",
    "    # this. \n",
    "    from string import ascii_lowercase # easy way to get 'abdef...xyz'\n",
    "    letters = set(ascii_lowercase) # make a set of 'a' .. 'z'\n",
    "    \n",
    "    for letter in sentence.lower(): # be sure to make it lower case, so 'A' and 'a' are same\n",
    "        letters.discard(letter)\n",
    "        \n",
    "    return len(letters) == 0 # if every letter has been removed, it's a pangram"
   ]
  },
  {
   "cell_type": "code",
   "execution_count": 36,
   "id": "d74ae19e",
   "metadata": {},
   "outputs": [
    {
     "data": {
      "text/plain": [
       "False"
      ]
     },
     "execution_count": 36,
     "metadata": {},
     "output_type": "execute_result"
    }
   ],
   "source": [
    "is_pangram('This sentence is not a pangram! It has no ecks or kyoo in it!')"
   ]
  },
  {
   "cell_type": "code",
   "execution_count": 38,
   "id": "b60ca19c",
   "metadata": {},
   "outputs": [
    {
     "data": {
      "text/plain": [
       "True"
      ]
     },
     "execution_count": 38,
     "metadata": {},
     "output_type": "execute_result"
    }
   ],
   "source": [
    "is_pangram('The wizard quickly jinxed the gnomes before they vaporized')"
   ]
  },
  {
   "cell_type": "code",
   "execution_count": 31,
   "id": "a0402fbb",
   "metadata": {},
   "outputs": [],
   "source": [
    "def sum_digits(num):\n",
    "    \"\"\"Sum up the digits of num, and keep summing until sum is a single digit.\"\"\"\n",
    "    # Here's an example where we can be PYTHONIC–instead of doing this arithmetically,\n",
    "    # which is hard, we can convert the number to a string and iterate through the digits\n",
    "    # one at a time...\n",
    "    print('sum_digits(', num, ')', sep='') # debug print–show how this function was called\n",
    "    total = 0\n",
    "    \n",
    "    for digit in str(num): # convert to str so we can iterate thru...\n",
    "        total += int(digit) # int-ify each digit since it's a string\n",
    "        \n",
    "    # Now, if total is more than one digit, sum up the digits of it\n",
    "    if total > 9:\n",
    "        return sum_digits(total) # this is called a recursive function call\n",
    "    \n",
    "    # if we get here, the the sum of the running total is a single digit\n",
    "    return total"
   ]
  },
  {
   "cell_type": "code",
   "execution_count": 32,
   "id": "f02367cd",
   "metadata": {},
   "outputs": [
    {
     "name": "stdout",
     "output_type": "stream",
     "text": [
      "sum_digits(1235)\n",
      "sum_digits(11)\n"
     ]
    },
    {
     "data": {
      "text/plain": [
       "2"
      ]
     },
     "execution_count": 32,
     "metadata": {},
     "output_type": "execute_result"
    }
   ],
   "source": [
    "sum_digits(1235)"
   ]
  },
  {
   "cell_type": "code",
   "execution_count": 35,
   "id": "07416d20",
   "metadata": {},
   "outputs": [
    {
     "name": "stdout",
     "output_type": "stream",
     "text": [
      "sum_digits(9467993)\n",
      "sum_digits(47)\n",
      "sum_digits(11)\n"
     ]
    },
    {
     "data": {
      "text/plain": [
       "2"
      ]
     },
     "execution_count": 35,
     "metadata": {},
     "output_type": "execute_result"
    }
   ],
   "source": [
    "sum_digits(9467993)"
   ]
  },
  {
   "cell_type": "code",
   "execution_count": 3,
   "id": "3ca65f13",
   "metadata": {},
   "outputs": [],
   "source": [
    "def add_commas(num):\n",
    "    \"\"\"Return a string version of the number with commas for thousands.\"\"\"\n",
    "    # This is really just some practice at manipulating strings. Python can do this for us\n",
    "    # automatically, so we wouldn't write a function for it.\n",
    "    num_str = str(num)[::-1] # string-ify the number and reverse it–much easier to process\n",
    "    comma_num = '' # we will return this string when we are done\n",
    "    \n",
    "    for index in range(0, len(num_str), 3):\n",
    "        comma_num += num_str[index:index + 3]\n",
    "        if index < len(num_str) - 3:\n",
    "            comma_num += ','\n",
    "\n",
    "    return comma_num[::-1]"
   ]
  },
  {
   "cell_type": "code",
   "execution_count": 8,
   "id": "36984723",
   "metadata": {},
   "outputs": [
    {
     "data": {
      "text/plain": [
       "'123,456,789'"
      ]
     },
     "execution_count": 8,
     "metadata": {},
     "output_type": "execute_result"
    }
   ],
   "source": [
    "add_commas(123456789)"
   ]
  },
  {
   "cell_type": "code",
   "execution_count": 16,
   "id": "7d1c13f6",
   "metadata": {},
   "outputs": [],
   "source": [
    "def collatz(n):\n",
    "    \"\"\"Apply Collatz until value is 1.\"\"\"\n",
    "    # I mentioned in class we don't typically use type() in a program,\n",
    "    # but here is a reasonable example. Once you take the Intermediate\n",
    "    # course, you'll likely use a different function...\n",
    "    # (raise will raise an exception, which is a good idea when a function\n",
    "    # can't do its job)\n",
    "    if type(n) != int:\n",
    "        raise TypeError('Collatz works on int only!')\n",
    "    if n < 1:\n",
    "        raise ValueError('n must be >=1')\n",
    "        \n",
    "    count = 0 # counter to limit output to 10 numbers per line\n",
    "    \n",
    "    while n > 1:\n",
    "        # below is a Python f-string (format string)\n",
    "        # anything in {}s is evaluated and replaced\n",
    "        # the :6d is a format string which right justifies the integer in 6 spaces\n",
    "        print(f'{n:6d}', end='')\n",
    "        count += 1\n",
    "        if count % 10 == 0:\n",
    "            print()\n",
    "        if n % 2 == 0:\n",
    "            n //= 2\n",
    "        else:\n",
    "            n = n * 3 + 1\n",
    "    print(f'{1:6d}')"
   ]
  },
  {
   "cell_type": "code",
   "execution_count": 17,
   "id": "aec00755",
   "metadata": {},
   "outputs": [
    {
     "name": "stdout",
     "output_type": "stream",
     "text": [
      "   311   934   467  1402   701  2104  1052   526   263   790\n",
      "   395  1186   593  1780   890   445  1336   668   334   167\n",
      "   502   251   754   377  1132   566   283   850   425  1276\n",
      "   638   319   958   479  1438   719  2158  1079  3238  1619\n",
      "  4858  2429  7288  3644  1822   911  2734  1367  4102  2051\n",
      "  6154  3077  9232  4616  2308  1154   577  1732   866   433\n",
      "  1300   650   325   976   488   244   122    61   184    92\n",
      "    46    23    70    35   106    53   160    80    40    20\n",
      "    10     5    16     8     4     2     1\n"
     ]
    }
   ],
   "source": [
    "collatz(311)"
   ]
  },
  {
   "cell_type": "markdown",
   "id": "ee52f0a5",
   "metadata": {},
   "source": [
    "## Lab: Variable Positional Arguments\n",
    "* write a function called __`product`__ which accepts a variable number of arguments and returns the product of all of its args. With no args, __`product()`__ should return 1    \n",
    "\n",
    "<pre><b>\n",
    ">>> product(3, 5)\n",
    "15\n",
    ">>> product(1, 2, 3)\n",
    "6\n",
    ">>> product(63, 12, 3, 0, 9)\n",
    "0\n",
    ">>> product()\n",
    "1\n",
    "</b></pre>"
   ]
  },
  {
   "cell_type": "code",
   "execution_count": 243,
   "id": "d1851557",
   "metadata": {},
   "outputs": [],
   "source": [
    "def product(x, y):\n",
    "    return x * y"
   ]
  },
  {
   "cell_type": "code",
   "execution_count": 245,
   "id": "c2938848",
   "metadata": {},
   "outputs": [
    {
     "data": {
      "text/plain": [
       "-12"
      ]
     },
     "execution_count": 245,
     "metadata": {},
     "output_type": "execute_result"
    }
   ],
   "source": [
    "product(3, -4)"
   ]
  },
  {
   "cell_type": "code",
   "execution_count": 246,
   "id": "0365c773",
   "metadata": {},
   "outputs": [],
   "source": [
    "def product(*terms):\n",
    "    total = 1\n",
    "    \n",
    "    for term in terms:\n",
    "        total *= term\n",
    "    \n",
    "    return total"
   ]
  },
  {
   "cell_type": "code",
   "execution_count": 247,
   "id": "1125c89d",
   "metadata": {},
   "outputs": [
    {
     "data": {
      "text/plain": [
       "1"
      ]
     },
     "execution_count": 247,
     "metadata": {},
     "output_type": "execute_result"
    }
   ],
   "source": [
    "product()"
   ]
  },
  {
   "cell_type": "code",
   "execution_count": 248,
   "id": "8e6b7770",
   "metadata": {},
   "outputs": [
    {
     "data": {
      "text/plain": [
       "24"
      ]
     },
     "execution_count": 248,
     "metadata": {},
     "output_type": "execute_result"
    }
   ],
   "source": [
    "product(1, 2, 3, 4)"
   ]
  },
  {
   "cell_type": "code",
   "execution_count": 249,
   "id": "2ac24a7f",
   "metadata": {},
   "outputs": [
    {
     "data": {
      "text/plain": [
       "0"
      ]
     },
     "execution_count": 249,
     "metadata": {},
     "output_type": "execute_result"
    }
   ],
   "source": [
    "product(1, 2, 3, 0, 77)"
   ]
  },
  {
   "cell_type": "markdown",
   "id": "b29ac327",
   "metadata": {},
   "source": [
    "# Lab: Variable Keyword Arguments\n",
    "* modify your __`calculate`__ function by adding variable keywords arguments to it and checking whether __`float = True`__, and if so, the calculation is done as floating point, rather than integer (of course this could be done with a default argument value, but don't do that)\n",
    "\n",
    "<pre><b>\n",
    "calculate(2, 4, '+') = 6\n",
    "calculate(3, 2, '/', float=True) = 1.5\n",
    "</b></pre>"
   ]
  },
  {
   "cell_type": "code",
   "execution_count": 24,
   "id": "428f6214",
   "metadata": {},
   "outputs": [],
   "source": [
    "def calculate(num1, num2, operator, **kwargs):\n",
    "    \"\"\"Perform addition, subtraction, multiplication, or divison.\n",
    "        \n",
    "    Anything else is an error. Print error message and return None in case of error.\n",
    "\n",
    "    Note that kwargs is overkill here. Would be better to have a default argument.\n",
    "    \"\"\"\n",
    "    do_float = kwargs.get('float') == True # must compare with True as called could say float=False\n",
    "    if do_float:\n",
    "        num1 = float(num1)\n",
    "    if operator == '+':\n",
    "        return num1 + num2\n",
    "    if operator == '-':\n",
    "        return num1 - num2\n",
    "    if operator == '*':\n",
    "        return num1 * num2\n",
    "    if operator == '/':\n",
    "        if do_float:\n",
    "            return num1 / num2 \n",
    "        else:\n",
    "            return num1 // num2 \n",
    "    raise ValueError(\"Unknown operator: \" + operator)"
   ]
  },
  {
   "cell_type": "code",
   "execution_count": 26,
   "id": "242e7159",
   "metadata": {},
   "outputs": [
    {
     "data": {
      "text/plain": [
       "2"
      ]
     },
     "execution_count": 26,
     "metadata": {},
     "output_type": "execute_result"
    }
   ],
   "source": [
    "calculate(5, 2, '/')"
   ]
  },
  {
   "cell_type": "code",
   "execution_count": 25,
   "id": "6d3e0d78",
   "metadata": {},
   "outputs": [
    {
     "data": {
      "text/plain": [
       "2.5"
      ]
     },
     "execution_count": 25,
     "metadata": {},
     "output_type": "execute_result"
    }
   ],
   "source": [
    "calculate(5, 2, '/', float=True)"
   ]
  },
  {
   "cell_type": "markdown",
   "id": "7312f786",
   "metadata": {},
   "source": [
    "## Lab: Exceptions\n",
    "* modify all of your functions to include exception handlers as needed, e.g.,\n",
    " * __`calculate()`__ should catch the __`ZeroDivisionError`__ exception and print an informative message if the user tries to divide by zero\n",
    " * __`sumdigits()`__ should not crash due to non-digits\n",
    " * also take this time to add _docstrings_ if you haven't already"
   ]
  },
  {
   "cell_type": "code",
   "execution_count": 27,
   "id": "5cc032ac",
   "metadata": {},
   "outputs": [],
   "source": [
    "def calculate(num1, num2, operator, **kwargs):\n",
    "    \"\"\"Perform addition, subtraction, multiplication, or divison.\n",
    "        \n",
    "    Anything else is an error. Print error message and return None in case of error.\n",
    "\n",
    "    Note that kwargs is overkill here. Would be better to have a default argument.\n",
    "    \"\"\"\n",
    "    do_float = kwargs.get('float') == True # must compare with True as called could say float=False\n",
    "    if do_float:\n",
    "        num1 = float(num1)\n",
    "    if operator == '+':\n",
    "        return num1 + num2\n",
    "    if operator == '-':\n",
    "        return num1 - num2\n",
    "    if operator == '*':\n",
    "        return num1 * num2\n",
    "    if operator == '/':\n",
    "        try:\n",
    "            if do_float:\n",
    "                return num1 / num2 \n",
    "            else:\n",
    "                return num1 // num2 \n",
    "        except ZeroDivisionError:\n",
    "            print('Cannot divide by 0!')\n",
    "            return None\n",
    "    raise ValueError(\"Unknown operator: \" + operator)"
   ]
  },
  {
   "cell_type": "code",
   "execution_count": 29,
   "id": "3f6b255c",
   "metadata": {},
   "outputs": [
    {
     "name": "stdout",
     "output_type": "stream",
     "text": [
      "Cannot divide by 0!\n"
     ]
    }
   ],
   "source": [
    "calculate(3, 0, '/')"
   ]
  },
  {
   "cell_type": "code",
   "execution_count": 33,
   "id": "70dedc04",
   "metadata": {},
   "outputs": [],
   "source": [
    "def is_pangram(sentence):\n",
    "    \"\"\"Return True if sentence is a pangram (contains all letters in alphabet).\"\"\"\n",
    "    # There are a number of possible solutions. Using a set is a great way to do \n",
    "    # this. \n",
    "    from string import ascii_lowercase # easy way to get 'abdef...xyz'\n",
    "    letters = set(ascii_lowercase) # make a set of 'a' .. 'z'\n",
    "    \n",
    "    try:\n",
    "        for letter in sentence.lower(): # be sure to make it lower case, so 'A' and 'a' are same\n",
    "            letters.discard(letter)\n",
    "    except AttributeError:\n",
    "        print('Sentence does not seem to be iterable!')\n",
    "    else:\n",
    "        return len(letters) == 0 # if every letter has been removed, it's a pangram"
   ]
  },
  {
   "cell_type": "code",
   "execution_count": 34,
   "id": "d21f40bd",
   "metadata": {},
   "outputs": [
    {
     "name": "stdout",
     "output_type": "stream",
     "text": [
      "Sentence does not seem to be iterable!\n"
     ]
    }
   ],
   "source": [
    "is_pangram(1)"
   ]
  },
  {
   "cell_type": "code",
   "execution_count": 39,
   "id": "358aaf6b",
   "metadata": {},
   "outputs": [],
   "source": [
    "def sum_digits(num):\n",
    "    \"\"\"Sum up the digits of num, and keep summing until sum is a single digit.\"\"\"\n",
    "    # Here's an example where we can be PYTHONIC–instead of doing this arithmetically,\n",
    "    # which is hard, we can convert the number to a string and iterate through the digits\n",
    "    # one at a time...\n",
    "    print('sum_digits(', num, ')', sep='') # debug print–show how this function was called\n",
    "    total = 0\n",
    "    \n",
    "    try:\n",
    "        for digit in str(num): # convert to str so we can iterate thru...\n",
    "            total += int(digit) # int-ify each digit since it's a string\n",
    "    except ValueError:\n",
    "        print('Bad digit found:', digit)\n",
    "    else:    \n",
    "        # Now, if total is more than one digit, sum up the digits of it\n",
    "        if total > 9:\n",
    "            return sum_digits(total) # this is called a recursive function call\n",
    "    \n",
    "        # if we get here, the the sum of the running total is a single digit\n",
    "        return total"
   ]
  },
  {
   "cell_type": "code",
   "execution_count": 44,
   "id": "bde2efe8",
   "metadata": {},
   "outputs": [
    {
     "name": "stdout",
     "output_type": "stream",
     "text": [
      "sum_digits(199999)\n",
      "sum_digits(46)\n",
      "sum_digits(10)\n"
     ]
    },
    {
     "data": {
      "text/plain": [
       "1"
      ]
     },
     "execution_count": 44,
     "metadata": {},
     "output_type": "execute_result"
    }
   ],
   "source": [
    "sum_digits(199999)"
   ]
  },
  {
   "cell_type": "code",
   "execution_count": 45,
   "id": "f604609d",
   "metadata": {},
   "outputs": [
    {
     "name": "stdout",
     "output_type": "stream",
     "text": [
      "sum_digits(123x)\n",
      "Bad digit found: x\n"
     ]
    }
   ],
   "source": [
    "sum_digits('123x')"
   ]
  },
  {
   "cell_type": "code",
   "execution_count": 250,
   "id": "77295bd3",
   "metadata": {},
   "outputs": [],
   "source": [
    "biglist = [1] * 1_000_000"
   ]
  },
  {
   "cell_type": "code",
   "execution_count": 251,
   "id": "e0566346",
   "metadata": {},
   "outputs": [
    {
     "data": {
      "text/plain": [
       "1000000"
      ]
     },
     "execution_count": 251,
     "metadata": {},
     "output_type": "execute_result"
    }
   ],
   "source": [
    "len(biglist)"
   ]
  },
  {
   "cell_type": "code",
   "execution_count": 252,
   "id": "cef8c450",
   "metadata": {},
   "outputs": [],
   "source": [
    "def func(a, b, c):\n",
    "    print(a, b, c)"
   ]
  },
  {
   "cell_type": "code",
   "execution_count": 253,
   "id": "ccb09f32",
   "metadata": {},
   "outputs": [
    {
     "name": "stdout",
     "output_type": "stream",
     "text": [
      "1 2 3\n"
     ]
    }
   ],
   "source": [
    "func(1, 2, 3)"
   ]
  },
  {
   "cell_type": "code",
   "execution_count": 254,
   "id": "dd7bb9d9",
   "metadata": {},
   "outputs": [
    {
     "name": "stdout",
     "output_type": "stream",
     "text": [
      "2 3 1\n"
     ]
    }
   ],
   "source": [
    "func(c=1, a=2, b=3) # meaning ONE of keywords arguments"
   ]
  },
  {
   "cell_type": "code",
   "execution_count": 255,
   "id": "01689569",
   "metadata": {},
   "outputs": [
    {
     "name": "stdout",
     "output_type": "stream",
     "text": [
      "1\n",
      "\n",
      "2\n",
      "\n",
      "3\n"
     ]
    }
   ],
   "source": [
    "print(1, 2, 3, sep='\\n\\n') # meaning TWO of keywords arguments"
   ]
  },
  {
   "cell_type": "code",
   "execution_count": 256,
   "id": "117c67b0",
   "metadata": {},
   "outputs": [
    {
     "name": "stdout",
     "output_type": "stream",
     "text": [
      "Enter a number: three\n"
     ]
    },
    {
     "ename": "ValueError",
     "evalue": "invalid literal for int() with base 10: 'three'",
     "output_type": "error",
     "traceback": [
      "\u001b[0;31m---------------------------------------------------------------------------\u001b[0m",
      "\u001b[0;31mValueError\u001b[0m                                Traceback (most recent call last)",
      "Input \u001b[0;32mIn [256]\u001b[0m, in \u001b[0;36m<module>\u001b[0;34m\u001b[0m\n\u001b[0;32m----> 1\u001b[0m number \u001b[38;5;241m=\u001b[39m \u001b[38;5;28;43mint\u001b[39;49m\u001b[43m(\u001b[49m\u001b[38;5;28;43minput\u001b[39;49m\u001b[43m(\u001b[49m\u001b[38;5;124;43m'\u001b[39;49m\u001b[38;5;124;43mEnter a number: \u001b[39;49m\u001b[38;5;124;43m'\u001b[39;49m\u001b[43m)\u001b[49m\u001b[43m)\u001b[49m\n",
      "\u001b[0;31mValueError\u001b[0m: invalid literal for int() with base 10: 'three'"
     ]
    }
   ],
   "source": [
    "number = int(input('Enter a number: '))"
   ]
  },
  {
   "cell_type": "code",
   "execution_count": 257,
   "id": "e8e7a0a5",
   "metadata": {},
   "outputs": [],
   "source": [
    "d = {}\n",
    "if 'debug' in d:\n",
    "    d['debug']"
   ]
  },
  {
   "cell_type": "code",
   "execution_count": null,
   "id": "f323b7aa",
   "metadata": {},
   "outputs": [],
   "source": []
  }
 ],
 "metadata": {
  "kernelspec": {
   "display_name": "Python 3 (ipykernel)",
   "language": "python",
   "name": "python3"
  },
  "language_info": {
   "codemirror_mode": {
    "name": "ipython",
    "version": 3
   },
   "file_extension": ".py",
   "mimetype": "text/x-python",
   "name": "python",
   "nbconvert_exporter": "python",
   "pygments_lexer": "ipython3",
   "version": "3.10.2"
  }
 },
 "nbformat": 4,
 "nbformat_minor": 5
}
